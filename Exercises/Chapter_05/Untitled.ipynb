{
 "cells": [
  {
   "cell_type": "markdown",
   "metadata": {},
   "source": [
    "Measurements of a cross section for nuclear reactions yields the following\n",
    "data.\n",
    "\n",
    "| $\\Theta_{i}$ | Cross section | Error |\n",
    "|:------:|:-------------:|:-----:|\n",
    "|   30$^{\\circ}$   |       11      |  1\\.5  |\n",
    "|   45$^{\\circ}$   |       13      |  1\\.0  |\n",
    "|   90$^{\\circ}$   |       17      |  2\\.0  |\n",
    "|   120$^{\\circ}$  |       17      |  2\\.0  |\n",
    "|   150$^{\\circ}$  |       14      |  1\\.5  |\n",
    "\n",
    "The units of cross section are 10$^{-30}\\,$cm$^{2}$/steradian. Assume the quoted errors correspond to one Gaussian standard deviation. The assumed model has the form\n",
    "\n"
   ]
  },
  {
   "cell_type": "code",
   "execution_count": null,
   "metadata": {
    "collapsed": true
   },
   "outputs": [],
   "source": []
  }
 ],
 "metadata": {
  "kernelspec": {
   "display_name": "Python 2",
   "language": "python",
   "name": "python2"
  },
  "language_info": {
   "codemirror_mode": {
    "name": "ipython",
    "version": 2
   },
   "file_extension": ".py",
   "mimetype": "text/x-python",
   "name": "python",
   "nbconvert_exporter": "python",
   "pygments_lexer": "ipython2",
   "version": "2.7.13"
  }
 },
 "nbformat": 4,
 "nbformat_minor": 2
}
