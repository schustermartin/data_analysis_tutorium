{
 "cells": [
  {
   "cell_type": "markdown",
   "metadata": {},
   "source": [
    "# Exercise 5.1\n"
   ]
  },
  {
   "cell_type": "markdown",
   "metadata": {},
   "source": [
    "_Follow the steps in the script to fit a Sigmoid function to the following data:_\n",
    "\n",
    "| Energy ($E_{i}$) | Trials($N_{i}$) | Successes ($r_{i}$) |\n",
    "|:------------------:|:-----------------:|:---------------------:|\n",
    "| 0.5              | 100             | 0                   |\n",
    "| 1.0              | 100             | 4                   |\n",
    "| 1.5              | 100             | 22                  |\n",
    "| 2.0              | 100             | 55                  |\n",
    "| 2.5              | 100             | 80                  |\n",
    "| 3.0              | 100             | 97                  |\n",
    "| 3.5              | 100             | 99                  |\n",
    "| 4.0              | 100             | 99                  |\n",
    "\n",
    "_a) Find the posterior probability distribution for the parameters\n",
    "($A$,$E_{0}$)_\n",
    "\n",
    "_b) Define a suitable test statistic and find the frequentist 68 % Confidence\n",
    "Level region for ($A$,$E_{0}$)_\n"
   ]
  },
  {
   "cell_type": "code",
   "execution_count": null,
   "metadata": {
    "collapsed": true
   },
   "outputs": [],
   "source": []
  }
 ],
 "metadata": {
  "kernelspec": {
   "display_name": "Python 2",
   "language": "python",
   "name": "python2"
  },
  "language_info": {
   "codemirror_mode": {
    "name": "ipython",
    "version": 2
   },
   "file_extension": ".py",
   "mimetype": "text/x-python",
   "name": "python",
   "nbconvert_exporter": "python",
   "pygments_lexer": "ipython2",
   "version": "2.7.13"
  }
 },
 "nbformat": 4,
 "nbformat_minor": 2
}
