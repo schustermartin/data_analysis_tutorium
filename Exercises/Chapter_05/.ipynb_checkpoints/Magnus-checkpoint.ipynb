{
 "cells": [
  {
   "cell_type": "code",
   "execution_count": 1,
   "metadata": {
    "collapsed": true
   },
   "outputs": [],
   "source": [
    "import numpy as np\n",
    "from numpy.linalg import inv\n",
    "import matplotlib.pyplot as plt\n",
    "import scipy.optimize as opt\n",
    "\n",
    "xVector = np.linspace(.1, .95, 18)\n",
    "yVector = np.array([11.3, 19.9, 24.9, 31.1, 37.2, 36, 59.1, 77.2, 96, 90.3, 72.2, 89.9, 91, 102, 109.7, 116, 126.6, 139.8])\n",
    "sigma = 4 "
   ]
  },
  {
   "cell_type": "code",
   "execution_count": 9,
   "metadata": {},
   "outputs": [
    {
     "data": {
      "image/png": "[encoded data removed]",
      "text/plain": [
       "<matplotlib.figure.Figure at 0x7fb78bac2450>"
      ]
     },
     "metadata": {},
     "output_type": "display_data"
    }
   ],
   "source": [
    "plt.scatter(xVector, yVector)\n",
    "plt.show()"
   ]
  },
  {
   "cell_type": "code",
   "execution_count": 2,
   "metadata": {
    "collapsed": true
   },
   "outputs": [],
   "source": [
    "def FuncBackground(params, x=xVector, y=yVector):\n",
    "\n",
    "    A, B, C = params\n",
    "\n",
    "    modelValue = A + B*x + C*np.power(x, 2)\n",
    "    chiSqrd = np.sum(np.power((modelValue - y) / sigma, 2))\n",
    "    return chiSqrd\n",
    "\n",
    "def FuncFull(params, x=xVector, y=yVector):\n",
    "\n",
    "    A, B, C, D, E, F = params\n",
    "\n",
    "    modelValue = A + B*x + C*np.power(x, 2) + D / (np.power(x - E, 2) + F**2)\n",
    "    chiSqrd = np.sum(np.power((modelValue - y) / sigma, 2))\n",
    "\n",
    "    return chiSqrd "
   ]
  },
  {
   "cell_type": "code",
   "execution_count": 16,
   "metadata": {},
   "outputs": [
    {
     "name": "stdout",
     "output_type": "stream",
     "text": [
      "('Results from background plus signal:\\n\\n',       fun: 14.992304973077673\n",
      " hess_inv: array([[  2.43016975e+00,  -7.69283190e+00,   6.69643428e+00,\n",
      "         -7.68998568e-04,  -7.64316151e-04,   2.79993198e-04],\n",
      "       [ -7.69283190e+00,   4.56830611e+01,  -4.20886052e+01,\n",
      "         -1.14830527e-01,   4.16621864e-03,   1.94446997e-02],\n",
      "       [  6.69643428e+00,  -4.20886052e+01,   3.95664503e+01,\n",
      "          1.08655850e-01,  -3.95429545e-03,  -1.83865474e-02],\n",
      "       [ -7.68998568e-04,  -1.14830527e-01,   1.08655850e-01,\n",
      "          1.38906017e-03,  -2.66719686e-05,  -2.75285358e-04],\n",
      "       [ -7.64316151e-04,   4.16621864e-03,  -3.95429545e-03,\n",
      "         -2.66719686e-05,   2.62005410e-05,   4.10041161e-06],\n",
      "       [  2.79993198e-04,   1.94446997e-02,  -1.83865474e-02,\n",
      "         -2.75285358e-04,   4.10041161e-06,   5.92663706e-05]])\n",
      "      jac: array([ -4.88758087e-06,  -3.57627869e-06,  -2.14576721e-06,\n",
      "        -3.83377075e-04,   5.43594360e-04,  -8.82506371e-04])\n",
      "  message: 'Desired error not necessarily achieved due to precision loss.'\n",
      "     nfev: 841\n",
      "      nit: 46\n",
      "     njev: 104\n",
      "   status: 2\n",
      "  success: False\n",
      "        x: array([  6.70634459e+00,   5.67944123e+01,   8.55070969e+01,\n",
      "         1.55492659e-01,   4.93323891e-01,  -6.15689927e-02]))\n"
     ]
    }
   ],
   "source": [
    "minBackground = opt.minimize(FuncBackground, np.array([1,1,1]))\n",
    "\n",
    "fullInput = np.concatenate([minBackground.x, np.array([1,1,1])])\n",
    "\n",
    "p0 = [5.0,50.0,50.0,0.5,0.5,0.5]\n",
    "minFull = opt.minimize( FuncFull, p0 )\n",
    "\n",
    "# print('Results from the background only:\\n\\n',minBackground,'\\n')\n",
    "print('Results from background plus signal:\\n\\n',minFull) "
   ]
  },
  {
   "cell_type": "code",
   "execution_count": null,
   "metadata": {
    "collapsed": true
   },
   "outputs": [],
   "source": []
  },
  {
   "cell_type": "code",
   "execution_count": 1,
   "metadata": {},
   "outputs": [
    {
     "ename": "SyntaxError",
     "evalue": "duplicate argument 'x' in function definition (<ipython-input-1-da11670c5abf>, line 18)",
     "output_type": "error",
     "traceback": [
      "\u001b[0;36m  File \u001b[0;32m\"<ipython-input-1-da11670c5abf>\"\u001b[0;36m, line \u001b[0;32m18\u001b[0m\n\u001b[0;31m    def FuncFull(x, params, x=xVector, y=yVector):\u001b[0m\n\u001b[0;31mSyntaxError\u001b[0m\u001b[0;31m:\u001b[0m duplicate argument 'x' in function definition\n"
     ]
    }
   ],
   "source": [
    "import numpy as np\n",
    "from numpy.linalg import inv\n",
    "import matplotlib.pyplot as plt\n",
    "import scipy.optimize as opt\n",
    "\n",
    "xVector = np.linspace(.1, .95, 18)\n",
    "yVector = np.array([11.3, 19.9, 24.9, 31.1, 37.2, 36, 59.1, 77.2, 96, 90.3, 72.2, 89.9, 91, 102, 109.7, 116, 126.6, 139.8])\n",
    "sigma = 4\n",
    "\n",
    "def FuncBackground(params, x=xVector, y=yVector):\n",
    "\n",
    "    A, B, C = params\n",
    "\n",
    "    modelValue = A + B*x + C*np.power(x, 2)\n",
    "    chiSqrd = np.sum(np.power((modelValue - y) / sigma, 2))\n",
    "    return chiSqrd\n",
    "\n",
    "def FuncFull(x, params, x=xVector, y=yVector):\n",
    "    A, B, C, D, E, F = params\n",
    "\n",
    "    modelValue = A + B*x + C*np.power(x, 2) + D / (np.power(x - E, 2) + F**2)\n",
    "    chiSqrd = np.sum(np.power((modelValue - y) / sigma, 2))\n",
    "\n",
    "    return chiSqrd\n",
    "\n",
    "minBackground = opt.minimize(FuncBackground, np.array([1,1,1]))\n",
    "\n",
    "# fullInput = np.concatenate([minBackground.x, np.array([1,1,1])])\n",
    "minFull = opt.minimize(FuncFull, np.array([5,50,70,0.5,0.5,0.09]))\n",
    "\n",
    "print('Results from the background only:\\n\\n',minBackground,'\\n')\n",
    "print('Results from background plus signal:\\n\\n',minFull)\n"
   ]
  },
  {
   "cell_type": "code",
   "execution_count": 4,
   "metadata": {},
   "outputs": [],
   "source": [
    "def model_B(x, params):\n",
    "    A, B, C, D, E, F = params\n",
    "    modelValue = A + B*x + C*np.power(x, 2) + D / (np.power(x - E, 2) + F**2)\n",
    "    return modelValue"
   ]
  },
  {
   "cell_type": "code",
   "execution_count": 12,
   "metadata": {},
   "outputs": [
    {
     "name": "stdout",
     "output_type": "stream",
     "text": [
      "18\n"
     ]
    },
    {
     "data": {
      "image/png": "[encoded data removed]",
      "text/plain": [
       "<matplotlib.figure.Figure at 0x7f15233579d0>"
      ]
     },
     "metadata": {},
     "output_type": "display_data"
    }
   ],
   "source": [
    "plt.scatter(xVector, yVector)\n",
    "xplot = np.linspace(.1, .95, 18)\n",
    "yplot = []\n",
    "for ix in range(0,len(xplot)):\n",
    "    yplot.append(model_B(xplot[ix], [5,40,100,0.4,0.5,0.1]))\n",
    "print(len(yplot))\n",
    "plt.plot(xplot, yplot, label=\"p0\")\n",
    "plt.plot(xplot, yfit, label=\"fit\" )\n",
    "plt.show()"
   ]
  },
  {
   "cell_type": "code",
   "execution_count": 13,
   "metadata": {},
   "outputs": [
    {
     "ename": "SyntaxError",
     "evalue": "invalid syntax (<ipython-input-13-84c963772c84>, line 1)",
     "output_type": "error",
     "traceback": [
      "\u001b[0;36m  File \u001b[0;32m\"<ipython-input-13-84c963772c84>\"\u001b[0;36m, line \u001b[0;32m1\u001b[0m\n\u001b[0;31m    for x in 1:len(xplot):\u001b[0m\n\u001b[0m                         ^\u001b[0m\n\u001b[0;31mSyntaxError\u001b[0m\u001b[0;31m:\u001b[0m invalid syntax\n"
     ]
    }
   ],
   "source": []
  },
  {
   "cell_type": "code",
   "execution_count": 22,
   "metadata": {},
   "outputs": [
    {
     "name": "stdout",
     "output_type": "stream",
     "text": [
      "('Results from the background only:\\n\\n',       fun: 92.50651485101776\n",
      " hess_inv: array([[   7.50646895,  -30.11367754,   25.48773848],\n",
      "       [ -30.11367754,  141.38227268, -128.51487865],\n",
      "       [  25.48773848, -128.51487865,  122.25448372]])\n",
      "      jac: array([  0.00000000e+00,  -9.53674316e-07,  -1.90734863e-06])\n",
      "  message: 'Optimization terminated successfully.'\n",
      "     nfev: 100\n",
      "      nit: 15\n",
      "     njev: 20\n",
      "   status: 0\n",
      "  success: True\n",
      "        x: array([  -7.26757051,  173.46704786,  -28.87765648]), '\\n')\n",
      "('Results from background plus signal:\\n\\n',       fun: 14.99230497314099\n",
      " hess_inv: array([[  1.66185865e+00,  -1.77365379e+00,  -6.91690460e-01,\n",
      "         -2.05867845e-02,   5.66969279e-04,  -3.46688367e-03],\n",
      "       [ -1.77365379e+00,   1.89863252e+00,   7.41153296e-01,\n",
      "          2.36469955e-02,  -5.31565321e-04,   4.07313085e-03],\n",
      "       [ -6.91690460e-01,   7.41153296e-01,   2.89443409e-01,\n",
      "          9.40425026e-03,  -2.09591372e-04,   1.62722285e-03],\n",
      "       [ -2.05867845e-02,   2.36469955e-02,   9.40425026e-03,\n",
      "          8.18243786e-04,   3.85372911e-06,   1.73326770e-04],\n",
      "       [  5.66969279e-04,  -5.31565321e-04,  -2.09591372e-04,\n",
      "          3.85372911e-06,   2.42334996e-05,   1.67069322e-06],\n",
      "       [ -3.46688367e-03,   4.07313085e-03,   1.62722285e-03,\n",
      "          1.73326770e-04,   1.67069322e-06,   4.09147558e-05]])\n",
      "      jac: array([ -3.57627869e-06,  -1.31130219e-06,   8.34465027e-07,\n",
      "        -2.37345695e-04,   1.12056732e-04,   1.02233887e-03])\n",
      "  message: 'Desired error not necessarily achieved due to precision loss.'\n",
      "     nfev: 1343\n",
      "      nit: 30\n",
      "     njev: 167\n",
      "   status: 2\n",
      "  success: False\n",
      "        x: array([  6.70631483e+00,   5.67946955e+01,   8.55068290e+01,\n",
      "         1.55491514e-01,   4.93323867e-01,   6.15687649e-02]))\n"
     ]
    }
   ],
   "source": [
    "import numpy as np\n",
    "from numpy.linalg import inv\n",
    "import matplotlib.pyplot as plt\n",
    "import scipy.optimize as opt\n",
    "\n",
    "xVector = np.linspace(.1, .95, 18)\n",
    "yVector = np.array([11.3, 19.9, 24.9, 31.1, 37.2, 36, 59.1, 77.2, 96, 90.3, 72.2, 89.9, 91, 102, 109.7, 116, 126.6, 139.8])\n",
    "sigma = 4.\n",
    "\n",
    "def FuncBackground(params, x=xVector, y=yVector):\n",
    "\n",
    "    A, B, C = params\n",
    "\n",
    "    modelValue = A + B*x + C*np.power(x, 2)\n",
    "    chiSqrd = np.sum(np.power((modelValue - y) / sigma, 2))\n",
    "    return chiSqrd\n",
    "\n",
    "def FuncFull(params, x=xVector, y=yVector):\n",
    "\n",
    "    A, B, C, D, E, F = params\n",
    "    chiSqrd = 0.\n",
    "    for i in range(0, len(x)):\n",
    "        modelValue = A + B*x[i] + C*np.power(x[i], 2) + D / (np.power(x[i] - E, 2) + np.power(F,2))\n",
    "        chiSqrd += np.power((modelValue - y[i]) / sigma, 2)\n",
    "\n",
    "    return chiSqrd\n",
    "\n",
    "minBackground = opt.minimize(FuncBackground, np.array([1,1,1]))\n",
    "\n",
    "# fullInput = np.concatenate([minBackground.x, np.array([1,1,1])])\n",
    "minFull = opt.minimize(FuncFull, np.array([5.,40.,100.,0.4,0.5,0.09]))\n",
    "\n",
    "print('Results from the background only:\\n\\n',minBackground,'\\n')\n",
    "print('Results from background plus signal:\\n\\n',minFull) "
   ]
  },
  {
   "cell_type": "code",
   "execution_count": null,
   "metadata": {
    "collapsed": true
   },
   "outputs": [],
   "source": []
  },
  {
   "cell_type": "code",
   "execution_count": null,
   "metadata": {
    "collapsed": true
   },
   "outputs": [],
   "source": []
  }
 ],
 "metadata": {
  "kernelspec": {
   "display_name": "Python 2",
   "language": "python",
   "name": "python2"
  },
  "language_info": {
   "codemirror_mode": {
    "name": "ipython",
    "version": 2
   },
   "file_extension": ".py",
   "mimetype": "text/x-python",
   "name": "python",
   "nbconvert_exporter": "python",
   "pygments_lexer": "ipython2",
   "version": "2.7.13"
  }
 },
 "nbformat": 4,
 "nbformat_minor": 2
}
