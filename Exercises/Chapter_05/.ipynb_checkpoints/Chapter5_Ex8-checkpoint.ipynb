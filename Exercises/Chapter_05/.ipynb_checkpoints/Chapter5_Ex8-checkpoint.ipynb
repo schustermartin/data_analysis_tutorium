{
 "cells": [
  {
   "cell_type": "code",
   "execution_count": null,
   "metadata": {
    "collapsed": true
   },
   "outputs": [],
   "source": [
    "import numpy as np\n",
    "import matplotlib.pyplot as plt\n",
    "import math\n",
    "import progressbar\n",
    "from mpl_toolkits.mplot3d import axes3d\n",
    "from matplotlib import cm\n",
    "from scipy.stats import binom \n",
    "from scipy.stats import norm\n",
    "widgets = [\n",
    "        'Test: ', progressbar.Percentage(),\n",
    "        ' ', progressbar.Bar(marker=progressbar.RotatingMarker()),\n",
    "        ' ', progressbar.ETA()]"
   ]
  },
  {
   "cell_type": "code",
   "execution_count": null,
   "metadata": {
    "collapsed": true
   },
   "outputs": [],
   "source": [
    "x_values = np.array([0.1,0.15,0.2,0.25,0..4,0.35,0.4,0.45,0.5,0.55,0.6,0.65,0.7,0.75,0.8,0.85,0.9,0.95])\n",
    "y_values = np.array([11.3,19.9,24.9,31.1,37.2,36.0,59.1,77.2,96.0,90.3,72.2,89.9,91.0,102.0,109.7,116.0,126.6,139.8])"
   ]
  },
  {
   "cell_type": "code",
   "execution_count": null,
   "metadata": {
    "collapsed": true
   },
   "outputs": [],
   "source": [
    "\n",
    "def gaus(x,mean,sigma):\n",
    "    factor1 = 1.0/(math.sqrt(2*math.pi)*sigma)\n",
    "    factor2 = math.exp(-(x-mean)*(x-mean)/(2.0*sigma*sigma))                  \n",
    "    return factor1*factor2\n",
    "\n",
    "def PDF(angles, data, sigmas, A, B, C):\n",
    "    result = 1.0\n",
    "    for i in range(len(angles)):\n",
    "        result= result*gaus(data[i],model(angles[i],A,B,C),sigmas[i])\n",
    "    return result"
   ]
  }
 ],
 "metadata": {
  "kernelspec": {
   "display_name": "Python 2",
   "language": "python",
   "name": "python2"
  },
  "language_info": {
   "codemirror_mode": {
    "name": "ipython",
    "version": 2
   },
   "file_extension": ".py",
   "mimetype": "text/x-python",
   "name": "python",
   "nbconvert_exporter": "python",
   "pygments_lexer": "ipython2",
   "version": "2.7.13"
  }
 },
 "nbformat": 4,
 "nbformat_minor": 2
}
