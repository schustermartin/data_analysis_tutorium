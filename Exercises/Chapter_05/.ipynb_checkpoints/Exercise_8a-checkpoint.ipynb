{
 "cells": [
  {
   "cell_type": "code",
   "execution_count": 1,
   "metadata": {},
   "outputs": [
    {
     "name": "stderr",
     "output_type": "stream",
     "text": [
      "\u001b[1m\u001b[36mINFO: \u001b[39m\u001b[22m\u001b[36mPrecompiling module Plots.\n",
      "\u001b[39m\n",
      "WARNING: deprecated syntax \"function .*(...)\".\n",
      "Use \"function Base.broadcast(::typeof(*), ...)\" instead.\n",
      "\n",
      "WARNING: deprecated syntax \"function .*(...)\".\n",
      "Use \"function Base.broadcast(::typeof(*), ...)\" instead.\n",
      "\n",
      "WARNING: deprecated syntax \"function .*(...)\".\n",
      "Use \"function Base.broadcast(::typeof(*), ...)\" instead.\n",
      "\n",
      "WARNING: deprecated syntax \"function .*(...)\".\n",
      "Use \"function Base.broadcast(::typeof(*), ...)\" instead.\n",
      "\n",
      "WARNING: deprecated syntax \"function .*(...)\".\n",
      "Use \"function Base.broadcast(::typeof(*), ...)\" instead.\n",
      "\n",
      "WARNING: deprecated syntax \"function ./(...)\".\n",
      "Use \"function Base.broadcast(::typeof(/), ...)\" instead.\n",
      "\u001b[1m\u001b[36mINFO: \u001b[39m\u001b[22m\u001b[36mPrecompiling module Optim.\n",
      "\u001b[39m"
     ]
    }
   ],
   "source": [
    "using Plots\n",
    "#Pkg.add(\"LinearLeastSquares\")\n",
    "#Pkg.update()\n",
    "using LinearLeastSquares\n",
    "using Optim"
   ]
  },
  {
   "cell_type": "code",
   "execution_count": 2,
   "metadata": {},
   "outputs": [
    {
     "data": {
      "text/plain": [
       "0.1:0.004271356783919598:0.95"
      ]
     },
     "execution_count": 2,
     "metadata": {},
     "output_type": "execute_result"
    }
   ],
   "source": [
    "x_values = [0.1,0.15,0.2,0.25,0.3,0.35,0.4,0.45,0.5,0.55,0.6,0.65,0.7,0.75,0.8,0.85,0.9,0.95]\n",
    "y_values = [11.3,19.9,24.9,31.1,37.2,36.0,59.1,77.2,96.0,90.3,72.2,89.9,91.0,102.0,109.7,116.0,126.6,139.8]\n",
    "x_values_cont = linspace(x_values[1],x_values[end],200)"
   ]
  },
  {
   "cell_type": "code",
   "execution_count": 3,
   "metadata": {},
   "outputs": [
    {
     "name": "stderr",
     "output_type": "stream",
     "text": [
      "\u001b[1m\u001b[36mINFO: \u001b[39m\u001b[22m\u001b[36mRecompiling stale cache file /user/.julia/lib/v0.6/PyPlot.ji for module PyPlot.\n",
      "\u001b[39m"
     ]
    },
    {
     "data": {
      "text/html": [
       "<img src=\"data:image/png;base64,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\" />"
      ]
     },
     "execution_count": 3,
     "metadata": {},
     "output_type": "execute_result"
    }
   ],
   "source": [
    "scatter(x_values,y_values)"
   ]
  },
  {
   "cell_type": "code",
   "execution_count": 51,
   "metadata": {},
   "outputs": [
    {
     "data": {
      "text/plain": [
       "model_b (generic function with 2 methods)"
      ]
     },
     "execution_count": 51,
     "metadata": {},
     "output_type": "execute_result"
    }
   ],
   "source": [
    "function model_a(x,p)\n",
    "    A=p[1]\n",
    "    B=p[2]\n",
    "    C=p[3]\n",
    "    @. return A+B*x+C*x^2\n",
    "end\n",
    "\n",
    "function model_b(x,p)\n",
    "    A=p[1]\n",
    "    B=p[2]\n",
    "    C=p[3]\n",
    "    D=p[4]\n",
    "    x0=p[5]\n",
    "    L=p[6]\n",
    "    sum1= @. A+B*x+C*x^2\n",
    "    sum2= @. D/((x-x0)^2+L^2)\n",
    "    return sum1+sum2\n",
    "end"
   ]
  },
  {
   "cell_type": "code",
   "execution_count": 52,
   "metadata": {},
   "outputs": [
    {
     "data": {
      "text/plain": [
       "optimize_chi2 (generic function with 1 method)"
      ]
     },
     "execution_count": 52,
     "metadata": {},
     "output_type": "execute_result"
    }
   ],
   "source": [
    "function chi2_a(x_values,y_values,model,p)\n",
    "    chi2=0.0\n",
    "    for (i, x) in enumerate(x_values)\n",
    "        chi2+=(y_values[i]-model(x,p))^2/(4.0^2)\n",
    "    end\n",
    "    return chi2\n",
    "end\n",
    "\n",
    "function optimize_chi2(x_values::Array{T1,N}, y_values::Array{T2, N}, model::Function, p0::Array{T3,N}; minimizer=NelderMead()) where T1<:Real where T2<:Real where T3<:Real where N\n",
    "        return optimize(p->chi2_a(x_values, y_values, model, p), p0, minimizer)\n",
    "end\n"
   ]
  },
  {
   "cell_type": "code",
   "execution_count": null,
   "metadata": {
    "collapsed": true
   },
   "outputs": [],
   "source": []
  },
  {
   "cell_type": "code",
   "execution_count": 76,
   "metadata": {},
   "outputs": [
    {
     "data": {
      "text/plain": [
       "Results of Optimization Algorithm\n",
       " * Algorithm: Nelder-Mead\n",
       " * Starting Point: [5.0,140.0,30.0]\n",
       " * Minimizer: [-7.267225783118617,173.4649558061147, ...]\n",
       " * Minimum: 9.250651e+01\n",
       " * Iterations: 133\n",
       " * Convergence: true\n",
       "   *  √(Σ(yᵢ-ȳ)²)/n < 1.0e-08: true\n",
       "   * Reached Maximum Number of Iterations: false\n",
       " * Objective Calls: 251"
      ]
     },
     "execution_count": 76,
     "metadata": {},
     "output_type": "execute_result"
    }
   ],
   "source": [
    "initial_parameters_a = [5.,140.,30.]\n",
    "p_fit_a = optimize_chi2(x_values,y_values,model_a,initial_parameters_a)"
   ]
  },
  {
   "cell_type": "code",
   "execution_count": 54,
   "metadata": {},
   "outputs": [
    {
     "name": "stdout",
     "output_type": "stream",
     "text": [
      "[-7.26723, 173.465, -28.8756]\n"
     ]
    }
   ],
   "source": [
    "scatter(x_values,y_values)\n",
    "plot!(x_values_cont, model_a(x_values_cont,p_fit_a.minimizer))\n",
    "println(p_fit_a.minimizer)"
   ]
  },
  {
   "cell_type": "code",
   "execution_count": 55,
   "metadata": {},
   "outputs": [
    {
     "data": {
      "text/plain": [
       "Results of Optimization Algorithm\n",
       " * Algorithm: Nelder-Mead\n",
       " * Starting Point: [5.0,50.0,50.0,0.5,0.5,0.5]\n",
       " * Minimizer: [6.706335827607866,56.79471754472499, ...]\n",
       " * Minimum: 1.499230e+01\n",
       " * Iterations: 498\n",
       " * Convergence: true\n",
       "   *  √(Σ(yᵢ-ȳ)²)/n < 1.0e-08: true\n",
       "   * Reached Maximum Number of Iterations: false\n",
       " * Objective Calls: 825"
      ]
     },
     "execution_count": 55,
     "metadata": {},
     "output_type": "execute_result"
    }
   ],
   "source": [
    "initial_parameters_b = [5.0,50.0,50.0,0.5,0.5,0.5]\n",
    "p_fit_b=optimize_chi2(x_values,y_values,model_b,initial_parameters_b)"
   ]
  },
  {
   "cell_type": "code",
   "execution_count": 60,
   "metadata": {},
   "outputs": [
    {
     "name": "stdout",
     "output_type": "stream",
     "text": [
      "[6.70634, 56.7947, 85.5069, 0.15549, 0.493324, 0.0615687]\n"
     ]
    },
    {
     "ename": "LoadError",
     "evalue": "\u001b[91mUndefVarError: field_values not defined\u001b[39m",
     "output_type": "error",
     "traceback": [
      "\u001b[91mUndefVarError: field_values not defined\u001b[39m",
      "",
      "Stacktrace:",
      " [1] \u001b[1minclude_string\u001b[22m\u001b[22m\u001b[1m(\u001b[22m\u001b[22m::String, ::String\u001b[1m)\u001b[22m\u001b[22m at \u001b[1m./loading.jl:515\u001b[22m\u001b[22m"
     ]
    }
   ],
   "source": [
    "println(p_fit_b.minimizer)\n",
    "field_values(p_fit_b)\n",
    "scatter(x_values,y_values)\n",
    "plot!(x_values_cont, model_b(x_values_cont,p_fit_b.minimizer))\n"
   ]
  },
  {
   "cell_type": "markdown",
   "metadata": {},
   "source": [
    "# Calculate the p-Values\n"
   ]
  },
  {
   "cell_type": "code",
   "execution_count": 61,
   "metadata": {},
   "outputs": [
    {
     "data": {
      "text/plain": [
       "chi2_dist (generic function with 1 method)"
      ]
     },
     "execution_count": 61,
     "metadata": {},
     "output_type": "execute_result"
    }
   ],
   "source": [
    "function chi2_dist(chi2,n)\n",
    "    @. return(chi2^(n/2 -1))/(2^(n/2)*gamma(n/2))*exp(-chi2/2)\n",
    "end"
   ]
  },
  {
   "cell_type": "code",
   "execution_count": 79,
   "metadata": {},
   "outputs": [
    {
     "name": "stdout",
     "output_type": "stream",
     "text": [
      "Degrees of Freedom using model A: 15\n",
      "Degrees of Freedom using model B: 12\n"
     ]
    },
    {
     "data": {
      "text/plain": [
       "14.992304978097884"
      ]
     },
     "execution_count": 79,
     "metadata": {},
     "output_type": "execute_result"
    }
   ],
   "source": [
    "n_a= length(x_values)-length(initial_parameters_a)\n",
    "n_b= length(x_values)-length(initial_parameters_b)\n",
    "println(\"Degrees of Freedom using model A: $n_a\")\n",
    "println(\"Degrees of Freedom using model B: $n_b\")\n",
    "chi2_a_m = chi2_a(x_values,y_values,model_a,p_fit_a.minimizer)\n",
    "chi2_b_m = chi2_a(x_values,y_values,model_b,p_fit_b.minimizer)"
   ]
  },
  {
   "cell_type": "code",
   "execution_count": 101,
   "metadata": {},
   "outputs": [
    {
     "data": {
      "text/html": [
       "<img src=\"data:image/png;base64,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\" />"
      ]
     },
     "execution_count": 101,
     "metadata": {},
     "output_type": "execute_result"
    }
   ],
   "source": [
    "\n",
    "l2 = @layout [a b]\n",
    "p = plot(layout=l2,size = (900,500))\n",
    "chi2_range = linspace(1,100,400)\n",
    "plot!(p[1],chi2_range,chi2_dist(chi2_range,n_a))\n",
    "vline!(p[1],[chi2_a_m])\n",
    "plot!(p[2],chi2_range,chi2_dist(chi2_range,n_b),fill=(0:20,:green))\n",
    "vline!(p[2],[chi2_b_m])"
   ]
  },
  {
   "cell_type": "code",
   "execution_count": 87,
   "metadata": {},
   "outputs": [
    {
     "data": {
      "text/plain": [
       "calculate_p_value (generic function with 2 methods)"
      ]
     },
     "execution_count": 87,
     "metadata": {},
     "output_type": "execute_result"
    }
   ],
   "source": [
    "function calculate_p_value(chi2_m,n,stepsize=0.001)\n",
    "    Integral=0.0\n",
    "    for chi2 in chi2_m:stepsize:100*chi2_m\n",
    "        Integral+=chi2_dist(chi2,n)*stepsize\n",
    "    end\n",
    "    return Integral\n",
    "end\n"
   ]
  },
  {
   "cell_type": "code",
   "execution_count": 89,
   "metadata": {},
   "outputs": [
    {
     "name": "stdout",
     "output_type": "stream",
     "text": [
      "3.372358706994305e-13\n",
      "0.24188492027683575\n"
     ]
    }
   ],
   "source": [
    "println(calculate_p_value(chi2_a_m,n_a))\n",
    "println(calculate_p_value(chi2_b_m,n_b))"
   ]
  },
  {
   "cell_type": "code",
   "execution_count": null,
   "metadata": {
    "collapsed": true
   },
   "outputs": [],
   "source": []
  }
 ],
 "metadata": {
  "kernelspec": {
   "display_name": "Julia 0.6.0",
   "language": "julia",
   "name": "julia-0.6"
  },
  "language_info": {
   "file_extension": ".jl",
   "mimetype": "application/julia",
   "name": "julia",
   "version": "0.6.0"
  }
 },
 "nbformat": 4,
 "nbformat_minor": 2
}
