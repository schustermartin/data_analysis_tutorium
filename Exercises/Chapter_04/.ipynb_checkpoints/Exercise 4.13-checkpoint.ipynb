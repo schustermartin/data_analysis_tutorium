{
 "cells": [
  {
   "cell_type": "markdown",
   "metadata": {},
   "source": [
    "# Exercise 4.13\n",
    "_Convolution of Gaussians: Suppose you have a true distribution which follows a Gaussian distribution:_\n",
    "\n",
    "\\begin{align}\n",
    "f(x) = \\frac{1}{\\sqrt{2 \\pi} \\sigma_{x} } e^{-\\frac{(x-x_{0})^{2}}{2\\sigma^{2}_{x}}}\n",
    "\\end{align}\n",
    "\n",
    "_and the measured quantity, y, follows a Gaussian distributino around the value x._\n",
    "\\begin{align}\n",
    "P(y|x) = \\frac{1}{\\sqrt{2 \\pi} \\sigma_{y} } e^{-\\frac{(y-x)^{2}}{2\\sigma^{2}_{y}}}\n",
    "\\end{align}\n",
    "_What is the predicted distribution for the observed quantity y?_"
   ]
  },
  {
   "cell_type": "markdown",
   "metadata": {},
   "source": [
    "The convolution of two functions, $f * g$, is defined as:\n",
    "\\begin{align}\n",
    "(f * g)(x) = \\int^{\\infty}_{-\\infty} f(x-\\tau)g(\\tau)~d\\tau\n",
    "\\end{align}\n",
    "\n",
    "For ease of calculation, one usually switches to Fourier Space, where the convolution is just a product:\n",
    "\\begin{align}\n",
    "h(y)=f(x)*P(y|x) = \\mathcal{F}^{-1}[\\mathcal{F}(f(x))\\cdot \\mathcal{F}(P(y|x))]\n",
    "\\end{align}"
   ]
  },
  {
   "cell_type": "markdown",
   "metadata": {},
   "source": [
    "We first calculate the Frouriertransform of $f(x)$. We use the substitution $\\omega = x-x_{0}$:\n",
    "\\begin{align}\n",
    "\\mathcal{F}(f(x)) =& \\frac{1}{\\sqrt{2 \\pi} \\sigma_{x}} \\int^{\\infty}_{-\\infty} \\exp\\left(-\\frac{\\omega^{2}}{2\\sigma^{2}_{x}} \\right)\\exp(-2 \\pi ik(\\omega+x_{0}))~d\\omega\\\\\n",
    "=& \\frac{\\exp(-2 \\pi ikx_{0})}{\\sqrt{2 \\pi} \\sigma_{x}} \\int^{\\infty}_{-\\infty} \\exp\\left(-\\frac{\\omega^{2}}{2\\sigma^{2}_{x}} \\right) [\\cos(2\\pi k\\omega) - i \\sin(2 \\pi k\\omega)]~d\\omega\\\\\n",
    " =& \\frac{\\exp(-2 \\pi ikx_{0})}{\\sqrt{2 \\pi} \\sigma_{x}} \\int^{\\infty}_{-\\infty} \\exp\\left(-\\frac{\\omega^{2}}{2\\sigma^{2}_{x}} \\right) \\cos(2\\pi k \\omega)~d\\omega\\\\\n",
    "\\end{align}\n",
    "We use the standard integral:\n",
    "\\begin{equation}\n",
    "\\int^{\\infty}_{0}\\exp(-a x^{2})\\cos(bx) = \\frac{\\sqrt{\\pi}\\exp(\\frac{-b^{2}}{4a})}{2\\sqrt{a}} = \\int_{-\\infty}^{0}\\exp(-a x^{2})\\cos(bx)\n",
    "\\end{equation}\n",
    "Here $a=\\frac{1}{2\\sigma_{x}}$ and $b=2\\pi k$\n",
    "\\begin{align}\n",
    "\\mathcal{F}(f(x)) =& \\exp(-2 \\pi ikx_{0}) \\exp(-2 \\pi^{2}\\sigma^{2}_{x}k^{2})\n",
    "\\end{align}"
   ]
  },
  {
   "cell_type": "markdown",
   "metadata": {},
   "source": [
    "Doing the same exercise for $\\mathcal{F}(P(y|x))$ gives for the expression $\\mathcal{F}(f(x))\\mathcal{F}(P(y|x))$:\n",
    "\\begin{align}\n",
    "\\\\\n",
    "\\mathcal{F}(f(x))\\mathcal{F}(P(y|x)) =& e^{-2 \\pi ikx_{0}} e^{-2 \\pi^{2}\\sigma^{2}_{x}k^{2}} \\cdot e^{-2 \\pi ikx} e^{-2 \\pi^{2}\\sigma^{2}_{y}k^{2}}\\\\\n",
    "=&  e^{(-2 \\pi ik(x_{0}+x))} e^{(-2 \\pi^{2}(\\sigma^{2}_{x}+\\sigma^{2}_{y})k^{2})}\n",
    "\\end{align}\n",
    "\n",
    "We Identify this as the Frouriertransform of a Gaussian distribution with $\\sigma^{2}_{*}= \\sigma^{2}_{x}+\\sigma^{2}_{y}$ and $\\mu_{*} = x_{0} + x$. This finally yields:\n",
    "\\begin{align}\n",
    "h(y) = \\frac{1}{\\sqrt{2 \\pi (\\sigma^{2}_{x}+\\sigma^{2}_{y})}} e^{-\\frac{(y - (x_{0}+x))^{2}}{2(\\sigma^{2}_{x}+\\sigma^{2}_{y})^{2}}}\n",
    "\\end{align}"
   ]
  },
  {
   "cell_type": "code",
   "execution_count": null,
   "metadata": {
    "collapsed": true
   },
   "outputs": [],
   "source": []
  }
 ],
 "metadata": {
  "kernelspec": {
   "display_name": "Python 2",
   "language": "python",
   "name": "python2"
  },
  "language_info": {
   "codemirror_mode": {
    "name": "ipython",
    "version": 2
   },
   "file_extension": ".py",
   "mimetype": "text/x-python",
   "name": "python",
   "nbconvert_exporter": "python",
   "pygments_lexer": "ipython2",
   "version": "2.7.13"
  }
 },
 "nbformat": 4,
 "nbformat_minor": 2
}
