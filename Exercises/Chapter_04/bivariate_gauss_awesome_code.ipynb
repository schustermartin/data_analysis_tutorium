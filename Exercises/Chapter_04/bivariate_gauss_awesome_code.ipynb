{
 "cells": [
  {
   "cell_type": "code",
   "execution_count": 1,
   "metadata": {},
   "outputs": [
    {
     "data": {
      "text/html": [
       "<div id=\"interact-js-shim\">\n",
       "    <script charset=\"utf-8\">\n",
       "(function (IPython, $, _, MathJax) {\n",
       "    $.event.special.destroyed = {\n",
       "\tremove: function(o) {\n",
       "\t    if (o.handler) {\n",
       "\t\to.handler.apply(this, arguments)\n",
       "\t    }\n",
       "\t}\n",
       "    }\n",
       "\n",
       "    var OutputArea = IPython.version >= \"4.0.0\" ? require(\"notebook/js/outputarea\").OutputArea : IPython.OutputArea;\n",
       "\n",
       "    var redrawValue = function (container, type, val) {\n",
       "\tvar selector = $(\"<div/>\");\n",
       "\tvar oa = new OutputArea(_.extend(selector, {\n",
       "\t    selector: selector,\n",
       "\t    prompt_area: true,\n",
       "\t    events: IPython.events,\n",
       "\t    keyboard_manager: IPython.keyboard_manager\n",
       "\t})); // Hack to work with IPython 2.1.0\n",
       "\n",
       "\tswitch (type) {\n",
       "\tcase \"image/png\":\n",
       "            var _src = 'data:' + type + ';base64,' + val;\n",
       "\t    $(container).find(\"img\").attr('src', _src);\n",
       "\t    break;\n",
       "\tcase \"text/latex\":\n",
       "\t\tif (MathJax){\n",
       "\t\t\tvar math = MathJax.Hub.getAllJax(container)[0];\n",
       "\t\t\tMathJax.Hub.Queue([\"Text\", math, val.replace(/^\\${1,2}|\\${1,2}$/g, '')]);\n",
       "\t\t\tbreak;\n",
       "\t\t}\n",
       "\tdefault:\n",
       "\t    var toinsert = OutputArea.append_map[type].apply(\n",
       "\t\toa, [val, {}, selector]\n",
       "\t    );\n",
       "\t    $(container).empty().append(toinsert.contents());\n",
       "\t    selector.remove();\n",
       "\t}\n",
       "    }\n",
       "\n",
       "\n",
       "    $(document).ready(function() {\n",
       "\tfunction initComm(evt, data) {\n",
       "\t    var comm_manager = data.kernel.comm_manager;\n",
       "        //_.extend(comm_manager.targets, require(\"widgets/js/widget\"))\n",
       "\t    comm_manager.register_target(\"Signal\", function (comm) {\n",
       "            comm.on_msg(function (msg) {\n",
       "                var val = msg.content.data.value;\n",
       "                $(\".signal-\" + comm.comm_id).each(function() {\n",
       "                var type = $(this).data(\"type\");\n",
       "                if (typeof(val[type]) !== \"undefined\" && val[type] !== null) {\n",
       "                    redrawValue(this, type, val[type], type);\n",
       "                }\n",
       "                });\n",
       "                delete val;\n",
       "                delete msg.content.data.value;\n",
       "            });\n",
       "\t    });\n",
       "\n",
       "\t    // coordingate with Comm and redraw Signals\n",
       "\t    // XXX: Test using Reactive here to improve performance\n",
       "\t    $([IPython.events]).on(\n",
       "\t\t'output_appended.OutputArea', function (event, type, value, md, toinsert) {\n",
       "\t\t    if (md && md.reactive) {\n",
       "                // console.log(md.comm_id);\n",
       "                toinsert.addClass(\"signal-\" + md.comm_id);\n",
       "                toinsert.data(\"type\", type);\n",
       "                // Signal back indicating the mimetype required\n",
       "                var comm_manager = IPython.notebook.kernel.comm_manager;\n",
       "                var comm = comm_manager.comms[md.comm_id];\n",
       "                comm.then(function (c) {\n",
       "                    c.send({action: \"subscribe_mime\",\n",
       "                       mime: type});\n",
       "                    toinsert.bind(\"destroyed\", function() {\n",
       "                        c.send({action: \"unsubscribe_mime\",\n",
       "                               mime: type});\n",
       "                    });\n",
       "                })\n",
       "\t\t    }\n",
       "\t    });\n",
       "\t}\n",
       "\n",
       "\ttry {\n",
       "\t    // try to initialize right away. otherwise, wait on the status_started event.\n",
       "\t    initComm(undefined, IPython.notebook);\n",
       "\t} catch (e) {\n",
       "\t    $([IPython.events]).on('kernel_created.Kernel kernel_created.Session', initComm);\n",
       "\t}\n",
       "    });\n",
       "})(IPython, jQuery, _, MathJax);\n",
       "</script>\n",
       "    <script>\n",
       "        window.interactLoadedFlag = true\n",
       "       $(\"#interact-js-shim\").bind(\"destroyed\", function () {\n",
       "           if (window.interactLoadedFlag) {\n",
       "               console.warn(\"JavaScript required by Interact will be removed if you remove this cell or run using Interact more than once.\")\n",
       "           }\n",
       "       })\n",
       "       $([IPython.events]).on(\"kernel_starting.Kernel kernel_restarting.Kernel\", function () { window.interactLoadedFlag = false })\n",
       "   </script>\n",
       "</div>"
      ]
     },
     "metadata": {},
     "output_type": "display_data"
    },
    {
     "name": "stdout",
     "output_type": "stream",
     "text": [
      "Hello World\n"
     ]
    }
   ],
   "source": [
    "println(\"Hello World\")\n",
    "using Interact\n",
    "using Plots\n",
    "using IJulia"
   ]
  },
  {
   "cell_type": "code",
   "execution_count": 2,
   "metadata": {
    "collapsed": true
   },
   "outputs": [],
   "source": [
    "using Distributions"
   ]
  },
  {
   "cell_type": "code",
   "execution_count": 3,
   "metadata": {},
   "outputs": [
    {
     "data": {
      "text/plain": [
       "FullNormal(\n",
       "dim: 2\n",
       "μ: [1.0, 1.0]\n",
       "Σ: [1.0 0.0; 0.0 1.0]\n",
       ")\n"
      ]
     },
     "execution_count": 3,
     "metadata": {},
     "output_type": "execute_result"
    }
   ],
   "source": [
    "rho= [1. 0.;0. 1.]\n",
    "mu= [1,1]\n",
    "kek =MvNormal(mu,rho)"
   ]
  },
  {
   "cell_type": "code",
   "execution_count": 6,
   "metadata": {
    "scrolled": false
   },
   "outputs": [
    {
     "data": {
      "text/html": [],
      "text/plain": [
       "Interact.Options{:SelectionSlider,Any}(25: \"input-11\" = 0.0 Any , \"mu1\", 0.0, \"0.0\", 21, Interact.OptionDict(DataStructures.OrderedDict{Any,Any}(\"-2.0\"=>-2.0,\"-1.9\"=>-1.9,\"-1.8\"=>-1.8,\"-1.7\"=>-1.7,\"-1.6\"=>-1.6,\"-1.5\"=>-1.5,\"-1.4\"=>-1.4,\"-1.3\"=>-1.3,\"-1.2\"=>-1.2,\"-1.1\"=>-1.1…), Dict{Any,Any}(Pair{Any,Any}(1.0, \"1.0\"),Pair{Any,Any}(0.3, \"0.3\"),Pair{Any,Any}(1.2, \"1.2\"),Pair{Any,Any}(2.0, \"2.0\"),Pair{Any,Any}(-0.2, \"-0.2\"),Pair{Any,Any}(-1.0, \"-1.0\"),Pair{Any,Any}(1.5, \"1.5\"),Pair{Any,Any}(-1.3, \"-1.3\"),Pair{Any,Any}(-0.3, \"-0.3\"),Pair{Any,Any}(-0.6, \"-0.6\")…)), Any[], Any[], true, \"horizontal\")"
      ]
     },
     "metadata": {},
     "output_type": "display_data"
    },
    {
     "data": {
      "text/html": [],
      "text/plain": [
       "Interact.Options{:SelectionSlider,Any}(27: \"input-12\" = 0.0 Any , \"mu2\", 0.0, \"0.0\", 11, Interact.OptionDict(DataStructures.OrderedDict{Any,Any}(\"-2.0\"=>-2.0,\"-1.8\"=>-1.8,\"-1.6\"=>-1.6,\"-1.4\"=>-1.4,\"-1.2\"=>-1.2,\"-1.0\"=>-1.0,\"-0.8\"=>-0.8,\"-0.6\"=>-0.6,\"-0.4\"=>-0.4,\"-0.2\"=>-0.2…), Dict{Any,Any}(Pair{Any,Any}(1.0, \"1.0\"),Pair{Any,Any}(1.2, \"1.2\"),Pair{Any,Any}(2.0, \"2.0\"),Pair{Any,Any}(-0.2, \"-0.2\"),Pair{Any,Any}(-1.0, \"-1.0\"),Pair{Any,Any}(-0.6, \"-0.6\"),Pair{Any,Any}(-1.6, \"-1.6\"),Pair{Any,Any}(1.4, \"1.4\"),Pair{Any,Any}(0.0, \"0.0\"),Pair{Any,Any}(-1.2, \"-1.2\")…)), Any[], Any[], true, \"horizontal\")"
      ]
     },
     "metadata": {},
     "output_type": "display_data"
    },
    {
     "data": {
      "text/html": [],
      "text/plain": [
       "Interact.Options{:SelectionSlider,Any}(29: \"input-13\" = 2 Any , \"sig1\", 2, \"2\", 2, Interact.OptionDict(DataStructures.OrderedDict{Any,Any}(\"1\"=>1,\"2\"=>2,\"3\"=>3), Dict{Any,Any}(Pair{Any,Any}(2, \"2\"),Pair{Any,Any}(3, \"3\"),Pair{Any,Any}(1, \"1\"))), Any[], Any[], true, \"horizontal\")"
      ]
     },
     "metadata": {},
     "output_type": "display_data"
    },
    {
     "data": {
      "text/html": [],
      "text/plain": [
       "Interact.Options{:SelectionSlider,Any}(31: \"input-14\" = 2 Any , \"sig2\", 2, \"2\", 2, Interact.OptionDict(DataStructures.OrderedDict{Any,Any}(\"1\"=>1,\"2\"=>2,\"3\"=>3), Dict{Any,Any}(Pair{Any,Any}(2, \"2\"),Pair{Any,Any}(3, \"3\"),Pair{Any,Any}(1, \"1\"))), Any[], Any[], true, \"horizontal\")"
      ]
     },
     "metadata": {},
     "output_type": "display_data"
    },
    {
     "data": {
      "text/html": [],
      "text/plain": [
       "Interact.Options{:SelectionSlider,Any}(33: \"input-15\" = 0.0 Any , \"rho\", 0.0, \"0.0\", 11, Interact.OptionDict(DataStructures.OrderedDict{Any,Any}(\"-1.0\"=>-1.0,\"-0.9\"=>-0.9,\"-0.8\"=>-0.8,\"-0.7\"=>-0.7,\"-0.6\"=>-0.6,\"-0.5\"=>-0.5,\"-0.4\"=>-0.4,\"-0.3\"=>-0.3,\"-0.2\"=>-0.2,\"-0.1\"=>-0.1…), Dict{Any,Any}(Pair{Any,Any}(1.0, \"1.0\"),Pair{Any,Any}(0.3, \"0.3\"),Pair{Any,Any}(-0.2, \"-0.2\"),Pair{Any,Any}(-1.0, \"-1.0\"),Pair{Any,Any}(-0.3, \"-0.3\"),Pair{Any,Any}(-0.6, \"-0.6\"),Pair{Any,Any}(0.7, \"0.7\"),Pair{Any,Any}(0.0, \"0.0\"),Pair{Any,Any}(0.2, \"0.2\"),Pair{Any,Any}(-0.1, \"-0.1\")…)), Any[], Any[], true, \"horizontal\")"
      ]
     },
     "metadata": {},
     "output_type": "display_data"
    },
    {
     "data": {
      "text/html": [
       "<img src=\"data:image/png;base64,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\" />"
      ]
     },
     "execution_count": 6,
     "metadata": {
      "comm_id": "afe8c133-1303-44ef-b9e9-b411d9fa7204",
      "reactive": true
     },
     "output_type": "execute_result"
    },
    {
     "name": "stderr",
     "output_type": "stream",
     "text": [
      "Failed to push!\n",
      "    -1.0\n",
      "to node\n",
      "    33: \"input-15\" = -1.0 Any (active)\n",
      "\n",
      "error at node: 35: \"map(input-11, input-12, input-13, input-14, input-15)\" = Plot{Plots.PyPlotBackend() n=1} Any (active)\n",
      "\u001b[91mBase.LinAlg.PosDefException(2)\u001b[39m\n",
      "_chol!(::Array{Float64,2}, ::Type{UpperTriangular}) at ./linalg/cholesky.jl:55\n",
      "cholfact!(::Hermitian{Float64,Array{Float64,2}}, ::Type{Val{false}}) at ./linalg/cholesky.jl:211\n",
      "cholfact(::Array{Float64,2}, ::Symbol) at ./linalg/cholesky.jl:350\n",
      "create_pdf(::Float64, ::Float64, ::Int64, ::Int64, ::Float64) at ./In[6]:6\n",
      "#29 at ./In[6]:22 [inlined]\n",
      "(::Reactive.##33#34{##29#30,Reactive.Signal{Any},NTuple{5,Reactive.Signal{Any}}})() at /user/.julia/v0.6/Reactive/src/operators.jl:39\n",
      "foreach(::Reactive.#runaction, ::Array{Function,1}) at ./abstractarray.jl:1731\n",
      "run_node(::Reactive.Signal{Any}) at /user/.julia/v0.6/Reactive/src/core.jl:312\n",
      "run_push(::Reactive.Signal{Any}, ::Float64, ::Reactive.#print_error, ::Bool) at /user/.julia/v0.6/Reactive/src/core.jl:330\n",
      "run_push(::Reactive.Signal{Any}, ::Float64, ::Function) at /user/.julia/v0.6/Reactive/src/core.jl:317\n",
      "run(::Int64) at /user/.julia/v0.6/Reactive/src/core.jl:277\n",
      "(::Reactive.##27#29)() at ./task.jl:335\n"
     ]
    }
   ],
   "source": [
    "xrange = -4:0.3:4\n",
    "yrange = -4:0.3:4\n",
    "function create_pdf(mu1,mu2,sig1,sig2,rho)\n",
    "    mu = [mu1,mu2]\n",
    "    V12 = [sig1^2 rho*sig1*sig2;rho*sig1*sig2 sig2^2]\n",
    "    dist = MvNormal(mu,V12)\n",
    "    A=zeros(length(xrange),length(yrange))\n",
    "    ix=0\n",
    "    for x in xrange\n",
    "        ix+=1\n",
    "        iy=0\n",
    "        for y in yrange\n",
    "            iy+=1\n",
    "            tmp = [x,y]\n",
    "            A[ix,iy]=pdf(dist,tmp)\n",
    "#             println(ix,iy)\n",
    "        end\n",
    "    end\n",
    "    return A\n",
    "end\n",
    "@manipulate for mu1 in -2:0.1:2 , mu2 in -2:0.2:2, sig1 in 1:1:3, sig2 in 1:1:3,rho in -1:0.1:1\n",
    "    plot(xrange,yrange,create_pdf(mu1,mu2,sig1,sig2,rho),st=:surface)\n",
    "    plot(xrange,yrange,create_pdf(mu1,mu2,sig1,sig2,rho),st=:contourf)\n",
    "end\n"
   ]
  },
  {
   "cell_type": "code",
   "execution_count": null,
   "metadata": {},
   "outputs": [],
   "source": []
  },
  {
   "cell_type": "code",
   "execution_count": null,
   "metadata": {},
   "outputs": [],
   "source": []
  },
  {
   "cell_type": "code",
   "execution_count": null,
   "metadata": {},
   "outputs": [],
   "source": []
  },
  {
   "cell_type": "code",
   "execution_count": null,
   "metadata": {
    "collapsed": true
   },
   "outputs": [],
   "source": [
    "\n"
   ]
  },
  {
   "cell_type": "code",
   "execution_count": null,
   "metadata": {},
   "outputs": [],
   "source": []
  },
  {
   "cell_type": "code",
   "execution_count": null,
   "metadata": {
    "collapsed": true
   },
   "outputs": [],
   "source": []
  },
  {
   "cell_type": "code",
   "execution_count": null,
   "metadata": {
    "collapsed": true
   },
   "outputs": [],
   "source": []
  }
 ],
 "metadata": {
  "kernelspec": {
   "display_name": "Julia 0.6.0",
   "language": "julia",
   "name": "julia-0.6"
  },
  "language_info": {
   "file_extension": ".jl",
   "mimetype": "application/julia",
   "name": "julia",
   "version": "0.6.0"
  }
 },
 "nbformat": 4,
 "nbformat_minor": 2
}
