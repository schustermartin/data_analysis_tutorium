{
 "cells": [
  {
   "cell_type": "markdown",
   "metadata": {},
   "source": [
    "# Exercise 9\n",
    "\n",
    "### In liquit Argon, 40000 photons in the visible range are produced per MeV of deposited energy. Imaginge that you have a detector that has an overall efficiency of 0.001 for detecting these photons. Your detector produces a signal of 1 Volt/detected photon.\n",
    "\n",
    "### (a) What is the calibration constant of the detector (MeV/V)?\n",
    "\n",
    "### (b) What is the resulting resolution of the detector as a function of incident energy (resolution is defined as the standard deviation mesaured in energy units, MeV)."
   ]
  },
  {
   "cell_type": "code",
   "execution_count": 20,
   "metadata": {
    "collapsed": true
   },
   "outputs": [],
   "source": [
    "import numpy as np\n",
    "import matplotlib.pyplot as plt"
   ]
  },
  {
   "cell_type": "code",
   "execution_count": 21,
   "metadata": {
    "collapsed": true
   },
   "outputs": [],
   "source": [
    "photons_per_mev = 40000  # 40000 photons per 1 MeV deposited energy\n",
    "detector_efficiency = 0.001 # for detecting photons\n",
    "voltage_photon_ratio = 1 # 1 Volt / 1 photon"
   ]
  },
  {
   "cell_type": "markdown",
   "metadata": {},
   "source": [
    "## What is the calibration constant of the detector (MeV/V)?"
   ]
  },
  {
   "cell_type": "code",
   "execution_count": 22,
   "metadata": {},
   "outputs": [
    {
     "data": {
      "text/plain": [
       "40.0"
      ]
     },
     "execution_count": 22,
     "metadata": {},
     "output_type": "execute_result"
    }
   ],
   "source": [
    "# 1 MeV Eneergy creates 40000 photons \n",
    "# How many of them are detected (in average)?\n",
    "deposited_energy = 1 # MeV\n",
    "detected_photons = deposited_energy*photons_per_mev*detector_efficiency\n",
    "detected_photons"
   ]
  },
  {
   "cell_type": "code",
   "execution_count": 23,
   "metadata": {},
   "outputs": [
    {
     "data": {
      "text/plain": [
       "40.0"
      ]
     },
     "execution_count": 23,
     "metadata": {},
     "output_type": "execute_result"
    }
   ],
   "source": [
    "# 40 photons creates 1V \n",
    "output_voltage = voltage_photon_ratio*detected_photons\n",
    "output_voltage"
   ]
  },
  {
   "cell_type": "code",
   "execution_count": 24,
   "metadata": {},
   "outputs": [
    {
     "data": {
      "text/plain": [
       "0.025"
      ]
     },
     "execution_count": 24,
     "metadata": {},
     "output_type": "execute_result"
    }
   ],
   "source": [
    "# 1 MeV deposited energy = 40 V\n",
    "# Calibration constant:\n",
    "# E_deposited = c*output_voltage\n",
    "c = deposited_energy / output_voltage\n",
    "c"
   ]
  },
  {
   "cell_type": "markdown",
   "metadata": {},
   "source": [
    "## (b) What is the resulting resolution of the detector as a function of incident energy (resolution is defined as the standard deviation mesaured in energy units, MeV)?"
   ]
  },
  {
   "cell_type": "markdown",
   "metadata": {},
   "source": [
    "from (a):\n",
    "\\begin{equation}\n",
    "  E = c \\cdot U\n",
    "\\end{equation}\n",
    "gaussian error propagation yields:\n",
    "\\begin{equation}\n",
    "  \\sigma^2 = \\sigma^2_{U}c^2 + \\sigma^2_{c}U^2 \n",
    "\\end{equation}\n",
    "\n",
    "$\\sigma_U$ has to contributions: (noise + signal (statistical))\n",
    "\\begin{equation}\n",
    "  \\sigma^2_U = \\sigma^2_{noise} + \\sigma^2_{stat}\n",
    "\\end{equation}\n",
    "\n",
    "$\\sigma_{stat}$ is determined through the poission statistic:\n",
    "\\begin{equation}\n",
    "  \\sigma^2_{stat} = \\mu = 40 V / 1 MeV*E\n",
    "\\end{equation}\n",
    "\n",
    "putting all together:\n",
    "\\begin{align}\n",
    "  \\sigma^2 &= c^2\\sigma^2_{noise} + c^2\\dfrac{40V}{1MeV}E +\\sigma^2_{c}U^2\\\\\n",
    "  &= c^2\\sigma^2_{noise} + c^2\\dfrac{40V}{1MeV}E +\\dfrac{\\sigma^2_{c}}{c^2}E^2\n",
    "\\end{align}"
   ]
  },
  {
   "cell_type": "code",
   "execution_count": null,
   "metadata": {
    "collapsed": true
   },
   "outputs": [],
   "source": []
  }
 ],
 "metadata": {
  "kernelspec": {
   "display_name": "Python 2",
   "language": "python",
   "name": "python2"
  },
  "language_info": {
   "codemirror_mode": {
    "name": "ipython",
    "version": 2
   },
   "file_extension": ".py",
   "mimetype": "text/x-python",
   "name": "python",
   "nbconvert_exporter": "python",
   "pygments_lexer": "ipython2",
   "version": "2.7.13"
  }
 },
 "nbformat": 4,
 "nbformat_minor": 2
}
