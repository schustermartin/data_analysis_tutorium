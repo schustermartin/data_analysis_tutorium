{
 "cells": [
  {
   "cell_type": "markdown",
   "metadata": {
    "nbpresent": {
     "id": "125ea55a-72e6-4c92-b7df-502eadc6fd2d"
    }
   },
   "source": [
    "# Exercise 2.11\n"
   ]
  },
  {
   "cell_type": "markdown",
   "metadata": {
    "nbpresent": {
     "id": "d88a6f3b-719d-42fb-8a73-1aac72a285e7"
    }
   },
   "source": [
    "_Analyze the data in the table from a frequentist perspective by finding the\n",
    "90 % confidence level interval for\n",
    "p\n",
    "as a function of energy. Use the Central\n",
    "Interval to find the 90 % CL interval for\n",
    "p\n",
    "._"
   ]
  },
  {
   "cell_type": "code",
   "execution_count": 9,
   "metadata": {
    "collapsed": true,
    "nbpresent": {
     "id": "f778f18b-6b13-41ee-88ad-a10e51c33f05"
    }
   },
   "outputs": [],
   "source": [
    "import numpy as np\n",
    "import matplotlib.pyplot as plt\n",
    "from math import factorial"
   ]
  },
  {
   "cell_type": "code",
   "execution_count": 39,
   "metadata": {
    "nbpresent": {
     "id": "b5a593cc-32b9-4513-9ddb-d9f97c5cd84c"
    }
   },
   "outputs": [
    {
     "data": {
      "text/plain": [
       "array([ 0.   ,  0.04 ,  0.2  ,  0.58 ,  0.92 ,  0.987,  0.995,  0.998])"
      ]
     },
     "execution_count": 39,
     "metadata": {},
     "output_type": "execute_result"
    }
   ],
   "source": [
    "# Defining list of the given data\n",
    "# using numpy arrays here\n",
    "Energies = np.array([0.5, 1., 1.5, 2., 2.5, 3., 3.5, 4.])\n",
    "Trials = np.array([100, 100, 100, 100, 100, 1000, 1000, 1000])\n",
    "Successes = np.array([0,4,20,58,92,987,995,998])\n",
    "\n",
    "Efficiencies_estimate = 1.0 * Successes / Trials\n",
    "Efficiencies_estimate"
   ]
  },
  {
   "cell_type": "code",
   "execution_count": 10,
   "metadata": {
    "collapsed": true,
    "nbpresent": {
     "id": "dfcfc5bc-a918-4fc4-a951-dca7070522c0"
    }
   },
   "outputs": [],
   "source": [
    "def binom(r,N,p):\n",
    "    factor1 = factorial(N)/(factorial(r)*factorial(N-r))\n",
    "    factor2 = pow(p,r)*pow((1.-p),N-r)\n",
    "    return factor1 * factor2\n",
    "                        "
   ]
  },
  {
   "cell_type": "code",
   "execution_count": 42,
   "metadata": {
    "collapsed": true,
    "nbpresent": {
     "id": "d84876b6-30cf-4694-85c5-294569c985bb"
    }
   },
   "outputs": [],
   "source": [
    "# calculating the boundaries of the central interval\n",
    "def central_interval(p, N, alpha):\n",
    "    r_min = 0\n",
    "    acc_sum = binom(0, N, p)\n",
    "    while acc_sum < alpha/2.:\n",
    "        r_min += 1\n",
    "        acc_sum += binom(r_min, N, p)\n",
    "\n",
    "        \n",
    "    r_max = N\n",
    "    acc_sum = binom(N, N, p)\n",
    "    while acc_sum < alpha/2.:\n",
    "        r_max -= 1        \n",
    "        acc_sum += binom(r_max, N, p)\n",
    "        \n",
    "    return r_min, r_max"
   ]
  },
  {
   "cell_type": "code",
   "execution_count": 70,
   "metadata": {
    "collapsed": true,
    "nbpresent": {
     "id": "4798677b-1236-4b1c-8395-7510966d499b"
    }
   },
   "outputs": [],
   "source": [
    "def smallest_interval(p, N, alpha):\n",
    "    rs=list()\n",
    "    r_probabilities=list()\n",
    "    for r in range(0,N+1):\n",
    "        rs.append(r)\n",
    "        r_probabilities.append(binom(r,N,p))\n",
    "    sorted_list = list(sorted(zip(r_probabilities,rs),reverse=True))\n",
    "    mode = sorted_list[0][1]\n",
    "    \n",
    "    acc_sum=icount=0.\n",
    "    r_min=r_max=int((N+1)*p)\n",
    "    while acc_sum<(1.-alpha):\n",
    "        acc_sum+=sorted_list[icount][0]\n",
    "        if sorted_list[icount][1] > mode:\n",
    "            r_max = sorted_list[icount][1]\n",
    "        elif sorted_list[icount][1] < mode:\n",
    "            r_min = sorted_list[icount][1]\n",
    "        icount+=1\n",
    "    if p ==0:\n",
    "        r_min=r_max=0\n",
    "    elif p==1:\n",
    "        r_min=r_max=N\n",
    "    return r_min, r_max"
   ]
  },
  {
   "cell_type": "code",
   "execution_count": 57,
   "metadata": {
    "collapsed": true,
    "nbpresent": {
     "id": "ed213a49-1315-4d1b-9585-ef65ef907b0e"
    }
   },
   "outputs": [],
   "source": [
    "def neyman_CL(N,interval='ci',alpha=0.1):\n",
    "    stepsize = 1/1000.\n",
    "    p_values = np.arange(0,1,stepsize)\n",
    "    r_mins = []\n",
    "    r_maxs = []\n",
    "    for p in p_values:\n",
    "        if interval=='ci':\n",
    "            rmin_tmp, rmax_tmp = central_interval(p,N,alpha)\n",
    "        elif interval=='si':\n",
    "            rmin_tmp, rmax_tmp = smallest_interval(p,N,alpha)\n",
    "        r_mins.append(rmin_tmp)\n",
    "        r_maxs.append(rmax_tmp)\n",
    "    return r_mins, r_maxs, p_values\n",
    "            "
   ]
  },
  {
   "cell_type": "code",
   "execution_count": 58,
   "metadata": {
    "nbpresent": {
     "id": "a451b89b-3089-465b-834e-4f4e570980df"
    }
   },
   "outputs": [
    {
     "data": {
      "image/png": "[encoded data removed]",
      "text/plain": [
       "<matplotlib.figure.Figure at 0x7f49400e82d0>"
      ]
     },
     "metadata": {},
     "output_type": "display_data"
    }
   ],
   "source": [
    "r_min_100, r_max_100, p_values = neyman_CL(100,'ci')\n",
    "plt.plot(r_min_100, p_values)\n",
    "plt.plot(r_max_100, p_values)\n",
    "plt.xlabel('r')\n",
    "plt.ylabel('P')\n",
    "plt.title('Neyman Confidence Level, N = 100, Central Interval, 90%')\n",
    "#plt.title('Neyman Confidence Level, N = 100, Smallest Interval, 90%')\n",
    "plt.grid(True)\n",
    "plt.show()"
   ]
  },
  {
   "cell_type": "code",
   "execution_count": 16,
   "metadata": {
    "nbpresent": {
     "id": "a2bcd875-855e-4fb8-8a2d-877307cd7591"
    }
   },
   "outputs": [
    {
     "data": {
      "image/png": "[encoded data removed]",
      "text/plain": [
       "<matplotlib.figure.Figure at 0x7f4940722750>"
      ]
     },
     "metadata": {},
     "output_type": "display_data"
    }
   ],
   "source": [
    "r_min_1000, r_max_1000, p_values = neyman_CL(1000,'ci')\n",
    "plt.plot(r_min_1000, p_values)\n",
    "plt.plot(r_max_1000, p_values)\n",
    "plt.xlabel('r')\n",
    "plt.ylabel('P')\n",
    "plt.title('Neyman Confidence Level, N = 1000, Central Interval, 90%')\n",
    "#plt.title('Neyman Confidence Level, N = 1000, Smallest Interval, 90%')\n",
    "plt.grid(True)\n",
    "plt.show()"
   ]
  },
  {
   "cell_type": "code",
   "execution_count": 17,
   "metadata": {
    "nbpresent": {
     "id": "f1f30059-c29b-4891-a1c0-3fa139c28702"
    },
    "scrolled": true
   },
   "outputs": [
    {
     "name": "stdout",
     "output_type": "stream",
     "text": [
      "Central Interval\n",
      "E(GeV)\t N\t r\t p_est\t p_min\t p_max\n",
      "0.5\t100\t0\t0.0\t0.0\t0.03\n",
      "1.0\t100\t4\t0.04\t0.014\t0.09\n",
      "1.5\t100\t20\t0.2\t0.137\t0.278\n",
      "2.0\t100\t58\t0.58\t0.493\t0.664\n",
      "2.5\t100\t92\t0.92\t0.861\t0.96\n",
      "3.0\t1000\t987\t0.987\t0.98\t0.993\n",
      "3.5\t1000\t995\t0.995\t0.99\t0.999\n",
      "4.0\t1000\t998\t0.998\t0.994\t1.0\n"
     ]
    }
   ],
   "source": [
    "print(\"Central Interval\")\n",
    "print(\"E(GeV)\\t N\\t r\\t p_est\\t p_min\\t p_max\" )\n",
    "\n",
    "p_min = []\n",
    "p_max = []\n",
    "\n",
    "for i in range(0,len(Energies)):\n",
    "    E = Energies[i]\n",
    "    R = Successes[i]\n",
    "    N = Trials[i]\n",
    "    p_est = Efficiencies_estimate[i]\n",
    "    if(N == 1000):\n",
    "        r_min = r_min_1000\n",
    "        r_max = r_max_1000\n",
    "    else:\n",
    "        r_min = r_min_100\n",
    "        r_max = r_max_100\n",
    "        \n",
    "    p_min.append(np.asarray(r_max).searchsorted(R, side='left')/1000.)\n",
    "    p_max.append(np.asarray(r_min).searchsorted(R, side='right')/1000.)\n",
    "    print(str(E)+ '\\t'+str(N)+ \"\\t\"+ str(R)+ \"\\t\"+ str(p_est)+ \"\\t\"+ str(p_min[i])+ \"\\t\" +str(p_max[i]))"
   ]
  },
  {
   "cell_type": "code",
   "execution_count": 18,
   "metadata": {
    "nbpresent": {
     "id": "d2a449cc-99af-4155-93cb-5b3c26cb4977"
    }
   },
   "outputs": [
    {
     "data": {
      "image/png": "[encoded data removed]",
      "text/plain": [
       "<matplotlib.figure.Figure at 0x7f49405a8110>"
      ]
     },
     "metadata": {},
     "output_type": "display_data"
    }
   ],
   "source": [
    "plt.plot(Energies, Efficiencies_estimate, marker='x', linestyle='')\n",
    "plt.plot(Energies, p_min)\n",
    "plt.plot(Energies, p_max)\n",
    "plt.fill_between(x=Energies, y1=p_min, y2=p_max, color='blue', alpha=0.1)\n",
    "plt.xlabel('E[GeV]')\n",
    "plt.ylabel('p')\n",
    "plt.title('Estimated Efficiency with 90% Central Interval')\n",
    "plt.show()"
   ]
  },
  {
   "cell_type": "code",
   "execution_count": 19,
   "metadata": {
    "nbpresent": {
     "id": "0bae5ce2-91cf-4157-88db-3423d1aa94b9"
    },
    "scrolled": true
   },
   "outputs": [
    {
     "data": {
      "image/png": "[encoded data removed]",
      "text/plain": [
       "<matplotlib.figure.Figure at 0x7f49403ffc50>"
      ]
     },
     "metadata": {},
     "output_type": "display_data"
    }
   ],
   "source": [
    "plt.xlim(2.9,4.1)\n",
    "plt.ylim(0.975,1.0)\n",
    "plt.plot(Energies, Efficiencies_estimate, marker='x', linestyle='')\n",
    "plt.plot(Energies, p_min)\n",
    "plt.plot(Energies, p_max)\n",
    "plt.fill_between(x=Energies, y1=p_min, y2=p_max, color='blue', alpha=0.1)\n",
    "plt.xlabel('E[GeV]')\n",
    "plt.ylabel('p')\n",
    "plt.title('Estimated Efficiency with 90% Central Interval')\n",
    "plt.show()"
   ]
  },
  {
   "cell_type": "markdown",
   "metadata": {
    "nbpresent": {
     "id": "03a171a8-4d01-4d9e-9775-a70a793cdb3f"
    }
   },
   "source": [
    "# Now for the Smallest Interval"
   ]
  },
  {
   "cell_type": "code",
   "execution_count": 59,
   "metadata": {
    "nbpresent": {
     "id": "71e2bca5-ce9c-4866-818d-abc93df6e58e"
    }
   },
   "outputs": [
    {
     "data": {
      "image/png": "[encoded data removed]",
      "text/plain": [
       "<matplotlib.figure.Figure at 0x7f493fff6550>"
      ]
     },
     "metadata": {},
     "output_type": "display_data"
    }
   ],
   "source": [
    "r_min_100_si, r_max_100_si, p_values = neyman_CL(100,'si')\n",
    "plt.plot(r_min_100_si, p_values)\n",
    "plt.plot(r_max_100_si, p_values)\n",
    "plt.xlabel('r')\n",
    "plt.ylabel('P')\n",
    "#plt.title('Neyman Confidence Level, N = 100, Central Interval, 90%')\n",
    "plt.title('Neyman Confidence Level, N = 100, Smallest Interval, 90%')\n",
    "plt.grid(True)\n",
    "plt.show()"
   ]
  },
  {
   "cell_type": "code",
   "execution_count": 21,
   "metadata": {
    "nbpresent": {
     "id": "aa2ce76f-46da-4b98-94e8-57d66528b272"
    }
   },
   "outputs": [
    {
     "data": {
      "image/png": "[encoded data removed]",
      "text/plain": [
       "<matplotlib.figure.Figure at 0x7f4940638110>"
      ]
     },
     "metadata": {},
     "output_type": "display_data"
    }
   ],
   "source": [
    "r_min_1000_si, r_max_1000_si, p_values = neyman_CL(1000,'si')\n",
    "plt.plot(r_min_1000_si, p_values)\n",
    "plt.plot(r_max_1000_si, p_values)\n",
    "plt.xlabel('r')\n",
    "plt.ylabel('P')\n",
    "#plt.title('Neyman Confidence Level, N = 1000, Central Interval, 90%')\n",
    "plt.title('Neyman Confidence Level, N = 1000, Smallest Interval, 90%')\n",
    "plt.grid(True)\n",
    "plt.show()"
   ]
  },
  {
   "cell_type": "code",
   "execution_count": 33,
   "metadata": {
    "nbpresent": {
     "id": "3642cd3d-178d-41bf-b1cd-96eb6ca91177"
    },
    "scrolled": true
   },
   "outputs": [
    {
     "name": "stdout",
     "output_type": "stream",
     "text": [
      "Smallest Interval\n",
      "E(GeV)\t N\t r\t p_est\t p_min\t p_max\n",
      "0.5\t100\t0\t0.0\t0.0\t0.03\n",
      "1.0\t100\t4\t0.04\t0.018\t0.09\n",
      "1.5\t100\t20\t0.2\t0.141\t0.276\n",
      "2.0\t100\t58\t0.58\t0.496\t0.66\n",
      "2.5\t100\t92\t0.92\t0.86\t0.955\n",
      "3.0\t1000\t987\t0.987\t0.98\t0.993\n",
      "3.5\t1000\t995\t0.995\t0.99\t0.998\n",
      "4.0\t1000\t998\t0.998\t0.994\t1.0\n"
     ]
    }
   ],
   "source": [
    "print(\"Smallest Interval\")\n",
    "print(\"E(GeV)\\t N\\t r\\t p_est\\t p_min\\t p_max\" )\n",
    "\n",
    "p_min_si = []\n",
    "p_max_si = []\n",
    "\n",
    "for i in range(0,len(Energies)):\n",
    "    E = Energies[i]\n",
    "    R = Successes[i]\n",
    "    N = Trials[i]\n",
    "    p_est_si = Efficiencies_estimate[i]\n",
    "    if(N == 1000):\n",
    "        r_min = r_min_1000_si\n",
    "        r_max = r_max_1000_si\n",
    "    else:\n",
    "        r_min = r_min_100_si\n",
    "        r_max = r_max_100_si\n",
    "        \n",
    "    p_min_si.append(np.asarray(r_max).searchsorted(R, side='left')/1000.)\n",
    "    p_max_si.append(np.asarray(r_min).searchsorted(R, side='right')/1000.)\n",
    "    print(str(E)+ '\\t'+str(N)+ \"\\t\"+ str(R)+ \"\\t\"+ str(p_est_si)+ \"\\t\"+ str(p_min_si[i])+ \"\\t\" +str(p_max_si[i]))"
   ]
  },
  {
   "cell_type": "code",
   "execution_count": 34,
   "metadata": {
    "nbpresent": {
     "id": "17464b0c-37e5-4f53-950f-da8446c15901"
    }
   },
   "outputs": [
    {
     "data": {
      "image/png": "[encoded data removed]",
      "text/plain": [
       "<matplotlib.figure.Figure at 0x7f494052c990>"
      ]
     },
     "metadata": {},
     "output_type": "display_data"
    }
   ],
   "source": [
    "plt.plot(Energies, Efficiencies_estimate, marker='x', linestyle='')\n",
    "plt.plot(Energies, p_min)\n",
    "plt.plot(Energies, p_max)\n",
    "plt.fill_between(x=Energies, y1=p_min, y2=p_max, color='blue', alpha=0.1)\n",
    "plt.xlabel('E[GeV]')\n",
    "plt.ylabel('p')\n",
    "plt.title('Estimated Efficiency with 90% Smallest Interval')\n",
    "plt.show()"
   ]
  },
  {
   "cell_type": "code",
   "execution_count": 35,
   "metadata": {
    "nbpresent": {
     "id": "2e76e16d-362f-4ff1-a28f-f2cc9b70d4d3"
    },
    "scrolled": true
   },
   "outputs": [
    {
     "data": {
      "image/png": "[encoded data removed]",
      "text/plain": [
       "<matplotlib.figure.Figure at 0x7f49401e7390>"
      ]
     },
     "metadata": {},
     "output_type": "display_data"
    }
   ],
   "source": [
    "plt.xlim(2.9,4.1)\n",
    "plt.ylim(0.975,1.0)\n",
    "plt.plot(Energies, Efficiencies_estimate, marker='x', linestyle='')\n",
    "plt.plot(Energies, p_min)\n",
    "plt.plot(Energies, p_max)\n",
    "plt.fill_between(x=Energies, y1=p_min, y2=p_max, color='blue', alpha=0.1)\n",
    "plt.xlabel('E[GeV]')\n",
    "plt.ylabel('p')\n",
    "plt.title('Estimated Efficiency with 90% Smallest Interval')\n",
    "plt.show()"
   ]
  },
  {
   "cell_type": "code",
   "execution_count": 62,
   "metadata": {
    "nbpresent": {
     "id": "719d5af9-e3ee-41e9-8425-8a264238907d"
    }
   },
   "outputs": [
    {
     "data": {
      "text/plain": [
       "1000"
      ]
     },
     "execution_count": 62,
     "metadata": {},
     "output_type": "execute_result"
    }
   ],
   "source": [
    "np.asarray(r_max_100) - np.asarray(r_max_100_si)\n",
    "#print(r_max_100,r_max_100_si)\n",
    "len(r_max_100)"
   ]
  },
  {
   "cell_type": "code",
   "execution_count": 63,
   "metadata": {},
   "outputs": [
    {
     "data": {
      "text/plain": [
       "0.8185668046884277"
      ]
     },
     "execution_count": 63,
     "metadata": {},
     "output_type": "execute_result"
    }
   ],
   "source": [
    "binom(100,100,0.998)"
   ]
  },
  {
   "cell_type": "code",
   "execution_count": 69,
   "metadata": {},
   "outputs": [
    {
     "name": "stdout",
     "output_type": "stream",
     "text": [
      "(0.90479214711370892, 100, 0.999)\n",
      "(1.0, 100, 1.0)\n"
     ]
    }
   ],
   "source": [
    "for p in np.arange(0.980,1.,1/1000.):\n",
    "    for r in np.arange(0,101,1):\n",
    "        v = binom(r,100,p)\n",
    "        if v>0.9:\n",
    "            print(v, r, p)"
   ]
  },
  {
   "cell_type": "code",
   "execution_count": null,
   "metadata": {
    "collapsed": true
   },
   "outputs": [],
   "source": []
  }
 ],
 "metadata": {
  "kernelspec": {
   "display_name": "Python 2",
   "language": "python",
   "name": "python2"
  },
  "language_info": {
   "codemirror_mode": {
    "name": "ipython",
    "version": 2
   },
   "file_extension": ".py",
   "mimetype": "text/x-python",
   "name": "python",
   "nbconvert_exporter": "python",
   "pygments_lexer": "ipython2",
   "version": "2.7.13"
  },
  "nbpresent": {
   "slides": {
    "0c373bf7-31ee-4e02-b94f-536273ff555d": {
     "id": "0c373bf7-31ee-4e02-b94f-536273ff555d",
     "prev": "58e2a482-dc72-473a-9ad6-456f14c15904",
     "regions": {
      "469d75f7-23ab-43da-a4c6-76f6f1548ffd": {
       "attrs": {
        "height": 0.8,
        "width": 0.8,
        "x": 0.1,
        "y": 0.1
       },
       "content": {
        "cell": "0bae5ce2-91cf-4157-88db-3423d1aa94b9",
        "part": "whole"
       },
       "id": "469d75f7-23ab-43da-a4c6-76f6f1548ffd"
      }
     }
    },
    "1a1847a4-a878-4e83-97e0-968696f7900f": {
     "id": "1a1847a4-a878-4e83-97e0-968696f7900f",
     "prev": "0c373bf7-31ee-4e02-b94f-536273ff555d",
     "regions": {
      "c85b9733-bae8-4428-a928-656828b1a1fa": {
       "attrs": {
        "height": 0.8,
        "width": 0.8,
        "x": 0.1,
        "y": 0.1
       },
       "content": {
        "cell": "03a171a8-4d01-4d9e-9775-a70a793cdb3f",
        "part": "whole"
       },
       "id": "c85b9733-bae8-4428-a928-656828b1a1fa"
      }
     }
    },
    "31ddcf91-c71d-44f3-bf62-0d161a3554d2": {
     "id": "31ddcf91-c71d-44f3-bf62-0d161a3554d2",
     "prev": "7522f8c3-90cb-4ae9-a2be-64ae6da658f0",
     "regions": {
      "94db733f-196a-45ca-b994-50631f534ec6": {
       "attrs": {
        "height": 0.8,
        "width": 0.8,
        "x": 0.1,
        "y": 0.1
       },
       "content": {
        "cell": "ed213a49-1315-4d1b-9585-ef65ef907b0e",
        "part": "whole"
       },
       "id": "94db733f-196a-45ca-b994-50631f534ec6"
      }
     }
    },
    "3846ceee-9260-445f-9e6a-4be7d6c707db": {
     "id": "3846ceee-9260-445f-9e6a-4be7d6c707db",
     "prev": "57a026bf-ea66-4c48-b46c-c3fcb69400bc",
     "regions": {
      "795017e2-220a-49f9-890d-6e943b03d406": {
       "attrs": {
        "height": 0.8,
        "width": 0.8,
        "x": 0.1,
        "y": 0.1
       },
       "content": {
        "cell": "3642cd3d-178d-41bf-b1cd-96eb6ca91177",
        "part": "whole"
       },
       "id": "795017e2-220a-49f9-890d-6e943b03d406"
      }
     }
    },
    "55b2e9aa-5d3d-4e91-8ec2-8143ac60a1ce": {
     "id": "55b2e9aa-5d3d-4e91-8ec2-8143ac60a1ce",
     "prev": "9a91fe1d-49ab-41b5-a2ec-cfbffd240b0b",
     "regions": {
      "85075d82-9397-4a4f-831b-c51f938506ff": {
       "attrs": {
        "height": 0.8,
        "width": 0.8,
        "x": 0.1,
        "y": 0.1
       },
       "content": {
        "cell": "d84876b6-30cf-4694-85c5-294569c985bb",
        "part": "whole"
       },
       "id": "85075d82-9397-4a4f-831b-c51f938506ff"
      }
     }
    },
    "566faca8-178c-4524-8af6-1e9743881a0c": {
     "id": "566faca8-178c-4524-8af6-1e9743881a0c",
     "prev": "5ed0af09-be49-4036-84fe-b0992aad5c16",
     "regions": {
      "20e08421-777a-456b-b6c5-bdea762f131d": {
       "attrs": {
        "height": 0.8,
        "width": 0.8,
        "x": 0.1,
        "y": 0.1
       },
       "content": {
        "cell": "f1f30059-c29b-4891-a1c0-3fa139c28702",
        "part": "whole"
       },
       "id": "20e08421-777a-456b-b6c5-bdea762f131d"
      }
     }
    },
    "57a026bf-ea66-4c48-b46c-c3fcb69400bc": {
     "id": "57a026bf-ea66-4c48-b46c-c3fcb69400bc",
     "prev": "af4cb23a-debb-4fa0-ae23-a906c7ff894d",
     "regions": {
      "cc31d1eb-d212-4431-b0f0-1ed4be8ae9da": {
       "attrs": {
        "height": 0.8,
        "width": 0.8,
        "x": 0.1,
        "y": 0.1
       },
       "content": {
        "cell": "aa2ce76f-46da-4b98-94e8-57d66528b272",
        "part": "whole"
       },
       "id": "cc31d1eb-d212-4431-b0f0-1ed4be8ae9da"
      }
     }
    },
    "58e2a482-dc72-473a-9ad6-456f14c15904": {
     "id": "58e2a482-dc72-473a-9ad6-456f14c15904",
     "prev": "566faca8-178c-4524-8af6-1e9743881a0c",
     "regions": {
      "63d3533f-9b70-4a5a-abb5-eac09709091e": {
       "attrs": {
        "height": 0.8,
        "width": 0.8,
        "x": 0.1,
        "y": 0.1
       },
       "content": {
        "cell": "d2a449cc-99af-4155-93cb-5b3c26cb4977",
        "part": "whole"
       },
       "id": "63d3533f-9b70-4a5a-abb5-eac09709091e"
      }
     }
    },
    "5ed0af09-be49-4036-84fe-b0992aad5c16": {
     "id": "5ed0af09-be49-4036-84fe-b0992aad5c16",
     "prev": "b1b29048-ba47-4f52-a29f-72903c6ffff2",
     "regions": {
      "2ef20ce0-f42b-4998-98f6-3af92d53cdbf": {
       "attrs": {
        "height": 0.8,
        "width": 0.8,
        "x": 0.1,
        "y": 0.1
       },
       "content": {
        "cell": "a2bcd875-855e-4fb8-8a2d-877307cd7591",
        "part": "whole"
       },
       "id": "2ef20ce0-f42b-4998-98f6-3af92d53cdbf"
      }
     }
    },
    "7522f8c3-90cb-4ae9-a2be-64ae6da658f0": {
     "id": "7522f8c3-90cb-4ae9-a2be-64ae6da658f0",
     "prev": "55b2e9aa-5d3d-4e91-8ec2-8143ac60a1ce",
     "regions": {
      "4ead2bcb-6c77-4df8-90c4-d296496d1af4": {
       "attrs": {
        "height": 0.8,
        "width": 0.8,
        "x": 0.1,
        "y": 0.1
       },
       "content": {
        "cell": "4798677b-1236-4b1c-8395-7510966d499b",
        "part": "whole"
       },
       "id": "4ead2bcb-6c77-4df8-90c4-d296496d1af4"
      }
     }
    },
    "8385967b-871e-4cbd-952e-b661f82dfd4d": {
     "id": "8385967b-871e-4cbd-952e-b661f82dfd4d",
     "prev": "a8ce06c1-8881-4923-87de-f94276784032",
     "regions": {
      "8ac40962-9e5a-4fb7-aa43-5321dfe27315": {
       "attrs": {
        "height": 0.8,
        "width": 0.8,
        "x": 0.1,
        "y": 0.1
       },
       "content": {
        "cell": "d88a6f3b-719d-42fb-8a73-1aac72a285e7",
        "part": "whole"
       },
       "id": "8ac40962-9e5a-4fb7-aa43-5321dfe27315"
      }
     }
    },
    "993aed07-7e13-4f8e-b3b3-05d4e946d112": {
     "id": "993aed07-7e13-4f8e-b3b3-05d4e946d112",
     "prev": "3846ceee-9260-445f-9e6a-4be7d6c707db",
     "regions": {
      "30a27945-96b6-4d9c-a3e9-8c80a61155e2": {
       "attrs": {
        "height": 0.8,
        "width": 0.8,
        "x": 0.1,
        "y": 0.1
       },
       "content": {
        "cell": "17464b0c-37e5-4f53-950f-da8446c15901",
        "part": "whole"
       },
       "id": "30a27945-96b6-4d9c-a3e9-8c80a61155e2"
      }
     }
    },
    "9a91fe1d-49ab-41b5-a2ec-cfbffd240b0b": {
     "id": "9a91fe1d-49ab-41b5-a2ec-cfbffd240b0b",
     "prev": "b54f341c-86ba-4f2c-89b3-e4ea987f9a9c",
     "regions": {
      "6f5c6602-3538-4d57-865f-cbd88210adfb": {
       "attrs": {
        "height": 0.8,
        "width": 0.8,
        "x": 0.1,
        "y": 0.1
       },
       "content": {
        "cell": "dfcfc5bc-a918-4fc4-a951-dca7070522c0",
        "part": "whole"
       },
       "id": "6f5c6602-3538-4d57-865f-cbd88210adfb"
      }
     }
    },
    "a8ce06c1-8881-4923-87de-f94276784032": {
     "id": "a8ce06c1-8881-4923-87de-f94276784032",
     "prev": null,
     "regions": {
      "5eb1735e-5671-40fe-a412-4dc599267942": {
       "attrs": {
        "height": 0.8,
        "width": 0.8,
        "x": 0.1,
        "y": 0.1
       },
       "content": {
        "cell": "125ea55a-72e6-4c92-b7df-502eadc6fd2d",
        "part": "whole"
       },
       "id": "5eb1735e-5671-40fe-a412-4dc599267942"
      }
     }
    },
    "af4cb23a-debb-4fa0-ae23-a906c7ff894d": {
     "id": "af4cb23a-debb-4fa0-ae23-a906c7ff894d",
     "prev": "1a1847a4-a878-4e83-97e0-968696f7900f",
     "regions": {
      "bc0ce21a-e957-44ed-9e17-85b0200b8548": {
       "attrs": {
        "height": 0.8,
        "width": 0.8,
        "x": 0.1,
        "y": 0.1
       },
       "content": {
        "cell": "71e2bca5-ce9c-4866-818d-abc93df6e58e",
        "part": "whole"
       },
       "id": "bc0ce21a-e957-44ed-9e17-85b0200b8548"
      }
     }
    },
    "b1b29048-ba47-4f52-a29f-72903c6ffff2": {
     "id": "b1b29048-ba47-4f52-a29f-72903c6ffff2",
     "prev": "31ddcf91-c71d-44f3-bf62-0d161a3554d2",
     "regions": {
      "9d8da80a-a924-4674-a112-fcd2aff57f81": {
       "attrs": {
        "height": 0.8,
        "width": 0.8,
        "x": 0.1,
        "y": 0.1
       },
       "content": {
        "cell": "a451b89b-3089-465b-834e-4f4e570980df",
        "part": "whole"
       },
       "id": "9d8da80a-a924-4674-a112-fcd2aff57f81"
      }
     }
    },
    "b54f341c-86ba-4f2c-89b3-e4ea987f9a9c": {
     "id": "b54f341c-86ba-4f2c-89b3-e4ea987f9a9c",
     "prev": "dc9a8a2f-f386-44c7-8143-0a67a401bd4e",
     "regions": {
      "e78f8443-99ca-45fe-9643-d8273b816075": {
       "attrs": {
        "height": 0.8,
        "width": 0.8,
        "x": 0.1,
        "y": 0.1
       },
       "content": {
        "cell": "b5a593cc-32b9-4513-9ddb-d9f97c5cd84c",
        "part": "whole"
       },
       "id": "e78f8443-99ca-45fe-9643-d8273b816075"
      }
     }
    },
    "baa09397-75fa-47ad-b1ec-18b181ee1596": {
     "id": "baa09397-75fa-47ad-b1ec-18b181ee1596",
     "prev": "f837feaa-cb3e-4ec8-ae43-f31c58a3d7d6",
     "regions": {
      "9af29f14-9d20-4178-9fa7-76863b9585f8": {
       "attrs": {
        "height": 0.8,
        "width": 0.8,
        "x": 0.1,
        "y": 0.1
       },
       "content": {
        "cell": "800a6821-228d-4e81-b886-052b8af70210",
        "part": "whole"
       },
       "id": "9af29f14-9d20-4178-9fa7-76863b9585f8"
      }
     }
    },
    "dc9a8a2f-f386-44c7-8143-0a67a401bd4e": {
     "id": "dc9a8a2f-f386-44c7-8143-0a67a401bd4e",
     "prev": "8385967b-871e-4cbd-952e-b661f82dfd4d",
     "regions": {
      "4c660d5d-2324-4ef8-b9ab-408709a5672b": {
       "attrs": {
        "height": 0.8,
        "width": 0.8,
        "x": 0.1,
        "y": 0.1
       },
       "content": {
        "cell": "f778f18b-6b13-41ee-88ad-a10e51c33f05",
        "part": "whole"
       },
       "id": "4c660d5d-2324-4ef8-b9ab-408709a5672b"
      }
     }
    },
    "e8daf5c6-ce63-4ba0-8da5-7fb57b3cd8ba": {
     "id": "e8daf5c6-ce63-4ba0-8da5-7fb57b3cd8ba",
     "prev": "baa09397-75fa-47ad-b1ec-18b181ee1596",
     "regions": {
      "9249ec3e-a9f7-4d80-8fc7-adb9a5a5e140": {
       "attrs": {
        "height": 0.8,
        "width": 0.8,
        "x": 0.1,
        "y": 0.1
       },
       "content": {
        "cell": "719d5af9-e3ee-41e9-8425-8a264238907d",
        "part": "whole"
       },
       "id": "9249ec3e-a9f7-4d80-8fc7-adb9a5a5e140"
      }
     }
    },
    "f837feaa-cb3e-4ec8-ae43-f31c58a3d7d6": {
     "id": "f837feaa-cb3e-4ec8-ae43-f31c58a3d7d6",
     "prev": "fe1eb737-2f5f-413b-b629-2765875e8a76",
     "regions": {
      "2d37f55a-465d-4163-8858-1b426ce1ed52": {
       "attrs": {
        "height": 0.8,
        "width": 0.8,
        "x": 0.1,
        "y": 0.1
       },
       "content": {
        "cell": "54ed8b5c-325c-43a5-bb5d-b834266fd66d",
        "part": "whole"
       },
       "id": "2d37f55a-465d-4163-8858-1b426ce1ed52"
      }
     }
    },
    "fe1eb737-2f5f-413b-b629-2765875e8a76": {
     "id": "fe1eb737-2f5f-413b-b629-2765875e8a76",
     "prev": "993aed07-7e13-4f8e-b3b3-05d4e946d112",
     "regions": {
      "47398e38-0c88-4a84-85ee-78b806a33ff9": {
       "attrs": {
        "height": 0.8,
        "width": 0.8,
        "x": 0.1,
        "y": 0.1
       },
       "content": {
        "cell": "2e76e16d-362f-4ff1-a28f-f2cc9b70d4d3",
        "part": "whole"
       },
       "id": "47398e38-0c88-4a84-85ee-78b806a33ff9"
      }
     }
    }
   },
   "themes": {}
  }
 },
 "nbformat": 4,
 "nbformat_minor": 2
}
