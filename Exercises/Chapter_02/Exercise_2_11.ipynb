{
 "cells": [
  {
   "cell_type": "markdown",
   "metadata": {},
   "source": [
    "# Exercise 2.11\n"
   ]
  },
  {
   "cell_type": "markdown",
   "metadata": {},
   "source": [
    "_Analyze the data in the table from a frequentist perspective by finding the\n",
    "90 % confidence level interval for\n",
    "p\n",
    "as a function of energy. Use the Central\n",
    "Interval to find the 90 % CL interval for\n",
    "p\n",
    "._"
   ]
  },
  {
   "cell_type": "code",
   "execution_count": 1,
   "metadata": {
    "collapsed": true
   },
   "outputs": [],
   "source": [
    "import numpy as np\n",
    "import matplotlib.pyplot as plt\n",
    "from math import factorial"
   ]
  },
  {
   "cell_type": "code",
   "execution_count": 2,
   "metadata": {
    "collapsed": true
   },
   "outputs": [],
   "source": [
    "def binom(r,N,p):\n",
    "    factor1 = factorial(N)/(factorial(r)*factorial(N-r))\n",
    "    factor2 = pow(p,r)*pow((1.-p),N-r)\n",
    "    return factor1 * factor2\n",
    "                        "
   ]
  },
  {
   "cell_type": "code",
   "execution_count": 3,
   "metadata": {
    "collapsed": true
   },
   "outputs": [],
   "source": [
    "# calculating the boundaries of the central interval\n",
    "def central_interval(p, N, alpha):\n",
    "    r_min = 0\n",
    "    acc_sum = binom(0, N, p)\n",
    "    while acc_sum <= alpha/2.:\n",
    "        r_min += 1\n",
    "        acc_sum += binom(r_min, N, p)\n",
    "\n",
    "        \n",
    "    r_max = N\n",
    "    acc_sum = binom(N, N, p)\n",
    "    while acc_sum <= alpha/2.:\n",
    "        r_max -= 1        \n",
    "        acc_sum += binom(r_max, N, p)\n",
    "        \n",
    "    return r_min, r_max"
   ]
  },
  {
   "cell_type": "code",
   "execution_count": 4,
   "metadata": {
    "collapsed": true
   },
   "outputs": [],
   "source": [
    "def smallest_interval(p, N, alpha):\n",
    "    rs=list()\n",
    "    r_probabilities=list()\n",
    "    for r in range(0,N+1):\n",
    "        rs.append(r)\n",
    "        r_probabilities.append(binom(r,N,p))\n",
    "    sorted_list = list(sorted(zip(r_probabilities,rs),reverse=True))\n",
    "    mode = sorted_list[0][1]\n",
    "    \n",
    "    acc_sum=r_min=r_max=icount=0\n",
    "    while acc_sum<(1.-alpha):\n",
    "        acc_sum+=sorted_list[icount][0]\n",
    "        if sorted_list[icount][1] > mode:\n",
    "            r_max = sorted_list[icount][1]\n",
    "        elif sorted_list[icount][1] < mode:\n",
    "            r_min = sorted_list[icount][1]\n",
    "        icount+=1\n",
    "    if p ==0:\n",
    "        r_min=r_max=0\n",
    "    elif p==1:\n",
    "        r_min=r_max=N\n",
    "    return r_min, r_max"
   ]
  },
  {
   "cell_type": "code",
   "execution_count": 5,
   "metadata": {},
   "outputs": [
    {
     "data": {
      "text/plain": [
       "array([ 0.   ,  0.04 ,  0.2  ,  0.58 ,  0.92 ,  0.987,  0.995,  0.998])"
      ]
     },
     "execution_count": 5,
     "metadata": {},
     "output_type": "execute_result"
    }
   ],
   "source": [
    "# Defining list of the given data\n",
    "# using numpy arrays here\n",
    "Energies = np.array([0.5, 1., 1.5, 2., 2.5, 3., 3.5, 4.])\n",
    "Trials = np.array([100, 100, 100, 100, 100, 1000, 1000, 1000])\n",
    "Successes = np.array([0,4,20,58,92,987,995,998])\n",
    "\n",
    "# The mode of the posterior with a flat prior was in the lecture given as p* 0 r/N\n",
    "Efficiencies_estimate = 1.0 * Successes / Trials\n",
    "Efficiencies_estimate"
   ]
  },
  {
   "cell_type": "code",
   "execution_count": 6,
   "metadata": {
    "collapsed": true
   },
   "outputs": [],
   "source": [
    "def neyman_CL(N,interval='ci',alpha=0.1):\n",
    "    stepsize = 1/1000.\n",
    "    p_values = np.arange(0,1,stepsize)\n",
    "    r_mins = []\n",
    "    r_maxs = []\n",
    "    for p in p_values:\n",
    "        if interval=='ci':\n",
    "            rmin_tmp, rmax_tmp = central_interval(p,N,alpha)\n",
    "        elif interval=='si':\n",
    "            rmin_tmp, rmax_tmp = smallest_interval(p,N,alpha)\n",
    "        r_mins.append(rmin_tmp)\n",
    "        r_maxs.append(rmax_tmp)\n",
    "    return r_mins, r_maxs, p_values\n",
    "            "
   ]
  },
  {
   "cell_type": "code",
   "execution_count": null,
   "metadata": {},
   "outputs": [
    {
     "data": {
      "image/png": "[encoded data removed]",
      "text/plain": [
       "<matplotlib.figure.Figure at 0x7f4a635df910>"
      ]
     },
     "metadata": {},
     "output_type": "display_data"
    }
   ],
   "source": [
    "r_min_100, r_max_100, p_values = neyman_CL(100,'ci')\n",
    "plt.plot(r_min_100, p_values)\n",
    "plt.plot(r_max_100, p_values)\n",
    "plt.xlabel('r')\n",
    "plt.ylabel('P')\n",
    "plt.title('Neyman Confidence Level, N = 100, Central Interval, 90%')\n",
    "#plt.title('Neyman Confidence Level, N = 100, Smallest Interval, 90%')\n",
    "plt.grid(True)\n",
    "plt.show()"
   ]
  },
  {
   "cell_type": "code",
   "execution_count": null,
   "metadata": {
    "collapsed": true
   },
   "outputs": [],
   "source": [
    "r_min_1000, r_max_1000, p_values = neyman_CL(1000,'ci')\n",
    "plt.plot(r_min_1000, p_values)\n",
    "plt.plot(r_max_1000, p_values)\n",
    "plt.xlabel('r')\n",
    "plt.ylabel('P')\n",
    "plt.title('Neyman Confidence Level, N = 1000, Central Interval, 90%')\n",
    "#plt.title('Neyman Confidence Level, N = 1000, Smallest Interval, 90%')\n",
    "plt.grid(True)\n",
    "plt.show()"
   ]
  },
  {
   "cell_type": "code",
   "execution_count": null,
   "metadata": {
    "collapsed": true,
    "scrolled": true
   },
   "outputs": [],
   "source": [
    "print(\"Central Interval\")\n",
    "print(\"E(GeV)\\t N\\t r\\t p_est\\t p_min\\t p_max\" )\n",
    "\n",
    "p_min = []\n",
    "p_max = []\n",
    "\n",
    "for i in range(0,len(Energies)):\n",
    "    E = Energies[i]\n",
    "    R = Successes[i]\n",
    "    N = Trials[i]\n",
    "    p_est = Efficiencies_estimate[i]\n",
    "    if(N == 1000):\n",
    "        r_min = r_min_1000\n",
    "        r_max = r_max_1000\n",
    "    else:\n",
    "        r_min = r_min_100\n",
    "        r_max = r_max_100\n",
    "        \n",
    "    p_min.append(np.asarray(r_max).searchsorted(R, side='left')/1000.)\n",
    "    p_max.append(np.asarray(r_min).searchsorted(R, side='right')/1000.)\n",
    "    print(str(E)+ '\\t'+str(N)+ \"\\t\"+ str(R)+ \"\\t\"+ str(p_est)+ \"\\t\"+ str(p_min[i])+ \"\\t\" +str(p_max[i]))"
   ]
  },
  {
   "cell_type": "code",
   "execution_count": null,
   "metadata": {
    "collapsed": true
   },
   "outputs": [],
   "source": [
    "plt.plot(Energies, Efficiencies_estimate, marker='x', linestyle='')\n",
    "plt.plot(Energies, p_min)\n",
    "plt.plot(Energies, p_max)\n",
    "plt.fill_between(x=Energies, y1=p_min, y2=p_max, color='blue', alpha=0.1)\n",
    "plt.xlabel('E[GeV]')\n",
    "plt.ylabel('p')\n",
    "plt.title('Estimated Efficiency with 90% Central Interval')\n",
    "plt.show()"
   ]
  },
  {
   "cell_type": "code",
   "execution_count": null,
   "metadata": {
    "collapsed": true,
    "scrolled": true
   },
   "outputs": [],
   "source": [
    "plt.xlim(2.9,4.1)\n",
    "plt.ylim(0.975,1.0)\n",
    "plt.plot(Energies, Efficiencies_estimate, marker='x', linestyle='')\n",
    "plt.plot(Energies, p_min)\n",
    "plt.plot(Energies, p_max)\n",
    "plt.fill_between(x=Energies, y1=p_min, y2=p_max, color='blue', alpha=0.1)\n",
    "plt.xlabel('E[GeV]')\n",
    "plt.ylabel('p')\n",
    "plt.title('Estimated Efficiency with 90% Central Interval')\n",
    "plt.show()"
   ]
  },
  {
   "cell_type": "markdown",
   "metadata": {},
   "source": [
    "# Now for the Smallest Interval"
   ]
  },
  {
   "cell_type": "code",
   "execution_count": null,
   "metadata": {
    "collapsed": true
   },
   "outputs": [],
   "source": [
    "r_min_100_si, r_max_100_si, p_values = neyman_CL(100,'si')\n",
    "plt.plot(r_min_100, p_values)\n",
    "plt.plot(r_max_100, p_values)\n",
    "plt.xlabel('r')\n",
    "plt.ylabel('P')\n",
    "#plt.title('Neyman Confidence Level, N = 100, Central Interval, 90%')\n",
    "plt.title('Neyman Confidence Level, N = 100, Smallest Interval, 90%')\n",
    "plt.grid(True)\n",
    "plt.show()"
   ]
  },
  {
   "cell_type": "code",
   "execution_count": null,
   "metadata": {
    "collapsed": true
   },
   "outputs": [],
   "source": [
    "r_min_1000_si, r_max_1000_si, p_values = neyman_CL(1000,'si')\n",
    "plt.plot(r_min_1000, p_values)\n",
    "plt.plot(r_max_1000, p_values)\n",
    "plt.xlabel('r')\n",
    "plt.ylabel('P')\n",
    "#plt.title('Neyman Confidence Level, N = 1000, Central Interval, 90%')\n",
    "plt.title('Neyman Confidence Level, N = 1000, Smallest Interval, 90%')\n",
    "plt.grid(True)\n",
    "plt.show()"
   ]
  },
  {
   "cell_type": "code",
   "execution_count": null,
   "metadata": {
    "collapsed": true,
    "scrolled": true
   },
   "outputs": [],
   "source": [
    "print(\"Smallest Interval\")\n",
    "print(\"E(GeV)\\t N\\t r\\t p_est\\t p_min\\t p_max\" )\n",
    "\n",
    "p_min_si = []\n",
    "p_max_si = []\n",
    "\n",
    "for i in range(0,len(Energies)):\n",
    "    E = Energies[i]\n",
    "    R = Successes[i]\n",
    "    N = Trials[i]\n",
    "    p_est_si = Efficiencies_estimate[i]\n",
    "    if(N == 1000):\n",
    "        r_min = r_min_1000_si\n",
    "        r_max = r_max_1000_si\n",
    "    else:\n",
    "        r_min = r_min_100_si\n",
    "        r_max = r_max_100_si\n",
    "        \n",
    "    p_min_si.append(np.asarray(r_max).searchsorted(R, side='left')/1000.)\n",
    "    p_max_si.append(np.asarray(r_min).searchsorted(R, side='right')/1000.)\n",
    "    print(str(E)+ '\\t'+str(N)+ \"\\t\"+ str(R)+ \"\\t\"+ str(p_est_si)+ \"\\t\"+ str(p_min_si[i])+ \"\\t\" +str(p_max_si[i]))"
   ]
  },
  {
   "cell_type": "code",
   "execution_count": null,
   "metadata": {
    "collapsed": true
   },
   "outputs": [],
   "source": [
    "plt.plot(Energies, Efficiencies_estimate, marker='x', linestyle='')\n",
    "plt.plot(Energies, p_min)\n",
    "plt.plot(Energies, p_max)\n",
    "plt.fill_between(x=Energies, y1=p_min, y2=p_max, color='blue', alpha=0.1)\n",
    "plt.xlabel('E[GeV]')\n",
    "plt.ylabel('p')\n",
    "plt.title('Estimated Efficiency with 90% Smallest Interval')\n",
    "plt.show()"
   ]
  },
  {
   "cell_type": "code",
   "execution_count": null,
   "metadata": {
    "collapsed": true,
    "scrolled": true
   },
   "outputs": [],
   "source": [
    "plt.xlim(2.9,4.1)\n",
    "plt.ylim(0.975,1.0)\n",
    "plt.plot(Energies, Efficiencies_estimate, marker='x', linestyle='')\n",
    "plt.plot(Energies, p_min)\n",
    "plt.plot(Energies, p_max)\n",
    "plt.fill_between(x=Energies, y1=p_min, y2=p_max, color='blue', alpha=0.1)\n",
    "plt.xlabel('E[GeV]')\n",
    "plt.ylabel('p')\n",
    "plt.title('Estimated Efficiency with 90% Smallest Interval')\n",
    "plt.show()"
   ]
  },
  {
   "cell_type": "code",
   "execution_count": null,
   "metadata": {
    "collapsed": true
   },
   "outputs": [],
   "source": [
    "r_max_100 - r_max_100_SI"
   ]
  }
 ],
 "metadata": {
  "kernelspec": {
   "display_name": "Python 2",
   "language": "python",
   "name": "python2"
  },
  "language_info": {
   "codemirror_mode": {
    "name": "ipython",
    "version": 2
   },
   "file_extension": ".py",
   "mimetype": "text/x-python",
   "name": "python",
   "nbconvert_exporter": "python",
   "pygments_lexer": "ipython2",
   "version": "2.7.13"
  }
 },
 "nbformat": 4,
 "nbformat_minor": 2
}
