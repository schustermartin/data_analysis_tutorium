{
 "cells": [
  {
   "cell_type": "markdown",
   "metadata": {
    "nbpresent": {
     "id": "2e17e297-00fd-49b1-b825-5405b7727982"
    }
   },
   "source": [
    "# Exercise 08\n",
    "\n",
    "For the following function \n",
    "\n",
    "$\\begin{eqnarray}\n",
    "P(x)=x\\textrm{e}^{-x}  \\hspace{2cm}  0\\leq x < \\infty\n",
    "\\end{eqnarray}$\n",
    "\n",
    "(a) Find the mean and standard deviation. What is the probability content in the interval (mean-standard deviation, mean+standard deviation).\n",
    "\n",
    "(b) Find the median and 68% central interval.\n",
    "\n",
    "(c) Find the mode and 68% smallest interval."
   ]
  },
  {
   "cell_type": "code",
   "execution_count": 2,
   "metadata": {
    "collapsed": true,
    "nbpresent": {
     "id": "58d80655-6793-4d80-97a1-0b53a4c31634"
    }
   },
   "outputs": [],
   "source": [
    "import numpy as np\n",
    "import matplotlib.pyplot as plt"
   ]
  },
  {
   "cell_type": "code",
   "execution_count": 3,
   "metadata": {
    "collapsed": true,
    "nbpresent": {
     "id": "b7cfb332-de29-4e07-a993-be8f70dea109"
    }
   },
   "outputs": [],
   "source": [
    "def P(x):\n",
    "    return x*np.exp(-x)"
   ]
  },
  {
   "cell_type": "code",
   "execution_count": 4,
   "metadata": {
    "nbpresent": {
     "id": "77d1bf30-d1c6-4eb9-af27-b992c3c686d3"
    },
    "scrolled": true
   },
   "outputs": [
    {
     "data": {
      "image/png": "[encoded data removed]",
      "text/plain": [
       "<matplotlib.figure.Figure at 0x7f82a3979f90>"
      ]
     },
     "metadata": {},
     "output_type": "display_data"
    }
   ],
   "source": [
    "plt.figure(figsize=(15, 5))\n",
    "xdata = np.arange(0.,20., 0.01)\n",
    "ydata = P(xdata)\n",
    "plt.plot(xdata,ydata)\n",
    "plt.grid()\n",
    "plt.xlim(0,10)\n",
    "plt.show()"
   ]
  },
  {
   "cell_type": "markdown",
   "metadata": {
    "nbpresent": {
     "id": "a32bbd6e-c811-4344-9be4-c3a98c56db5d"
    }
   },
   "source": [
    "Mean:\n",
    "\\begin{align}\n",
    "E(x) = \\mu = \\int\\limits_{0}^{\\infty}xP(x)\\mathrm{d}x = \\int\\limits_{0}^{\\infty}x^2\\mathrm{e}^{-x}\\mathrm{d}x = \\big[-\\textrm{e}^x(x^2+2x+2)\\big]_0^{\\infty} = 2\n",
    "\\end{align}"
   ]
  },
  {
   "cell_type": "markdown",
   "metadata": {
    "nbpresent": {
     "id": "1ed35afb-38cb-441f-bf66-1b7839f8f8ac"
    }
   },
   "source": [
    "Variance:  \n",
    "\\begin{align}\n",
    "V(x) &= \\int\\limits_{0}^{\\infty}(x-\\mu)^2P(x)\\mathrm{d}x = \\int\\limits_{0}^{\\infty}(x-2)^2P(x)\\mathrm{d}x = \\int\\limits_{0}^{\\infty}(x-2)^2x\\textrm{e}^{-x}\\mathrm{d}x \\\\\n",
    "&= \\big[-\\textrm{e}^x(x^3-x2+2x+2)\\big]_0^{\\infty} = 2 \\\\\n",
    "\\sigma &= \\sqrt{V(x)} = 1.414213\n",
    "\\end{align}"
   ]
  },
  {
   "cell_type": "markdown",
   "metadata": {
    "nbpresent": {
     "id": "7d33aa7f-9eaf-4cbb-bde6-c7bd76fe4402"
    }
   },
   "source": [
    "Probabilty contentent, $P_{\\pm\\sigma}$, between $x_1=\\mu-\\sigma$ and $x_2=\\mu+\\sigma$:\n",
    "\\begin{align}\n",
    "    P_{\\pm\\sigma} &= \\int\\limits_{x_1}^{x_2}P(x)\\textrm{d}x \\approx 0.73752\n",
    "\\end{align}"
   ]
  },
  {
   "cell_type": "markdown",
   "metadata": {
    "nbpresent": {
     "id": "768d6aa2-95db-46aa-b2cf-a85570987e6c"
    }
   },
   "source": [
    "Median $x_{med}$:\n",
    "\\begin{align}\n",
    "    P(x_{med}) &= \\int\\limits_{0}^{x_{med}}P(x)\\textrm{d}x = \\int\\limits_{x_{med}}^{1}P(x)\\textrm{d}x = 0.5\n",
    "\\end{align}\n",
    "\\begin{align}\n",
    "   \\int\\limits_{a}^{b}P(x)\\textrm{d}x &= \\big[-\\textrm{e}^{-x}(x+1)\\big]_{a}^{b}\n",
    "\\end{align}\n",
    "\\begin{align}\n",
    "  0.5 &= \\big[-\\textrm{e}^{-x}(x+1)\\big]_{0}^{x_{med}} = \\textrm{e}^{-x_{med}}(x_{med}+1)\n",
    "\\end{align}\n",
    "\\begin{align}\n",
    "  x_{med} \\approx 1.67835\n",
    "\\end{align}\n"
   ]
  },
  {
   "cell_type": "markdown",
   "metadata": {
    "nbpresent": {
     "id": "ab3ef38c-4f79-45ef-bf5d-a29875de7562"
    }
   },
   "source": [
    "Central interval $[x_{c1},x_{c2}]$ with $1-\\alpha = 68\\%$\n",
    "\\begin{align}\n",
    "    \\int\\limits_0^{x_{c1}}P(x)\\textrm{d}x = \\alpha/2 = 0.16\n",
    "\\end{align}\n",
    "\\begin{align}\n",
    "    \\int\\limits_{x_{c2}}^{\\infty}P(x)\\textrm{d}x = \\alpha/2 = 0.16\n",
    "\\end{align}\n",
    "same as for $x_{med}$. Thus,\n",
    "\\begin{align}\n",
    "    x_{c1} &\\approx 0.712038 \\\\\n",
    "    x_{c2} &\\approx 3.28852\n",
    "\\end{align}"
   ]
  },
  {
   "cell_type": "markdown",
   "metadata": {
    "nbpresent": {
     "id": "af2b6fb5-f17e-4182-afd5-6dfaa94898f5"
    }
   },
   "source": [
    "Mode $x^*$:\n",
    "\\begin{align}\n",
    "    P(x^*) &= max(P(x))\n",
    "\\end{align}\n",
    "\n",
    "\\begin{align}\n",
    "    \\dfrac{\\textrm{d}P}{\\textrm{d}x}(x^*) &= 0 \\\\\n",
    "    0 &= -\\textrm{e}^{-x}(x-1) \\hspace{2cm}\\textrm{just one root}\\\\\n",
    "    x^* &= 1\n",
    "\\end{align}"
   ]
  },
  {
   "cell_type": "markdown",
   "metadata": {
    "nbpresent": {
     "id": "3fe83b10-e2c2-4049-89d4-af6ac9934b50"
    }
   },
   "source": [
    "smallest interval $SI = [x_{s1},x_{s2}]$ ($x^* \\in SI$):\n",
    "\n",
    "Look at the plot $\\rightarrow$ just one maximum\n",
    "\n",
    "\\begin{align}\n",
    "    P(x_{s1}) &= P(x_{s2}) \\\\\n",
    "    x_{s1}\\textrm{e}^{-x_{s1}} &= x_{s2}\\textrm{e}^{-x_{s2}} \\\\\n",
    "     0.68 &= \\int\\limits_{x_{s1}}^{x_{s2}}P(x)\\textrm{d}x = -\\textrm{e}^{-x_{s2}}(x_{s2}+1)+\\textrm{e}^{-x_{s1}}(x_{s1}+1)\\\\\n",
    "        0.68 &= \\textrm{e}^{-x_{s1}}-\\textrm{e}^{-x_{s2}}\\\\\n",
    "\\end{align}\n",
    "\n",
    "solve this numerically"
   ]
  },
  {
   "cell_type": "code",
   "execution_count": 13,
   "metadata": {
    "nbpresent": {
     "id": "56ec6a19-dfe1-457a-9cdc-2d7c6d3f3cd5"
    }
   },
   "outputs": [
    {
     "name": "stdout",
     "output_type": "stream",
     "text": [
      "Length of xdata array is: l=15000\n",
      "Stepsize = 0.001000\n",
      "'xdata' are the right edges of the bins.\n",
      "bin 1: from (-0.1,0.0] -> it is empty. The only valid point in this interval is 0 and it has the value 0.\n",
      "bin 2: from 0.00000001 to 0.1: (0.,0.1] -> the value of its is 0.00\n",
      "!!! Python starts indexing at 0 -> Bin 1 has index 0 !\n"
     ]
    }
   ],
   "source": [
    "xdata = np.arange(0.,15.,0.001)\n",
    "ydata = P(xdata)\n",
    "l = len(xdata)\n",
    "stepsize= xdata[2]-xdata[1]\n",
    "print(\"Length of xdata array is: l=%d\" % l)\n",
    "print(\"Stepsize = %f\" % stepsize)\n",
    "print(\"'xdata' are the right edges of the bins.\")\n",
    "print(\"bin 1: from (-0.1,0.0] -> it is empty. The only valid point in this interval is 0 and it has the value 0.\")\n",
    "print(\"bin 2: from 0.00000001 to 0.1: (0.,0.1] -> the value of its is %.2f\" % ydata[1])\n",
    "print(\"!!! Python starts indexing at 0 -> Bin 1 has index 0 !\")"
   ]
  },
  {
   "cell_type": "code",
   "execution_count": 14,
   "metadata": {
    "nbpresent": {
     "id": "69a47b7b-d30d-497d-9154-92a4c93b9750"
    }
   },
   "outputs": [
    {
     "data": {
      "image/png": "[encoded data removed]",
      "text/plain": [
       "<matplotlib.figure.Figure at 0x7f82a03a8a10>"
      ]
     },
     "metadata": {},
     "output_type": "display_data"
    }
   ],
   "source": [
    "plt.figure(figsize=(15, 5))\n",
    "plt.step(xdata,ydata)\n",
    "plt.grid('on')\n",
    "plt.xlim(-0.1,8)\n",
    "plt.show()"
   ]
  },
  {
   "cell_type": "markdown",
   "metadata": {
    "nbpresent": {
     "id": "4f8dcdd8-418c-4d87-bd4a-46f2eafc948d"
    }
   },
   "source": [
    "## (a) Find the mean and standard deviation. What is the probability content in the interval (mean-standard deviation, mean+standard deviation)."
   ]
  },
  {
   "cell_type": "code",
   "execution_count": 15,
   "metadata": {
    "collapsed": true,
    "nbpresent": {
     "id": "9e04a319-ebb1-40bd-9f24-a3912c653879"
    }
   },
   "outputs": [],
   "source": [
    "def calc_mean(xdata, ydata):\n",
    "    mean = 0.\n",
    "    area = 0.\n",
    "    for i in range(1,len(xdata)):\n",
    "        mean += (xdata[i]-0.5*stepsize)*ydata[i]  # use midpoints of interval\n",
    "        area += abs(ydata[i])\n",
    "    return mean/area\n",
    "\n",
    "def calc_std(xdata, ydata, mean):\n",
    "    std = 0.\n",
    "    area = 0.\n",
    "    for i in range(0,len(xdata)):\n",
    "        std += (xdata[i]-0.5*stepsize-mean)**2*ydata[i]\n",
    "        area += abs(ydata[i])\n",
    "    return np.sqrt(std/area)\n",
    "\n",
    "def calc_total_probability(xdata,ydata):\n",
    "    total_prob = 0.\n",
    "    for i in range(0,len(xdata)):\n",
    "        total_prob += ydata[i]*stepsize\n",
    "    return total_prob"
   ]
  },
  {
   "cell_type": "code",
   "execution_count": 16,
   "metadata": {
    "nbpresent": {
     "id": "e0474c0f-3abe-43ad-8030-d63e6c7f5f41"
    }
   },
   "outputs": [
    {
     "name": "stdout",
     "output_type": "stream",
     "text": [
      "mean: = 1.999\n",
      "standard deviation: = 1.414\n",
      "total probability: = 1.000\n"
     ]
    }
   ],
   "source": [
    "mean = calc_mean(xdata,ydata)\n",
    "std = calc_std(xdata,ydata,mean)\n",
    "total_probability = calc_total_probability(xdata,ydata)\n",
    "print(\"mean: = %.3f\" % mean)\n",
    "print(\"standard deviation: = %.3f\" % std)\n",
    "print(\"total probability: = %.3f\" % total_probability)"
   ]
  },
  {
   "cell_type": "code",
   "execution_count": 17,
   "metadata": {
    "nbpresent": {
     "id": "7b6d5905-3623-4c32-99e2-6abe62db1a32"
    }
   },
   "outputs": [
    {
     "data": {
      "image/png": "[encoded data removed]",
      "text/plain": [
       "<matplotlib.figure.Figure at 0x7f82a01c38d0>"
      ]
     },
     "metadata": {},
     "output_type": "display_data"
    }
   ],
   "source": [
    "plt.figure(figsize=(15, 5))\n",
    "plt.step(xdata,ydata, label=\"P(x)\")\n",
    "plt.grid('on')\n",
    "plt.xlim(-0.1,8)\n",
    "\n",
    "plt.axvline(mean, color='red', label=r\"$\\mu$\")\n",
    "plt.axvline(mean-std, color='green', label=r\"$\\mu\\pm\\sigma$\")\n",
    "plt.axvline(mean+std, color='green')\n",
    "\n",
    "plt.legend(fontsize=20)\n",
    "plt.show()"
   ]
  },
  {
   "cell_type": "code",
   "execution_count": 18,
   "metadata": {
    "nbpresent": {
     "id": "d74336f2-7fce-4aaf-a498-5ee1456e80b8"
    }
   },
   "outputs": [
    {
     "data": {
      "image/png": "[encoded data removed]",
      "text/plain": [
       "<matplotlib.figure.Figure at 0x7f82a017e410>"
      ]
     },
     "metadata": {},
     "output_type": "display_data"
    },
    {
     "data": {
      "text/plain": [
       "586"
      ]
     },
     "execution_count": 18,
     "metadata": {},
     "output_type": "execute_result"
    }
   ],
   "source": [
    "# First: Get left index of the interval:\n",
    "idx_l = 0\n",
    "for i in range(0,len(xdata)):\n",
    "    if xdata[i] >= (mean-std):\n",
    "        idx_l = i\n",
    "        break\n",
    "\n",
    "plt.figure(figsize=(15, 5))\n",
    "plt.step(xdata,ydata, label=\"P(x)\")\n",
    "plt.grid('on')\n",
    "plt.xlim((mean-std)-1*stepsize,(mean-std)+2*stepsize)\n",
    "\n",
    "plt.axvline(mean-std, color='green', label=r\"$\\mu-\\sigma$\")\n",
    "plt.axvline(xdata[idx_l-1], color='black', label=r\"left border\")\n",
    "\n",
    "plt.legend(fontsize=20)\n",
    "plt.show()\n",
    "idx_l"
   ]
  },
  {
   "cell_type": "code",
   "execution_count": 19,
   "metadata": {
    "nbpresent": {
     "id": "514149f3-cb51-4565-a0c6-da013f3bd22c"
    }
   },
   "outputs": [
    {
     "data": {
      "image/png": "[encoded data removed]",
      "text/plain": [
       "<matplotlib.figure.Figure at 0x7f82a008bf10>"
      ]
     },
     "metadata": {},
     "output_type": "display_data"
    },
    {
     "data": {
      "text/plain": [
       "3414"
      ]
     },
     "execution_count": 19,
     "metadata": {},
     "output_type": "execute_result"
    }
   ],
   "source": [
    "# Second: Get right index of the interval:\n",
    "idx_r = len(xdata)-1\n",
    "for i in range(1,len(xdata)):\n",
    "    if xdata[i] >(mean+std):\n",
    "        idx_r = i\n",
    "        break\n",
    "        \n",
    "plt.figure(figsize=(15, 5))\n",
    "plt.step(xdata,ydata, label=\"P(x)\")\n",
    "plt.grid('on')\n",
    "plt.xlim((mean+std)-1*stepsize,(mean+std)+2*stepsize)\n",
    "\n",
    "plt.axvline(mean+std, color='green', label=r\"$\\mu+\\sigma$\")\n",
    "plt.axvline(xdata[idx_r], color='black', label=r\"right border\")\n",
    "\n",
    "plt.legend(fontsize=20)\n",
    "plt.show()\n",
    "idx_r"
   ]
  },
  {
   "cell_type": "code",
   "execution_count": 20,
   "metadata": {
    "nbpresent": {
     "id": "c65f7f96-d2d9-4fa8-88b9-45967cdb2d40"
    }
   },
   "outputs": [
    {
     "name": "stdout",
     "output_type": "stream",
     "text": [
      "(586, 3414)\n"
     ]
    },
    {
     "data": {
      "text/plain": [
       "True"
      ]
     },
     "execution_count": 20,
     "metadata": {},
     "output_type": "execute_result"
    }
   ],
   "source": [
    "# Check:\n",
    "print(idx_l, idx_r)\n",
    "if idx_l == 0:\n",
    "    check = 2*std < xdata[idx_r]-xdata[idx_l]\n",
    "else:\n",
    "    check = 2*std < xdata[idx_r]-xdata[idx_l-1]\n",
    "check"
   ]
  },
  {
   "cell_type": "code",
   "execution_count": 21,
   "metadata": {
    "nbpresent": {
     "id": "9727911f-b37d-4f13-b504-082e3cce71c4"
    }
   },
   "outputs": [
    {
     "data": {
      "text/plain": [
       "0.73753198722446822"
      ]
     },
     "execution_count": 21,
     "metadata": {},
     "output_type": "execute_result"
    }
   ],
   "source": [
    "# Sum up the bin entries of the bins of the interval\n",
    "p_std = 0.\n",
    "for i in range(idx_l, idx_r):\n",
    "    p_std += ydata[i]\n",
    "p_std *= stepsize\n",
    "p_std"
   ]
  },
  {
   "cell_type": "markdown",
   "metadata": {
    "nbpresent": {
     "id": "7eea3680-17b9-480c-8d71-a280c8f5dcac"
    }
   },
   "source": [
    "## (b) Find the median and 68% central interval."
   ]
  },
  {
   "cell_type": "code",
   "execution_count": 22,
   "metadata": {
    "nbpresent": {
     "id": "59c46674-082e-4328-9281-e04a0a0eaa1f"
    }
   },
   "outputs": [
    {
     "data": {
      "image/png": "[encoded data removed]",
      "text/plain": [
       "<matplotlib.figure.Figure at 0x7f82a0601b10>"
      ]
     },
     "metadata": {},
     "output_type": "display_data"
    },
    {
     "name": "stdout",
     "output_type": "stream",
     "text": [
      "idx_median=1678\n",
      "x(idx_median) = 1.68\n",
      "P(idx_median)=0.31\n"
     ]
    }
   ],
   "source": [
    "def idx_median(xdata,ydata):\n",
    "    idx_median = 0\n",
    "    cumulative_sum = 0.\n",
    "    for i in range(0,len(xdata)):\n",
    "        cumulative_sum += ydata[i]*stepsize   \n",
    "        if cumulative_sum >= 0.5:\n",
    "            idx_median = i\n",
    "            break    \n",
    "    return idx_median\n",
    "\n",
    "idx_median = idx_median(xdata,ydata)\n",
    "\n",
    "plt.figure(figsize=(15, 5))\n",
    "plt.step(xdata,ydata, label=\"P(x)\")\n",
    "plt.grid('on')\n",
    "plt.xlim(-0.1,8)\n",
    "\n",
    "plt.axvline(mean, color='red', label=r\"$\\mu$\")\n",
    "plt.axvline(xdata[idx_median], color='yellow', label=r\"$median$\")\n",
    "\n",
    "plt.legend(fontsize=20)\n",
    "plt.show()\n",
    "\n",
    "print(\"idx_median=%d\" % idx_median)\n",
    "print(\"x(idx_median) = %.2f\" % (xdata[idx_median]-0.5*stepsize))\n",
    "print(\"P(idx_median)=%.2f\" % ydata[idx_median])"
   ]
  },
  {
   "cell_type": "markdown",
   "metadata": {
    "nbpresent": {
     "id": "56989e00-4fa2-4657-b59a-7a759131bf4e"
    }
   },
   "source": [
    "Now the central interval with $1-\\alpha=68\\% \\rightarrow \\alpha/2 = 0.16$\n",
    "\n",
    "Find $r_1$:  $P(r < r_1) \\leq \\alpha/2 = 0.16$\n",
    "\n",
    "Find $r_2$:  $P(r > r_2) \\leq \\alpha/2 = 0.16$"
   ]
  },
  {
   "cell_type": "code",
   "execution_count": 23,
   "metadata": {
    "collapsed": true,
    "nbpresent": {
     "id": "ea83c48a-a5b1-4aba-8c67-9665f629d49f"
    }
   },
   "outputs": [],
   "source": [
    "def get_r1(xdata,ydata):\n",
    "    r1 = 0\n",
    "    cumulative_sum = ydata[r1]*stepsize\n",
    "    for i in range(1, len(xdata)):\n",
    "        if cumulative_sum >= 0.16:\n",
    "            r1 = i-1\n",
    "            break\n",
    "        cumulative_sum += ydata[i]*stepsize\n",
    "    return r1    \n",
    "\n",
    "def get_r2(xdata,ydata):\n",
    "    r2 = len(xdata)-1\n",
    "    cumulative_sum = ydata[r2]*stepsize\n",
    "    for i in range(len(xdata)-2,0,-1):\n",
    "        if cumulative_sum >= 0.16:\n",
    "            r2 = i+1\n",
    "            break\n",
    "        cumulative_sum += ydata[i]*stepsize\n",
    "    return r2"
   ]
  },
  {
   "cell_type": "code",
   "execution_count": 24,
   "metadata": {
    "nbpresent": {
     "id": "84af8d1c-2f17-4467-95d6-2d6f2ef33d0e"
    }
   },
   "outputs": [
    {
     "name": "stdout",
     "output_type": "stream",
     "text": [
      "r_1 = 712\n",
      "checksum(r1) = 0.159812\n",
      "checksum(r1+1) = 0.160161\n",
      "x(r1) = 0.71\n",
      "r_2 = 3288\n",
      "checksum(r2) = 0.159998\n",
      "checksum(r2-1) = 0.160121\n",
      "x(r2) = 3.29\n"
     ]
    }
   ],
   "source": [
    "r1 = get_r1(xdata,ydata)\n",
    "print(\"r_1 = %d\" % r1)\n",
    "#Check\n",
    "checksum=0.\n",
    "for i in range(0,r1):\n",
    "    checksum+=ydata[i]*stepsize\n",
    "print(\"checksum(r1) = %f\" % checksum)\n",
    "print(\"checksum(r1+1) = %f\" % (checksum+ydata[r1]*stepsize))\n",
    "print(\"x(r1) = %.2f\" % (xdata[r1-1]))\n",
    "    \n",
    "    \n",
    "r2 = get_r2(xdata,ydata)\n",
    "print(\"r_2 = %d\" % r2)\n",
    "checksum=0.\n",
    "for i in range(r2+1,len(xdata)):\n",
    "    checksum+=ydata[i]*stepsize\n",
    "print(\"checksum(r2) = %f\" % checksum)\n",
    "print(\"checksum(r2-1) = %f\" % (checksum+ydata[r2-1]*stepsize))\n",
    "print(\"x(r2) = %.2f\" % (xdata[r2]))"
   ]
  },
  {
   "cell_type": "code",
   "execution_count": 25,
   "metadata": {
    "nbpresent": {
     "id": "10b30ba9-2b98-420b-8b06-034e37068f7c"
    }
   },
   "outputs": [
    {
     "data": {
      "image/png": "[encoded data removed]",
      "text/plain": [
       "<matplotlib.figure.Figure at 0x7f82a05e3190>"
      ]
     },
     "metadata": {},
     "output_type": "display_data"
    }
   ],
   "source": [
    "plt.figure(figsize=(15, 5))\n",
    "plt.step(xdata,ydata, label=\"P(x)\")\n",
    "plt.grid('on')\n",
    "plt.xlim(-0.1,8)\n",
    "\n",
    "plt.axvline(xdata[r1-1], color='red', label=r\"$r_1$\")\n",
    "plt.axvline(xdata[r2]  , color='red', label=r\"$r_2$\")\n",
    "plt.legend(fontsize=20)\n",
    "plt.show()"
   ]
  },
  {
   "cell_type": "markdown",
   "metadata": {
    "nbpresent": {
     "id": "f03ee704-f998-433a-a23b-5528b887e60f"
    }
   },
   "source": [
    "## (c) Find the mode and 68% smallest interval."
   ]
  },
  {
   "cell_type": "code",
   "execution_count": 26,
   "metadata": {
    "collapsed": true,
    "nbpresent": {
     "id": "783ca823-e4fa-4d4f-a550-f51f0514619a"
    }
   },
   "outputs": [],
   "source": [
    "def idx_mode(xdata,ydata):\n",
    "    idx_mode = 0\n",
    "    maximum = ydata[0]\n",
    "    for i in range(1,len(xdata)):  \n",
    "        if ydata[i] == maximum:\n",
    "            print(\"WARNING! -> Double Mode!\")\n",
    "        if ydata[i] > maximum:\n",
    "            idx_mode = i\n",
    "            maximum = ydata[i]\n",
    "    return idx_mode"
   ]
  },
  {
   "cell_type": "code",
   "execution_count": 27,
   "metadata": {
    "nbpresent": {
     "id": "12b971e8-1a2b-4b6b-ad01-b36c3ff8f4a8"
    }
   },
   "outputs": [
    {
     "data": {
      "image/png": "[encoded data removed]",
      "text/plain": [
       "<matplotlib.figure.Figure at 0x7f82a02ba490>"
      ]
     },
     "metadata": {},
     "output_type": "display_data"
    },
    {
     "name": "stdout",
     "output_type": "stream",
     "text": [
      "idx_mode=1000\n",
      "x(idx_mode=1.00\n",
      "P(idx_mode)=0.367879\n"
     ]
    }
   ],
   "source": [
    "idx_mode = idx_mode(xdata,ydata)\n",
    "\n",
    "plt.figure(figsize=(15, 5))\n",
    "plt.step(xdata,ydata, label=\"P(x)\")\n",
    "plt.grid('on')\n",
    "plt.xlim(-0.1,8)\n",
    "\n",
    "plt.axvline(mean, color='red', label=r\"$\\mu$\")\n",
    "plt.axvline(xdata[idx_median], color='yellow', label=r\"$median$\")\n",
    "plt.axvline(xdata[idx_mode]-0.5*stepsize, color='green', label=r\"$r*$\")\n",
    "\n",
    "plt.legend(fontsize=20)\n",
    "plt.show()\n",
    "\n",
    "print(\"idx_mode=%d\" % idx_mode)\n",
    "print(\"x(idx_mode=%.2f\" % (xdata[idx_mode]-0.5*stepsize))\n",
    "print(\"P(idx_mode)=%f\" % ydata[idx_mode])"
   ]
  },
  {
   "cell_type": "code",
   "execution_count": 28,
   "metadata": {
    "nbpresent": {
     "id": "f9c7baed-e625-4664-9402-f256e5f4bcdd"
    }
   },
   "outputs": [
    {
     "data": {
      "text/plain": [
       "array([ 1000,  1001,   999, ..., 14998, 14999,     0])"
      ]
     },
     "execution_count": 28,
     "metadata": {},
     "output_type": "execute_result"
    }
   ],
   "source": [
    "def create_ranking(ydata):\n",
    "    indices = np.arange(0,len(ydata))\n",
    "    a1, ranking = zip(*sorted(zip(ydata, indices)))\n",
    "    return np.flip(ranking,0)\n",
    "\n",
    "ranking = create_ranking(ydata)\n",
    "ranking"
   ]
  },
  {
   "cell_type": "code",
   "execution_count": 29,
   "metadata": {
    "nbpresent": {
     "id": "f7f26db4-394d-4811-a9b6-60f7610b08a3"
    }
   },
   "outputs": [
    {
     "data": {
      "text/plain": [
       "array([1000, 1001,  999, ...,  271, 2489, 2490])"
      ]
     },
     "execution_count": 29,
     "metadata": {},
     "output_type": "execute_result"
    }
   ],
   "source": [
    "def determine_smallest_interval(ydata, ranking):\n",
    "    idx_tmp = 0\n",
    "    cumulative_sum = ydata[ranking[0]]*stepsize\n",
    "    for i in range(1,len(ranking)):\n",
    "        if cumulative_sum >= 0.68:\n",
    "            break\n",
    "        idx_tmp = i\n",
    "        for j in range(i+1, len(ranking)):\n",
    "            if ydata[ranking[idx_tmp]] == ydata[ranking[j]]:\n",
    "                idx_tmp = j\n",
    "            else:\n",
    "                break\n",
    "        for k in range(i,idx_tmp+1):\n",
    "            cumulative_sum += ydata[ranking[k]]*stepsize       \n",
    "    return ranking[0:idx_tmp+1]\n",
    "    \n",
    "smallest_interval_indicies = determine_smallest_interval(ydata, ranking)\n",
    "smallest_interval_indicies"
   ]
  },
  {
   "cell_type": "code",
   "execution_count": 30,
   "metadata": {
    "nbpresent": {
     "id": "4f909ea8-f9ec-4ee7-b4d2-b9364d1d5c45"
    },
    "scrolled": true
   },
   "outputs": [
    {
     "name": "stdout",
     "output_type": "stream",
     "text": [
      "checksum of smallest interval = 0.68014\n",
      "smallest interval SI = [0.27, 2.49]\n"
     ]
    }
   ],
   "source": [
    "checksum = 0.\n",
    "for idx in smallest_interval_indicies:\n",
    "    checksum += ydata[idx]*stepsize\n",
    "\n",
    "print(\"checksum of smallest interval = %.5f\" % checksum)\n",
    "\n",
    "idx_si_1 = min(smallest_interval_indicies)\n",
    "idx_si_2 = max(smallest_interval_indicies)\n",
    "print(\"smallest interval SI = [%.2f, %.2f]\" % ((xdata[idx_si_1-1]),(xdata[idx_si_2])) )"
   ]
  },
  {
   "cell_type": "code",
   "execution_count": 31,
   "metadata": {
    "nbpresent": {
     "id": "2159c068-2383-4311-b556-153a200ab823"
    }
   },
   "outputs": [
    {
     "data": {
      "image/png": "[encoded data removed]",
      "text/plain": [
       "<matplotlib.figure.Figure at 0x7f82a02e4110>"
      ]
     },
     "metadata": {},
     "output_type": "display_data"
    }
   ],
   "source": [
    "plt.figure(figsize=(15, 5))\n",
    "plt.step(xdata,ydata, label=\"P(x)\")\n",
    "plt.grid('on')\n",
    "plt.xlim(-0.1,8)\n",
    "\n",
    "plt.axvline(mean, color='red', linestyle='--', label=r\"$\\mu$\")\n",
    "plt.axvline(xdata[idx_median], color='yellow', linestyle='--', label=r\"$median$\")\n",
    "plt.axvline(xdata[idx_mode]-0.5*stepsize, color='green', linestyle='--', label=r\"$r*$\")\n",
    "\n",
    "plt.plot( [xdata[idx_si_1-1],xdata[idx_si_2]],[0.2,0.2], color='green', label=r\"SI\")\n",
    "plt.plot( [xdata[r1-1],xdata[r2]],[0.11,0.11], color='yellow', label=r\"CI\")\n",
    "plt.plot( [mean-std,mean+std],[0.15,0.15], color='red', label=r\"\\sigma\")\n",
    "\n",
    "\n",
    "plt.legend(fontsize=20)\n",
    "plt.show()"
   ]
  },
  {
   "cell_type": "code",
   "execution_count": null,
   "metadata": {
    "collapsed": true,
    "nbpresent": {
     "id": "5a5f27da-f301-4299-8d1a-a16910c11ca2"
    }
   },
   "outputs": [],
   "source": []
  }
 ],
 "metadata": {
  "kernelspec": {
   "display_name": "Python 2",
   "language": "python",
   "name": "python2"
  },
  "language_info": {
   "codemirror_mode": {
    "name": "ipython",
    "version": 2
   },
   "file_extension": ".py",
   "mimetype": "text/x-python",
   "name": "python",
   "nbconvert_exporter": "python",
   "pygments_lexer": "ipython2",
   "version": "2.7.13"
  },
  "nbpresent": {
   "slides": {
    "04e07fc0-fd75-48e6-a7ac-bbdea8eeffb5": {
     "id": "04e07fc0-fd75-48e6-a7ac-bbdea8eeffb5",
     "prev": null,
     "regions": {
      "880901f2-2b2f-41ff-890d-51b74598969a": {
       "attrs": {
        "height": 0.8,
        "width": 0.8,
        "x": 0.1,
        "y": 0.1
       },
       "content": {
        "cell": "2e17e297-00fd-49b1-b825-5405b7727982",
        "part": "whole"
       },
       "id": "880901f2-2b2f-41ff-890d-51b74598969a"
      }
     }
    },
    "06f80b21-75f6-4f9c-a0e9-3d92900e8ec7": {
     "id": "06f80b21-75f6-4f9c-a0e9-3d92900e8ec7",
     "prev": "131162d5-e0f3-4ff4-a461-19cb3b1baf41",
     "regions": {
      "daeb5b37-35a1-4827-99d6-12fd83ef1ae5": {
       "attrs": {
        "height": 0.8,
        "width": 0.8,
        "x": 0.1,
        "y": 0.1
       },
       "content": {
        "cell": "768d6aa2-95db-46aa-b2cf-a85570987e6c",
        "part": "whole"
       },
       "id": "daeb5b37-35a1-4827-99d6-12fd83ef1ae5"
      }
     }
    },
    "0a4cd002-7aae-4f1b-82e6-87db090c5d23": {
     "id": "0a4cd002-7aae-4f1b-82e6-87db090c5d23",
     "prev": "88f51f38-8238-4fb2-bde6-df21cd8962f1",
     "regions": {
      "8b7e5895-e782-4472-b220-6e68b9f2d3f9": {
       "attrs": {
        "height": 0.8,
        "width": 0.8,
        "x": 0.1,
        "y": 0.1
       },
       "content": {
        "cell": "59c46674-082e-4328-9281-e04a0a0eaa1f",
        "part": "whole"
       },
       "id": "8b7e5895-e782-4472-b220-6e68b9f2d3f9"
      }
     }
    },
    "121d7a38-98a2-425f-b65f-aeaec53c5d9c": {
     "id": "121d7a38-98a2-425f-b65f-aeaec53c5d9c",
     "prev": "7fa06810-83b8-4aa6-926c-234b401a72e2",
     "regions": {
      "0bb854c5-5f39-4dec-80ce-c55b4413af9d": {
       "attrs": {
        "height": 0.8,
        "width": 0.8,
        "x": 0.1,
        "y": 0.1
       },
       "content": {
        "cell": "af2b6fb5-f17e-4182-afd5-6dfaa94898f5",
        "part": "whole"
       },
       "id": "0bb854c5-5f39-4dec-80ce-c55b4413af9d"
      }
     }
    },
    "131162d5-e0f3-4ff4-a461-19cb3b1baf41": {
     "id": "131162d5-e0f3-4ff4-a461-19cb3b1baf41",
     "prev": "d95ddd8b-b35f-4d17-987b-2693a1ca31e1",
     "regions": {
      "496a43ff-4969-46ef-83ce-25b14573d2bc": {
       "attrs": {
        "height": 0.8,
        "width": 0.8,
        "x": 0.1,
        "y": 0.1
       },
       "content": {
        "cell": "7d33aa7f-9eaf-4cbb-bde6-c7bd76fe4402",
        "part": "whole"
       },
       "id": "496a43ff-4969-46ef-83ce-25b14573d2bc"
      }
     }
    },
    "1cbac853-5273-4bb4-bcc3-d7f39d92c082": {
     "id": "1cbac853-5273-4bb4-bcc3-d7f39d92c082",
     "prev": "79256ab2-a99b-4da8-8c90-735529e1946d",
     "regions": {
      "cf79ab58-4140-4c53-922f-c7aa0d6149b4": {
       "attrs": {
        "height": 0.8,
        "width": 0.8,
        "x": 0.1,
        "y": 0.1
       },
       "content": {
        "cell": "a32bbd6e-c811-4344-9be4-c3a98c56db5d",
        "part": "whole"
       },
       "id": "cf79ab58-4140-4c53-922f-c7aa0d6149b4"
      }
     }
    },
    "1faa7c67-ee31-4395-aea6-5acc736e4807": {
     "id": "1faa7c67-ee31-4395-aea6-5acc736e4807",
     "prev": "121d7a38-98a2-425f-b65f-aeaec53c5d9c",
     "regions": {
      "464f3c4f-cbee-4ba4-8a25-cd30601fcae4": {
       "attrs": {
        "height": 0.8,
        "width": 0.8,
        "x": 0.1,
        "y": 0.1
       },
       "content": {
        "cell": "3fe83b10-e2c2-4049-89d4-af6ac9934b50",
        "part": "whole"
       },
       "id": "464f3c4f-cbee-4ba4-8a25-cd30601fcae4"
      }
     }
    },
    "1fca2ff7-2675-4e1c-aa3a-f74f6b367a77": {
     "id": "1fca2ff7-2675-4e1c-aa3a-f74f6b367a77",
     "prev": "675fb911-b56a-4ef8-8900-0b8c76942912",
     "regions": {
      "db2a7a3c-1433-4c63-a501-2e4810a64a86": {
       "attrs": {
        "height": 0.8,
        "width": 0.8,
        "x": 0.1,
        "y": 0.1
       },
       "content": {
        "cell": "514149f3-cb51-4565-a0c6-da013f3bd22c",
        "part": "whole"
       },
       "id": "db2a7a3c-1433-4c63-a501-2e4810a64a86"
      }
     }
    },
    "3bccca1f-f002-44fa-9246-0739a10347f0": {
     "id": "3bccca1f-f002-44fa-9246-0739a10347f0",
     "prev": "5cb9ea79-b912-487d-846a-c47c15226388",
     "regions": {
      "bd742031-16ed-43b8-96b0-2c7377bb04ef": {
       "attrs": {
        "height": 0.8,
        "width": 0.8,
        "x": 0.1,
        "y": 0.1
       },
       "content": {
        "cell": "5a5f27da-f301-4299-8d1a-a16910c11ca2",
        "part": "whole"
       },
       "id": "bd742031-16ed-43b8-96b0-2c7377bb04ef"
      }
     }
    },
    "46b67a48-83df-4536-bdee-005fd9282084": {
     "id": "46b67a48-83df-4536-bdee-005fd9282084",
     "prev": "1fca2ff7-2675-4e1c-aa3a-f74f6b367a77",
     "regions": {
      "17bdd571-537a-4469-8e2f-a805e0d17ae8": {
       "attrs": {
        "height": 0.8,
        "width": 0.8,
        "x": 0.1,
        "y": 0.1
       },
       "content": {
        "cell": "c65f7f96-d2d9-4fa8-88b9-45967cdb2d40",
        "part": "whole"
       },
       "id": "17bdd571-537a-4469-8e2f-a805e0d17ae8"
      }
     }
    },
    "584874f9-acb7-482b-a0a0-934c59f3c13a": {
     "id": "584874f9-acb7-482b-a0a0-934c59f3c13a",
     "prev": "c50f8081-a7ee-41d6-acec-21dbbe1dd529",
     "regions": {
      "7c5688bc-bd32-462d-a29b-24dc6ed08989": {
       "attrs": {
        "height": 0.8,
        "width": 0.8,
        "x": 0.1,
        "y": 0.1
       },
       "content": {
        "cell": "9e04a319-ebb1-40bd-9f24-a3912c653879",
        "part": "whole"
       },
       "id": "7c5688bc-bd32-462d-a29b-24dc6ed08989"
      }
     }
    },
    "5c746499-50d4-4547-8825-e8255a524fb0": {
     "id": "5c746499-50d4-4547-8825-e8255a524fb0",
     "prev": "1faa7c67-ee31-4395-aea6-5acc736e4807",
     "regions": {
      "38f6ca4c-ed1c-4952-b507-efe501fffdff": {
       "attrs": {
        "height": 0.8,
        "width": 0.8,
        "x": 0.1,
        "y": 0.1
       },
       "content": {
        "cell": "56ec6a19-dfe1-457a-9cdc-2d7c6d3f3cd5",
        "part": "whole"
       },
       "id": "38f6ca4c-ed1c-4952-b507-efe501fffdff"
      }
     }
    },
    "5cb9ea79-b912-487d-846a-c47c15226388": {
     "id": "5cb9ea79-b912-487d-846a-c47c15226388",
     "prev": "80461b94-bcc5-482c-888a-fb8450ef7a87",
     "regions": {
      "0ef274ae-bdb3-43ac-92fb-a8658b75e138": {
       "attrs": {
        "height": 0.8,
        "width": 0.8,
        "x": 0.1,
        "y": 0.1
       },
       "content": {
        "cell": "2159c068-2383-4311-b556-153a200ab823",
        "part": "whole"
       },
       "id": "0ef274ae-bdb3-43ac-92fb-a8658b75e138"
      }
     }
    },
    "675fb911-b56a-4ef8-8900-0b8c76942912": {
     "id": "675fb911-b56a-4ef8-8900-0b8c76942912",
     "prev": "ef183ce6-673c-4441-a532-00f986d9ee5a",
     "regions": {
      "1130ab15-0393-488c-ab74-64d5ae157806": {
       "attrs": {
        "height": 0.8,
        "width": 0.8,
        "x": 0.1,
        "y": 0.1
       },
       "content": {
        "cell": "d74336f2-7fce-4aaf-a498-5ee1456e80b8",
        "part": "whole"
       },
       "id": "1130ab15-0393-488c-ab74-64d5ae157806"
      }
     }
    },
    "76fc4f67-349f-4d0f-8d09-952f6cc2bcfe": {
     "id": "76fc4f67-349f-4d0f-8d09-952f6cc2bcfe",
     "prev": "d5671eea-93e5-446d-a5be-5334758de038",
     "regions": {
      "8bf6298b-5cba-4011-ba46-99fd6dd9ca6d": {
       "attrs": {
        "height": 0.8,
        "width": 0.8,
        "x": 0.1,
        "y": 0.1
       },
       "content": {
        "cell": "10b30ba9-2b98-420b-8b06-034e37068f7c",
        "part": "whole"
       },
       "id": "8bf6298b-5cba-4011-ba46-99fd6dd9ca6d"
      }
     }
    },
    "79256ab2-a99b-4da8-8c90-735529e1946d": {
     "id": "79256ab2-a99b-4da8-8c90-735529e1946d",
     "prev": "8680d2e9-26cf-4adc-90a6-60f180221b71",
     "regions": {
      "3949fbd4-e604-4886-b987-af8472c13878": {
       "attrs": {
        "height": 0.8,
        "width": 0.8,
        "x": 0.1,
        "y": 0.1
       },
       "content": {
        "cell": "77d1bf30-d1c6-4eb9-af27-b992c3c686d3",
        "part": "whole"
       },
       "id": "3949fbd4-e604-4886-b987-af8472c13878"
      }
     }
    },
    "7a517bba-253b-4c58-bae3-69595596e108": {
     "id": "7a517bba-253b-4c58-bae3-69595596e108",
     "prev": "46b67a48-83df-4536-bdee-005fd9282084",
     "regions": {
      "638faa85-2394-4e5d-a843-b4f04841abcc": {
       "attrs": {
        "height": 0.8,
        "width": 0.8,
        "x": 0.1,
        "y": 0.1
       },
       "content": {
        "cell": "9727911f-b37d-4f13-b504-082e3cce71c4",
        "part": "whole"
       },
       "id": "638faa85-2394-4e5d-a843-b4f04841abcc"
      }
     }
    },
    "7cb6e6b8-24ca-42b6-8642-8593cb67e55b": {
     "id": "7cb6e6b8-24ca-42b6-8642-8593cb67e55b",
     "prev": "dc677a61-460c-454f-8d67-0e824ed1ba95",
     "regions": {
      "0647a6a7-51f4-4770-beaa-d74405db36a2": {
       "attrs": {
        "height": 0.8,
        "width": 0.8,
        "x": 0.1,
        "y": 0.1
       },
       "content": {
        "cell": "ea83c48a-a5b1-4aba-8c67-9665f629d49f",
        "part": "whole"
       },
       "id": "0647a6a7-51f4-4770-beaa-d74405db36a2"
      }
     }
    },
    "7fa06810-83b8-4aa6-926c-234b401a72e2": {
     "id": "7fa06810-83b8-4aa6-926c-234b401a72e2",
     "prev": "06f80b21-75f6-4f9c-a0e9-3d92900e8ec7",
     "regions": {
      "f976b852-b6ba-47d3-9d24-f57b806f192c": {
       "attrs": {
        "height": 0.8,
        "width": 0.8,
        "x": 0.1,
        "y": 0.1
       },
       "content": {
        "cell": "ab3ef38c-4f79-45ef-bf5d-a29875de7562",
        "part": "whole"
       },
       "id": "f976b852-b6ba-47d3-9d24-f57b806f192c"
      }
     }
    },
    "80461b94-bcc5-482c-888a-fb8450ef7a87": {
     "id": "80461b94-bcc5-482c-888a-fb8450ef7a87",
     "prev": "ab033a6b-fca8-486d-885b-9f86122eb02a",
     "regions": {
      "c81af6a0-98ce-4e2a-9e2a-e1ee48b0a583": {
       "attrs": {
        "height": 0.8,
        "width": 0.8,
        "x": 0.1,
        "y": 0.1
       },
       "content": {
        "cell": "4f909ea8-f9ec-4ee7-b4d2-b9364d1d5c45",
        "part": "whole"
       },
       "id": "c81af6a0-98ce-4e2a-9e2a-e1ee48b0a583"
      }
     }
    },
    "81efc044-aff7-427c-95bc-73a781203d25": {
     "id": "81efc044-aff7-427c-95bc-73a781203d25",
     "prev": "76fc4f67-349f-4d0f-8d09-952f6cc2bcfe",
     "regions": {
      "638b255b-79e8-4f8c-999d-022560c456e6": {
       "attrs": {
        "height": 0.8,
        "width": 0.8,
        "x": 0.1,
        "y": 0.1
       },
       "content": {
        "cell": "f03ee704-f998-433a-a23b-5528b887e60f",
        "part": "whole"
       },
       "id": "638b255b-79e8-4f8c-999d-022560c456e6"
      }
     }
    },
    "8680d2e9-26cf-4adc-90a6-60f180221b71": {
     "id": "8680d2e9-26cf-4adc-90a6-60f180221b71",
     "prev": "d596f117-c622-4295-80ca-34367a4e5415",
     "regions": {
      "b33b6653-856f-443a-b9cd-0f59ba76cfd2": {
       "attrs": {
        "height": 0.8,
        "width": 0.8,
        "x": 0.1,
        "y": 0.1
       },
       "content": {
        "cell": "b7cfb332-de29-4e07-a993-be8f70dea109",
        "part": "whole"
       },
       "id": "b33b6653-856f-443a-b9cd-0f59ba76cfd2"
      }
     }
    },
    "88f51f38-8238-4fb2-bde6-df21cd8962f1": {
     "id": "88f51f38-8238-4fb2-bde6-df21cd8962f1",
     "prev": "7a517bba-253b-4c58-bae3-69595596e108",
     "regions": {
      "40764b43-425b-4144-80aa-ad474bf5ef8e": {
       "attrs": {
        "height": 0.8,
        "width": 0.8,
        "x": 0.1,
        "y": 0.1
       },
       "content": {
        "cell": "7eea3680-17b9-480c-8d71-a280c8f5dcac",
        "part": "whole"
       },
       "id": "40764b43-425b-4144-80aa-ad474bf5ef8e"
      }
     }
    },
    "89b629a0-ce67-499e-85d6-5edeba4d655f": {
     "id": "89b629a0-ce67-499e-85d6-5edeba4d655f",
     "prev": "5c746499-50d4-4547-8825-e8255a524fb0",
     "regions": {
      "1c8dbd8a-0761-456b-99d7-1d664c59e84e": {
       "attrs": {
        "height": 0.8,
        "width": 0.8,
        "x": 0.1,
        "y": 0.1
       },
       "content": {
        "cell": "69a47b7b-d30d-497d-9154-92a4c93b9750",
        "part": "whole"
       },
       "id": "1c8dbd8a-0761-456b-99d7-1d664c59e84e"
      }
     }
    },
    "9d4f9069-902f-417c-9189-5b53b9c2daec": {
     "id": "9d4f9069-902f-417c-9189-5b53b9c2daec",
     "prev": "81efc044-aff7-427c-95bc-73a781203d25",
     "regions": {
      "54fea8f5-529a-4b36-9d30-654f6a945062": {
       "attrs": {
        "height": 0.8,
        "width": 0.8,
        "x": 0.1,
        "y": 0.1
       },
       "content": {
        "cell": "783ca823-e4fa-4d4f-a550-f51f0514619a",
        "part": "whole"
       },
       "id": "54fea8f5-529a-4b36-9d30-654f6a945062"
      }
     }
    },
    "ab033a6b-fca8-486d-885b-9f86122eb02a": {
     "id": "ab033a6b-fca8-486d-885b-9f86122eb02a",
     "prev": "ff2c1ecc-7673-4f4e-92db-f93cdc851a98",
     "regions": {
      "16180ef7-422e-4320-ac62-af53f609e4ae": {
       "attrs": {
        "height": 0.8,
        "width": 0.8,
        "x": 0.1,
        "y": 0.1
       },
       "content": {
        "cell": "f7f26db4-394d-4811-a9b6-60f7610b08a3",
        "part": "whole"
       },
       "id": "16180ef7-422e-4320-ac62-af53f609e4ae"
      }
     }
    },
    "b2110d15-27a9-41a4-bc7b-dd769418e2b1": {
     "id": "b2110d15-27a9-41a4-bc7b-dd769418e2b1",
     "prev": "9d4f9069-902f-417c-9189-5b53b9c2daec",
     "regions": {
      "2446ce68-59b7-4331-9233-edd2d3f54ccb": {
       "attrs": {
        "height": 0.8,
        "width": 0.8,
        "x": 0.1,
        "y": 0.1
       },
       "content": {
        "cell": "12b971e8-1a2b-4b6b-ad01-b36c3ff8f4a8",
        "part": "whole"
       },
       "id": "2446ce68-59b7-4331-9233-edd2d3f54ccb"
      }
     }
    },
    "c50f8081-a7ee-41d6-acec-21dbbe1dd529": {
     "id": "c50f8081-a7ee-41d6-acec-21dbbe1dd529",
     "prev": "89b629a0-ce67-499e-85d6-5edeba4d655f",
     "regions": {
      "91be3105-3918-4035-bf2f-79ca85a91e35": {
       "attrs": {
        "height": 0.8,
        "width": 0.8,
        "x": 0.1,
        "y": 0.1
       },
       "content": {
        "cell": "4f8dcdd8-418c-4d87-bd4a-46f2eafc948d",
        "part": "whole"
       },
       "id": "91be3105-3918-4035-bf2f-79ca85a91e35"
      }
     }
    },
    "d5671eea-93e5-446d-a5be-5334758de038": {
     "id": "d5671eea-93e5-446d-a5be-5334758de038",
     "prev": "7cb6e6b8-24ca-42b6-8642-8593cb67e55b",
     "regions": {
      "a9f30d76-cab5-423c-a828-f245ef84b177": {
       "attrs": {
        "height": 0.8,
        "width": 0.8,
        "x": 0.1,
        "y": 0.1
       },
       "content": {
        "cell": "84af8d1c-2f17-4467-95d6-2d6f2ef33d0e",
        "part": "whole"
       },
       "id": "a9f30d76-cab5-423c-a828-f245ef84b177"
      }
     }
    },
    "d596f117-c622-4295-80ca-34367a4e5415": {
     "id": "d596f117-c622-4295-80ca-34367a4e5415",
     "prev": "04e07fc0-fd75-48e6-a7ac-bbdea8eeffb5",
     "regions": {
      "77212c79-a896-47ff-b683-fb1f9c362b80": {
       "attrs": {
        "height": 0.8,
        "width": 0.8,
        "x": 0.1,
        "y": 0.1
       },
       "content": {
        "cell": "58d80655-6793-4d80-97a1-0b53a4c31634",
        "part": "whole"
       },
       "id": "77212c79-a896-47ff-b683-fb1f9c362b80"
      }
     }
    },
    "d95ddd8b-b35f-4d17-987b-2693a1ca31e1": {
     "id": "d95ddd8b-b35f-4d17-987b-2693a1ca31e1",
     "prev": "1cbac853-5273-4bb4-bcc3-d7f39d92c082",
     "regions": {
      "a34a4217-cde2-43d1-83f1-5d6675ad627f": {
       "attrs": {
        "height": 0.8,
        "width": 0.8,
        "x": 0.1,
        "y": 0.1
       },
       "content": {
        "cell": "1ed35afb-38cb-441f-bf66-1b7839f8f8ac",
        "part": "whole"
       },
       "id": "a34a4217-cde2-43d1-83f1-5d6675ad627f"
      }
     }
    },
    "dc677a61-460c-454f-8d67-0e824ed1ba95": {
     "id": "dc677a61-460c-454f-8d67-0e824ed1ba95",
     "prev": "0a4cd002-7aae-4f1b-82e6-87db090c5d23",
     "regions": {
      "bcfe369c-39a3-4907-872b-fb215e95fb6b": {
       "attrs": {
        "height": 0.8,
        "width": 0.8,
        "x": 0.1,
        "y": 0.1
       },
       "content": {
        "cell": "56989e00-4fa2-4657-b59a-7a759131bf4e",
        "part": "whole"
       },
       "id": "bcfe369c-39a3-4907-872b-fb215e95fb6b"
      }
     }
    },
    "ef183ce6-673c-4441-a532-00f986d9ee5a": {
     "id": "ef183ce6-673c-4441-a532-00f986d9ee5a",
     "prev": "ffefae7c-3d97-4b43-95b8-982868316842",
     "regions": {
      "7e05cae2-318b-4387-a0d9-a52c1df8d1b9": {
       "attrs": {
        "height": 0.8,
        "width": 0.8,
        "x": 0.1,
        "y": 0.1
       },
       "content": {
        "cell": "7b6d5905-3623-4c32-99e2-6abe62db1a32",
        "part": "whole"
       },
       "id": "7e05cae2-318b-4387-a0d9-a52c1df8d1b9"
      }
     }
    },
    "ff2c1ecc-7673-4f4e-92db-f93cdc851a98": {
     "id": "ff2c1ecc-7673-4f4e-92db-f93cdc851a98",
     "prev": "b2110d15-27a9-41a4-bc7b-dd769418e2b1",
     "regions": {
      "5e9e6b2a-da8b-41ee-8d8d-8d0b899aae8c": {
       "attrs": {
        "height": 0.8,
        "width": 0.8,
        "x": 0.1,
        "y": 0.1
       },
       "content": {
        "cell": "f9c7baed-e625-4664-9402-f256e5f4bcdd",
        "part": "whole"
       },
       "id": "5e9e6b2a-da8b-41ee-8d8d-8d0b899aae8c"
      }
     }
    },
    "ffefae7c-3d97-4b43-95b8-982868316842": {
     "id": "ffefae7c-3d97-4b43-95b8-982868316842",
     "prev": "584874f9-acb7-482b-a0a0-934c59f3c13a",
     "regions": {
      "d6296221-1c26-4539-a6f8-45aaf48f24cf": {
       "attrs": {
        "height": 0.8,
        "width": 0.8,
        "x": 0.1,
        "y": 0.1
       },
       "content": {
        "cell": "e0474c0f-3abe-43ad-8030-d63e6c7f5f41",
        "part": "whole"
       },
       "id": "d6296221-1c26-4539-a6f8-45aaf48f24cf"
      }
     }
    }
   },
   "themes": {}
  }
 },
 "nbformat": 4,
 "nbformat_minor": 2
}
