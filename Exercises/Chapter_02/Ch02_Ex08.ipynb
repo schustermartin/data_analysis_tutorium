{
 "cells": [
  {
   "cell_type": "markdown",
   "metadata": {},
   "source": [
    "# Exercise 08\n",
    "\n",
    "For the following function \n",
    "\n",
    "$\\begin{eqnarray}\n",
    "P(x)=x\\exp(-x)  \\hspace{2cm}  0\\leq x < \\infty\n",
    "\\end{eqnarray}$\n",
    "\n",
    "(a) Find the mean and standard deviation. What is the probability content in the interval (mean-standard deviation, mean+standard deviation).\n",
    "\n",
    "(b) Find the median and 68% central interval.\n",
    "\n",
    "(c) Find the mode and 68% smallest interval."
   ]
  },
  {
   "cell_type": "code",
   "execution_count": 365,
   "metadata": {
    "collapsed": true
   },
   "outputs": [],
   "source": [
    "import numpy as np\n",
    "import matplotlib.pyplot as plt"
   ]
  },
  {
   "cell_type": "code",
   "execution_count": 366,
   "metadata": {
    "collapsed": true
   },
   "outputs": [],
   "source": [
    "def P(x):\n",
    "    return x*np.exp(-x)"
   ]
  },
  {
   "cell_type": "code",
   "execution_count": 367,
   "metadata": {},
   "outputs": [
    {
     "name": "stdout",
     "output_type": "stream",
     "text": [
      "Length of xdata array is: l=150\n",
      "Stepsize = 0.100000\n",
      "'xdata' are the right edges of the bins.\n",
      "bin 1: from (-0.1,0.0] -> it is empty. The only valid point in this interval is 0 and it has the value 0.\n",
      "bin 2: from 0.00000001 to 0.1: (0.,0.1] -> the value of its is 0.09\n",
      "!!! Python starts indexing at 0 -> Bin 1 has index 0 !\n"
     ]
    }
   ],
   "source": [
    "xdata = np.arange(0.,15.,0.1)\n",
    "ydata = P(xdata)\n",
    "l = len(xdata)\n",
    "stepsize= xdata[2]-xdata[1]\n",
    "print(\"Length of xdata array is: l=%d\" % l)\n",
    "print(\"Stepsize = %f\" % stepsize)\n",
    "print(\"'xdata' are the right edges of the bins.\")\n",
    "print(\"bin 1: from (-0.1,0.0] -> it is empty. The only valid point in this interval is 0 and it has the value 0.\")\n",
    "print(\"bin 2: from 0.00000001 to 0.1: (0.,0.1] -> the value of its is %.2f\" % ydata[1])\n",
    "print(\"!!! Python starts indexing at 0 -> Bin 1 has index 0 !\")"
   ]
  },
  {
   "cell_type": "code",
   "execution_count": 368,
   "metadata": {},
   "outputs": [
    {
     "data": {
      "image/png": "[encoded data removed]",
      "text/plain": [
       "<matplotlib.figure.Figure at 0x7f6285f15c10>"
      ]
     },
     "metadata": {},
     "output_type": "display_data"
    }
   ],
   "source": [
    "plt.figure(figsize=(15, 5))\n",
    "plt.step(xdata,ydata)\n",
    "plt.grid('on')\n",
    "plt.xlim(-0.1,8)\n",
    "plt.show()"
   ]
  },
  {
   "cell_type": "markdown",
   "metadata": {},
   "source": [
    "## (a) Find the mean and standard deviation. What is the probability content in the interval (mean-standard deviation, mean+standard deviation)."
   ]
  },
  {
   "cell_type": "code",
   "execution_count": 369,
   "metadata": {
    "collapsed": true
   },
   "outputs": [],
   "source": [
    "def calc_mean(xdata, ydata):\n",
    "    mean = 0.\n",
    "    area = 0.\n",
    "    for i in range(1,len(xdata)):\n",
    "        mean += (xdata[i]-0.5*stepsize)*ydata[i]  # use midpoints of interval\n",
    "        area += abs(ydata[i])\n",
    "    return mean/area\n",
    "\n",
    "def calc_std(xdata, ydata, mean):\n",
    "    std = 0.\n",
    "    area = 0.\n",
    "    for i in range(0,len(xdata)):\n",
    "        std += (xdata[i]-0.5*stepsize-mean)**2*ydata[i]\n",
    "        area += abs(ydata[i])\n",
    "    return std/area\n",
    "\n",
    "def calc_total_probability(xdata,ydata):\n",
    "    total_prob = 0.\n",
    "    for i in range(0,len(xdata)):\n",
    "        total_prob += ydata[i]*stepsize\n",
    "    return total_prob"
   ]
  },
  {
   "cell_type": "code",
   "execution_count": 370,
   "metadata": {},
   "outputs": [
    {
     "name": "stdout",
     "output_type": "stream",
     "text": [
      "mean: = 1.952\n",
      "standard deviation: = 1.997\n",
      "total probability: = 0.999\n"
     ]
    }
   ],
   "source": [
    "mean = calc_mean(xdata,ydata)\n",
    "std = calc_std(xdata,ydata,mean)\n",
    "total_probability = calc_total_probability(xdata,ydata)\n",
    "print(\"mean: = %.3f\" % mean)\n",
    "print(\"standard deviation: = %.3f\" % std)\n",
    "print(\"total probability: = %.3f\" % total_probability)"
   ]
  },
  {
   "cell_type": "code",
   "execution_count": 371,
   "metadata": {},
   "outputs": [
    {
     "data": {
      "image/png": "[encoded data removed]",
      "text/plain": [
       "<matplotlib.figure.Figure at 0x7f627910d890>"
      ]
     },
     "metadata": {},
     "output_type": "display_data"
    }
   ],
   "source": [
    "plt.figure(figsize=(15, 5))\n",
    "plt.step(xdata,ydata, label=\"P(x)\")\n",
    "plt.grid('on')\n",
    "plt.xlim(-0.1,8)\n",
    "\n",
    "plt.axvline(mean, color='red', label=r\"$\\mu$\")\n",
    "plt.axvline(mean-std, color='green', label=r\"$\\mu\\pm\\sigma$\")\n",
    "plt.axvline(mean+std, color='green')\n",
    "\n",
    "plt.legend(fontsize=20)\n",
    "plt.show()"
   ]
  },
  {
   "cell_type": "code",
   "execution_count": 372,
   "metadata": {},
   "outputs": [
    {
     "data": {
      "image/png": "[encoded data removed]",
      "text/plain": [
       "<matplotlib.figure.Figure at 0x7f6285a10690>"
      ]
     },
     "metadata": {},
     "output_type": "display_data"
    },
    {
     "data": {
      "text/plain": [
       "0"
      ]
     },
     "execution_count": 372,
     "metadata": {},
     "output_type": "execute_result"
    }
   ],
   "source": [
    "# First: Get left index of the interval:\n",
    "idx_l = 0\n",
    "for i in range(0,len(xdata)):\n",
    "    if xdata[i] >= (mean-std):\n",
    "        idx_l = i\n",
    "        break\n",
    "\n",
    "plt.figure(figsize=(15, 5))\n",
    "plt.step(xdata,ydata, label=\"P(x)\")\n",
    "plt.grid('on')\n",
    "plt.xlim((mean-std)-1*stepsize,(mean-std)+2*stepsize)\n",
    "\n",
    "plt.axvline(mean-std, color='green', label=r\"$\\mu-\\sigma$\")\n",
    "plt.axvline(xdata[idx_l-1], color='black', label=r\"left border\")\n",
    "\n",
    "plt.legend(fontsize=20)\n",
    "plt.show()\n",
    "idx_l"
   ]
  },
  {
   "cell_type": "code",
   "execution_count": 373,
   "metadata": {},
   "outputs": [
    {
     "data": {
      "image/png": "[encoded data removed]",
      "text/plain": [
       "<matplotlib.figure.Figure at 0x7f628a1e5550>"
      ]
     },
     "metadata": {},
     "output_type": "display_data"
    },
    {
     "data": {
      "text/plain": [
       "40"
      ]
     },
     "execution_count": 373,
     "metadata": {},
     "output_type": "execute_result"
    }
   ],
   "source": [
    "# Second: Get right index of the interval:\n",
    "idx_r = len(xdata)-1\n",
    "for i in range(1,len(xdata)):\n",
    "    if xdata[i] >(mean+std):\n",
    "        idx_r = i\n",
    "        break\n",
    "        \n",
    "plt.figure(figsize=(15, 5))\n",
    "plt.step(xdata,ydata, label=\"P(x)\")\n",
    "plt.grid('on')\n",
    "plt.xlim((mean+std)-1*stepsize,(mean+std)+2*stepsize)\n",
    "\n",
    "plt.axvline(mean+std, color='green', label=r\"$\\mu+\\sigma$\")\n",
    "plt.axvline(xdata[idx_r], color='black', label=r\"right border\")\n",
    "\n",
    "plt.legend(fontsize=20)\n",
    "plt.show()\n",
    "idx_r"
   ]
  },
  {
   "cell_type": "code",
   "execution_count": 374,
   "metadata": {},
   "outputs": [
    {
     "name": "stdout",
     "output_type": "stream",
     "text": [
      "(0, 40)\n"
     ]
    },
    {
     "data": {
      "text/plain": [
       "True"
      ]
     },
     "execution_count": 374,
     "metadata": {},
     "output_type": "execute_result"
    }
   ],
   "source": [
    "# Check:\n",
    "print(idx_l, idx_r)\n",
    "if idx_l == 0:\n",
    "    check = 2*std < xdata[idx_r]-xdata[idx_l]\n",
    "else:\n",
    "    check = 2*std < xdata[idx_r]-xdata[idx_l-1]\n",
    "check"
   ]
  },
  {
   "cell_type": "code",
   "execution_count": 375,
   "metadata": {},
   "outputs": [
    {
     "data": {
      "text/plain": [
       "0.90387997439385159"
      ]
     },
     "execution_count": 375,
     "metadata": {},
     "output_type": "execute_result"
    }
   ],
   "source": [
    "# Sum up the bin entries of the bins of the interval\n",
    "p_std = 0.\n",
    "for i in range(idx_l, idx_r):\n",
    "    p_std += ydata[i]\n",
    "p_std *= stepsize\n",
    "p_std"
   ]
  },
  {
   "cell_type": "markdown",
   "metadata": {},
   "source": [
    "## (b) Find the median and 68% central interval."
   ]
  },
  {
   "cell_type": "code",
   "execution_count": 376,
   "metadata": {},
   "outputs": [
    {
     "data": {
      "image/png": "[encoded data removed]",
      "text/plain": [
       "<matplotlib.figure.Figure at 0x7f6286580b10>"
      ]
     },
     "metadata": {},
     "output_type": "display_data"
    },
    {
     "name": "stdout",
     "output_type": "stream",
     "text": [
      "idx_median=17\n",
      "P(idx_median)=0.31\n"
     ]
    }
   ],
   "source": [
    "def idx_median(xdata,ydata):\n",
    "    idx_median = 0\n",
    "    cumulative_sum = 0.\n",
    "    for i in range(0,len(xdata)):\n",
    "        cumulative_sum += ydata[i]*stepsize   \n",
    "        if cumulative_sum >= 0.5:\n",
    "            idx_median = i\n",
    "            break    \n",
    "    return idx_median\n",
    "\n",
    "idx_median = idx_median(xdata,ydata)\n",
    "\n",
    "plt.figure(figsize=(15, 5))\n",
    "plt.step(xdata,ydata, label=\"P(x)\")\n",
    "plt.grid('on')\n",
    "plt.xlim(-0.1,8)\n",
    "\n",
    "plt.axvline(mean, color='red', label=r\"$\\mu$\")\n",
    "plt.axvline(xdata[idx_median], color='yellow', label=r\"$median$\")\n",
    "\n",
    "plt.legend(fontsize=20)\n",
    "plt.show()\n",
    "\n",
    "print(\"idx_median=%d\" % idx_median)\n",
    "print(\"P(idx_median)=%.2f\" % ydata[idx_median])"
   ]
  },
  {
   "cell_type": "markdown",
   "metadata": {},
   "source": [
    "Now the central interval with $1-\\alpha=68\\% \\rightarrow \\alpha/2 = 0.16$\n",
    "\n",
    "Find $r_1$:  $P(r < r_1) \\leq \\alpha/2 = 0.16$\n",
    "\n",
    "Find $r_2$:  $P(r > r_2) \\leq \\alpha/2 = 0.16$"
   ]
  },
  {
   "cell_type": "code",
   "execution_count": 377,
   "metadata": {
    "collapsed": true
   },
   "outputs": [],
   "source": [
    "def get_r1(xdata,ydata):\n",
    "    r1 = 0\n",
    "    cumulative_sum = ydata[r1]*stepsize\n",
    "    for i in range(1, len(xdata)):\n",
    "        if cumulative_sum >= 0.16:\n",
    "            r1 = i-1\n",
    "            break\n",
    "        cumulative_sum += ydata[i]*stepsize\n",
    "    return r1    \n",
    "\n",
    "def get_r2(xdata,ydata):\n",
    "    r2 = len(xdata)-1\n",
    "    cumulative_sum = ydata[r2]*stepsize\n",
    "    for i in range(len(xdata)-2,0,-1):\n",
    "        if cumulative_sum >= 0.16:\n",
    "            r2 = i+1\n",
    "            break\n",
    "        cumulative_sum += ydata[i]*stepsize\n",
    "    return r2"
   ]
  },
  {
   "cell_type": "code",
   "execution_count": 378,
   "metadata": {},
   "outputs": [
    {
     "name": "stdout",
     "output_type": "stream",
     "text": [
      "r_1 = 7\n",
      "checksum(r1) = 0.137716\n",
      "checksum(r1+1) = 0.172477\n",
      "r_2 = 33\n",
      "checksum(r2) = 0.152577\n",
      "checksum(r2-1) = 0.165621\n"
     ]
    }
   ],
   "source": [
    "r1 = get_r1(xdata,ydata)\n",
    "print(\"r_1 = %d\" % r1)\n",
    "#Check\n",
    "checksum=0.\n",
    "for i in range(0,r1):\n",
    "    checksum+=ydata[i]*stepsize\n",
    "print(\"checksum(r1) = %f\" % checksum)\n",
    "print(\"checksum(r1+1) = %f\" % (checksum+ydata[r1]*stepsize))\n",
    "    \n",
    "r2 = get_r2(xdata,ydata)\n",
    "print(\"r_2 = %d\" % r2)\n",
    "checksum=0.\n",
    "for i in range(r2+1,len(xdata)):\n",
    "    checksum+=ydata[i]*stepsize\n",
    "print(\"checksum(r2) = %f\" % checksum)\n",
    "print(\"checksum(r2-1) = %f\" % (checksum+ydata[r2-1]*stepsize))"
   ]
  },
  {
   "cell_type": "code",
   "execution_count": 379,
   "metadata": {},
   "outputs": [
    {
     "data": {
      "image/png": "[encoded data removed]",
      "text/plain": [
       "<matplotlib.figure.Figure at 0x7f6285c24a10>"
      ]
     },
     "metadata": {},
     "output_type": "display_data"
    }
   ],
   "source": [
    "plt.figure(figsize=(15, 5))\n",
    "plt.step(xdata,ydata, label=\"P(x)\")\n",
    "plt.grid('on')\n",
    "plt.xlim(-0.1,8)\n",
    "\n",
    "plt.axvline(xdata[r1-1], color='red', label=r\"$r_1$\")\n",
    "plt.axvline(xdata[r2]  , color='red', label=r\"$r_2$\")\n",
    "plt.legend(fontsize=20)\n",
    "plt.show()"
   ]
  },
  {
   "cell_type": "markdown",
   "metadata": {},
   "source": [
    "## (c) Find the mode and 68% smallest interval."
   ]
  },
  {
   "cell_type": "code",
   "execution_count": 380,
   "metadata": {
    "collapsed": true
   },
   "outputs": [],
   "source": [
    "def idx_mode(xdata,ydata):\n",
    "    idx_mode = 0\n",
    "    maximum = ydata[0]\n",
    "    for i in range(1,len(xdata)):  \n",
    "        if ydata[i] == maximum:\n",
    "            print(\"WARNING! -> Double Mode!\")\n",
    "        if ydata[i] > maximum:\n",
    "            idx_mode = i\n",
    "            maximum = ydata[i]\n",
    "    return idx_mode"
   ]
  },
  {
   "cell_type": "code",
   "execution_count": 381,
   "metadata": {},
   "outputs": [
    {
     "data": {
      "image/png": "[encoded data removed]",
      "text/plain": [
       "<matplotlib.figure.Figure at 0x7f62853c7f90>"
      ]
     },
     "metadata": {},
     "output_type": "display_data"
    },
    {
     "name": "stdout",
     "output_type": "stream",
     "text": [
      "idx_mode=10\n",
      "P(idx_mode)=0.367879\n"
     ]
    }
   ],
   "source": [
    "idx_mode = idx_mode(xdata,ydata)\n",
    "\n",
    "plt.figure(figsize=(15, 5))\n",
    "plt.step(xdata,ydata, label=\"P(x)\")\n",
    "plt.grid('on')\n",
    "plt.xlim(-0.1,8)\n",
    "\n",
    "plt.axvline(mean, color='red', label=r\"$\\mu$\")\n",
    "plt.axvline(xdata[idx_median], color='yellow', label=r\"$median$\")\n",
    "plt.axvline(xdata[idx_mode]-0.5*stepsize, color='green', label=r\"$r*$\")\n",
    "\n",
    "plt.legend(fontsize=20)\n",
    "plt.show()\n",
    "\n",
    "print(\"idx_mode=%d\" % idx_mode)\n",
    "print(\"P(idx_mode)=%f\" % ydata[idx_mode])"
   ]
  },
  {
   "cell_type": "code",
   "execution_count": 415,
   "metadata": {},
   "outputs": [
    {
     "data": {
      "text/plain": [
       "array([ 10,  11,   9,  12,   8,  13,   7,  14,  15,   6,  16,  17,   5,\n",
       "        18,  19,  20,   4,  21,  22,  23,   3,  24,  25,  26,  27,  28,\n",
       "         2,  29,  30,  31,  32,  33,  34,  35,  36,  37,   1,  38,  39,\n",
       "        40,  41,  42,  43,  44,  45,  46,  47,  48,  49,  50,  51,  52,\n",
       "        53,  54,  55,  56,  57,  58,  59,  60,  61,  62,  63,  64,  65,\n",
       "        66,  67,  68,  69,  70,  71,  72,  73,  74,  75,  76,  77,  78,\n",
       "        79,  80,  81,  82,  83,  84,  85,  86,  87,  88,  89,  90,  91,\n",
       "        92,  93,  94,  95,  96,  97,  98,  99, 100, 101, 102, 103, 104,\n",
       "       105, 106, 107, 108, 109, 110, 111, 112, 113, 114, 115, 116, 117,\n",
       "       118, 119, 120, 121, 122, 123, 124, 125, 126, 127, 128, 129, 130,\n",
       "       131, 132, 133, 134, 135, 136, 137, 138, 139, 140, 141, 142, 143,\n",
       "       144, 145, 146, 147, 148, 149,   0])"
      ]
     },
     "execution_count": 415,
     "metadata": {},
     "output_type": "execute_result"
    }
   ],
   "source": [
    "def create_ranking(ydata):\n",
    "    indices = np.arange(0,len(ydata))\n",
    "    a1, ranking = zip(*sorted(zip(ydata, indices)))\n",
    "    return np.flip(ranking,0)\n",
    "\n",
    "ranking = create_ranking(ydata)\n",
    "ranking"
   ]
  },
  {
   "cell_type": "code",
   "execution_count": 467,
   "metadata": {},
   "outputs": [
    {
     "data": {
      "text/plain": [
       "array([10, 11,  9, 12,  8, 13,  7, 14, 15,  6, 16, 17,  5, 18, 19, 20,  4,\n",
       "       21, 22, 23,  3, 24, 25])"
      ]
     },
     "execution_count": 467,
     "metadata": {},
     "output_type": "execute_result"
    }
   ],
   "source": [
    "def determine_smallest_interval(ydata, ranking):\n",
    "    idx_tmp = 0\n",
    "    cumulative_sum = ydata[ranking[0]]*stepsize\n",
    "    for i in range(1,len(ranking)):\n",
    "        if cumulative_sum >= 0.68:\n",
    "            break\n",
    "        idx_tmp = i\n",
    "        for j in range(i+1, len(ranking)):\n",
    "            if ydata[ranking[idx_tmp]] == ydata[ranking[j]]:\n",
    "                idx_tmp = j\n",
    "            else:\n",
    "                break\n",
    "        for k in range(i,idx_tmp+1):\n",
    "            cumulative_sum += ydata[ranking[k]]*stepsize       \n",
    "    return ranking[0:idx_tmp+1]\n",
    "    \n",
    "smallest_interval_indicies = determine_smallest_interval(ydata, ranking)\n",
    "smallest_interval_indicies"
   ]
  },
  {
   "cell_type": "code",
   "execution_count": 468,
   "metadata": {},
   "outputs": [
    {
     "name": "stdout",
     "output_type": "stream",
     "text": [
      "checksum of smallest interval = 0.69660\n"
     ]
    }
   ],
   "source": [
    "checksum = 0.\n",
    "for idx in smallest_interval_indicies:\n",
    "    checksum += ydata[idx]*stepsize\n",
    "\n",
    "print(\"checksum of smallest interval = %.5f\" % checksum)"
   ]
  }
 ],
 "metadata": {
  "kernelspec": {
   "display_name": "Python 2",
   "language": "python",
   "name": "python2"
  },
  "language_info": {
   "codemirror_mode": {
    "name": "ipython",
    "version": 2
   },
   "file_extension": ".py",
   "mimetype": "text/x-python",
   "name": "python",
   "nbconvert_exporter": "python",
   "pygments_lexer": "ipython2",
   "version": "2.7.13"
  }
 },
 "nbformat": 4,
 "nbformat_minor": 2
}
