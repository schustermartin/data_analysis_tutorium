{
 "cells": [
  {
   "cell_type": "markdown",
   "metadata": {},
   "source": [
    "# Exercise 2.13"
   ]
  },
  {
   "cell_type": "markdown",
   "metadata": {},
   "source": [
    "_Let us see what happens if we reuse the same data multiple times. We have\n",
    "N trials and measure r successes. Show that if you reuse the data n times,\n",
    "starting at first with a flat prior and then using the posterior from one use of\n",
    "the data as the prior for the next use, you get\n",
    "\\begin{equation}\n",
    "P_{n}(p|r, N ) =\\frac{(nN + 1)!}{(nr)!(nN − nr)!} p^{nr} (1 − p)^{n(N −r)} .\n",
    "\\end{equation}\n",
    "What are the expectation value and variance for p in the limit $n → ∞$?_"
   ]
  },
  {
   "cell_type": "markdown",
   "metadata": {
    "collapsed": true
   },
   "source": [
    "\n",
    "We will show the result using proof by induction\n",
    "\n",
    "We start with the binomial distribution\n",
    "\\begin{equation}\n",
    "P(r|p,N) = \\binom{N}{r} p^{r}(1-p)^{N-r}\\\\\n",
    "\\end{equation}\n",
    "We write down Bayes theorem:\n",
    "\\begin{equation}\n",
    "P(p|r,N) = \\frac{P(r|N,p)P_{0}(p)}{P{r|N}}\\\\\n",
    "\\end{equation}\n",
    "Law of total Probability\n",
    "\\begin{equation}\n",
    "P(p|r,N) = \\frac{P(r|N,p)P_{0}(p)}{\\int P(r|N,p)P_{0}(p)}\n",
    "\\end{equation}\n",
    "We start with a flat prior\n",
    "\\begin{equation}\n",
    "P_{0}(p) = 1, \\textsf{since} \\int P_{0}(p)dp \\overset{!}{=} 1, ~~p \\in [0,1]\n",
    "\\end{equation}\n"
   ]
  },
  {
   "cell_type": "code",
   "execution_count": 32,
   "metadata": {},
   "outputs": [
    {
     "data": {
      "image/png": "[encoded data removed]",
      "text/plain": [
       "<matplotlib.figure.Figure at 0x7fe3ef9c8890>"
      ]
     },
     "metadata": {},
     "output_type": "display_data"
    }
   ],
   "source": [
    "import numpy as np\n",
    "import matplotlib.pyplot as plt\n",
    "from math import factorial\n",
    "def f(x):\n",
    "    a=1.0\n",
    "    return a\n",
    "x=list()\n",
    "y=list()\n",
    "for i in range(1000):\n",
    "    x.append(i/1000.)\n",
    "    y.append(f(x))\n",
    "plt.ylabel(r\"$P_{0}$\") \n",
    "plt.xlabel('p')\n",
    "plt.ylim(0,1.5)\n",
    "plt.xlim(0,1.5)\n",
    "plt.plot(x,y)\n",
    "plt.fill_between(x,0,y,facecolor='lightblue')\n",
    "plt.show()"
   ]
  },
  {
   "cell_type": "markdown",
   "metadata": {},
   "source": [
    "We end up with:\n",
    "\\begin{equation}\n",
    "P_{1}(p|r,N) =\\frac{\\binom{N}{r} p^{r}(1-p)^{N-r}}{\\int^{1}_{0} \\binom{N}{r} p^{r}(1-p)^{N-r} dp} = \\frac{p^{r}(1-p)^{N-r}}{\\int^{1}_{0}p^{r}(1-p)^{N-r} dp}\n",
    "\\end{equation}\n",
    "We use the standard Betafunction:\n",
    "\\begin{equation}\n",
    "B(x,y) = \\int^{1}_{0} t^{x-1}(1-t)^{y-1} dt = \\frac{(x-1)!(y-1)!}{(x+y-1)!} \n",
    "\\end{equation}\n",
    "We use $B(x=r+1,y=N-r+1) = \\frac{(r+1-1)!(N-r+1-1)!}{(r+1+N-r+1)!}$ and show the initial step:\n",
    "\\begin{equation}\n",
    "P_{1}(p|r, N ) =\\frac{(N + 1)!}{(r)!(N − r)!} p^{r} (1 − p)^{N −r}~~~~.\n",
    "\\end{equation}\n"
   ]
  },
  {
   "cell_type": "markdown",
   "metadata": {},
   "source": [
    "Now we show the induction step:\n",
    "\\begin{equation}\n",
    "P_{n+1}(p|r, N ) = \\frac{P(r|N,p)P_{n}(p)}{\\int P(r|N,p)P_{n}(p)}\n",
    "\\end{equation}\n",
    "For $P_{n}$ we insert the assumption and get:\n",
    "\\begin{equation}\n",
    "P_{n+1}(p|r,N ) = \\frac{p^{r}(1-p)^{N-r} \\cdot  p^{nr}(1-p)^{n(N-r)}}{\\int^{1}_{0} p^{r}(1-p)^{N-r} \\cdot  p^{nr}(1-p)^{n(N-r)}dp}\n",
    "\\end{equation}\n",
    "\\begin{equation}\n",
    "\\Rightarrow P_{n+1}(p|r, N ) =   \\frac{p^{(n+1)r}(1-p)^{(n+1)(N-r)}}{\\int^{1}_{0} p^{(n+1)r}(1-p)^{(n+1)(N-r)}dp}\n",
    "\\end{equation}\n",
    "Again applying the Betafunction gives the desired result:\n",
    "\\begin{eqnarray}\n",
    "B((n+1)r+1,(n+1)(N-r)+1) = \\frac{((n+1)r)!((n+1)(N-r))!}{((n+1)N +1)! }\\\\\n",
    "\\Rightarrow P_{n+1}(p|r, N ) =\\frac{((n+1)N + 1)!}{((n+1)r)!((n+1)N − (n+1)r)!} p^{(n+1)r} (1 − p)^{(n+1)(N −r)} .\n",
    "\\end{eqnarray}"
   ]
  },
  {
   "cell_type": "markdown",
   "metadata": {},
   "source": [
    "The calculation of the Expectation value is straightforward:\n",
    "\\begin{eqnarray}\n",
    "E_{n} =& \\int^{1}_{0} p \\cdot P_{n}(p|r,N) dp\\\\\n",
    "=& \\int^{1}_{0} \\frac{(nN + 1)!}{(nr)!(nN − nr)!} p^{nr+1} (1 − p)^{n(N −r)} dp\\\\\n",
    "=& \\frac{(nN + 1)!}{(nr)!(nN − nr)!} B(nr+2,n(N-r)+1)\\\\\n",
    "=& \\frac{(nr+1)!(n(N-r))!}{(nN+2)!}\\\\\n",
    "=& \\frac{nr+1}{nN+2} = \\frac{r+\\frac{1}{n}}{N+\\frac{2}{n}}\n",
    "\\end{eqnarray}\n",
    "We take the limit n $\\rightarrow \\infty$:\n",
    "\\begin{equation}\n",
    "\\underset{n \\rightarrow \\infty}{\\lim} E_{n} = \\underset{n \\rightarrow \\infty}{\\lim} \\frac{r+\\frac{1}{n}}{N+\\frac{2}{n}} = \\frac{r}{N}\n",
    "\\end{equation}"
   ]
  },
  {
   "cell_type": "code",
   "execution_count": null,
   "metadata": {
    "collapsed": true
   },
   "outputs": [],
   "source": []
  }
 ],
 "metadata": {
  "kernelspec": {
   "display_name": "Python 2",
   "language": "python",
   "name": "python2"
  },
  "language_info": {
   "codemirror_mode": {
    "name": "ipython",
    "version": 2
   },
   "file_extension": ".py",
   "mimetype": "text/x-python",
   "name": "python",
   "nbconvert_exporter": "python",
   "pygments_lexer": "ipython2",
   "version": "2.7.13"
  }
 },
 "nbformat": 4,
 "nbformat_minor": 2
}
