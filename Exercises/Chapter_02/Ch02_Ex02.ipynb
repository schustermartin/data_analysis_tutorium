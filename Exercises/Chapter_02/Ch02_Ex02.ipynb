{
 "cells": [
  {
   "cell_type": "markdown",
   "metadata": {},
   "source": [
    "Construct a Table similiar to 2.1 for $N$=6, $p$=0.3 and find the following:\n",
    "\n",
    "(a) The Central Interval for $1-\\alpha=0.68$ and $1-\\alpha=0.90$\n",
    "\n",
    "(b) The Smallest Interval for $1-\\alpha=0.68$ and $1-\\alpha=0.90$"
   ]
  },
  {
   "cell_type": "code",
   "execution_count": 11,
   "metadata": {},
   "outputs": [],
   "source": [
    "import numpy as np\n",
    "import matplotlib.pyplot as plt\n",
    "m = np.math"
   ]
  },
  {
   "cell_type": "code",
   "execution_count": 27,
   "metadata": {},
   "outputs": [],
   "source": [
    "def binomial_dest(r, N, p):\n",
    "    return m.factorial(N)/(m.factorial(r)*m.factorial(N-r))*p**r*(1-p)**(N-r)"
   ]
  },
  {
   "cell_type": "code",
   "execution_count": 30,
   "metadata": {},
   "outputs": [],
   "source": [
    "N = 6\n",
    "p = 0.3"
   ]
  },
  {
   "cell_type": "code",
   "execution_count": 108,
   "metadata": {},
   "outputs": [
    {
     "data": {
      "image/png": "[encoded data removed]",
      "text/plain": [
       "<matplotlib.figure.Figure at 0x7ff0aed4dfd0>"
      ]
     },
     "metadata": {},
     "output_type": "display_data"
    }
   ],
   "source": [
    "r_array = np.arange(0,N+1,1) # +1 due to numpy.arange() function\n",
    "P_r = np.zeros(N+1)\n",
    "for r in r_array:  \n",
    "    P_r[r] = binomial_dest(r, N, p)\n",
    "\n",
    "plt.hist(r_array, weights=P_r, range=(-0.5, N+0.5), bins=N+1, rwidth=0.7 )\n",
    "plt.show()"
   ]
  },
  {
   "cell_type": "code",
   "execution_count": 113,
   "metadata": {},
   "outputs": [
    {
     "name": "stdout",
     "output_type": "stream",
     "text": [
      "(0.11764899999999996, 0.11764899999999996)\n",
      "(0.30252599999999985, 0.4201749999999998)\n",
      "(0.3241349999999999, 0.74430999999999969)\n",
      "(0.18521999999999994, 0.92952999999999963)\n",
      "(0.059534999999999991, 0.98906499999999964)\n",
      "(0.010205999999999996, 0.99927099999999969)\n",
      "(0.00072899999999999983, 0.99999999999999967)\n"
     ]
    }
   ],
   "source": [
    "s = 0.\n",
    "for r in r_array:\n",
    "    s += P_r[r]\n",
    "    print(P_r[r],  s)"
   ]
  },
  {
   "cell_type": "markdown",
   "metadata": {},
   "source": [
    "|   r  |P(r\\N,p) | F(r\\N,p)|  Rank   | F(Rank) |\n",
    "|------|---------|---------|---------|---------|\n",
    "|   0  | 0.117649| 0.117649|    4    | 0.929530|\n",
    "|   1  | 0.302526| 0.420179|    2    | 0.626661|\n",
    "|   2  | 0.324135| 0.744309|    1    | 0.324135|\n",
    "|   3  | 0.18522 | 0.929529|    3    | 0.811881|\n",
    "|   4  | 0.059535| 0.989064|    5    | 0.989065|\n",
    "|   5  | 0.010206| 0.999270|    6    | 0.999271|\n",
    "|   6  | 0.000728| 1       |    7    | 1       |"
   ]
  },
  {
   "cell_type": "markdown",
   "metadata": {},
   "source": [
    "# Central Inverval: $\\textrm{CI}_{68}=[r_1,r_2]$"
   ]
  },
  {
   "cell_type": "markdown",
   "metadata": {},
   "source": [
    "left interval: $F(r_1-1|N,p) \\leq 0.16$  $\\rightarrow$  $r_1=1$\n",
    "\n",
    "right interval: $1-F(r_2) \\leq 0.16$ $\\rightarrow$ $r_2=3$\n",
    "\n",
    "$\\textrm{CI}_{68}=[1,3]$"
   ]
  },
  {
   "cell_type": "markdown",
   "metadata": {},
   "source": [
    "# Central Inverval: $\\textrm{CI}_{90}=[r_1,r_2]$"
   ]
  },
  {
   "cell_type": "markdown",
   "metadata": {},
   "source": [
    "left interval: $F(r_1-1|N,p) \\leq 0.05$ $\\rightarrow$  $r_1=0$\n",
    "\n",
    "right interval: $1-F(r_2) \\leq 0.05$ $\\rightarrow$   $r_2=4$\n",
    "\n",
    "$\\textrm{CI}_{68}=[0,4]$"
   ]
  },
  {
   "cell_type": "markdown",
   "metadata": {},
   "source": [
    "# Smallest Inverval: $\\textrm{SI}_{68}=[r_1,r_2]$"
   ]
  },
  {
   "cell_type": "markdown",
   "metadata": {},
   "source": [
    "mode r* = 2\n",
    "\n",
    "look for $F(rank) \\geq 0.68$:\n",
    "\n",
    "$\\textrm{SI}_{68}=[1,3]$"
   ]
  },
  {
   "cell_type": "markdown",
   "metadata": {},
   "source": [
    "# Smallest Inverval: $\\textrm{SI}_{90}=[r_1,r_2]$"
   ]
  },
  {
   "cell_type": "markdown",
   "metadata": {},
   "source": [
    "mode r* = 2\n",
    "\n",
    "look for $F(rank) \\geq 0.90$:\n",
    "\n",
    "$\\textrm{SI}_{90}=[0,3]$"
   ]
  }
 ],
 "metadata": {
  "kernelspec": {
   "display_name": "Python 2",
   "language": "python",
   "name": "python2"
  },
  "language_info": {
   "codemirror_mode": {
    "name": "ipython",
    "version": 2
   },
   "file_extension": ".py",
   "mimetype": "text/x-python",
   "name": "python",
   "nbconvert_exporter": "python",
   "pygments_lexer": "ipython2",
   "version": "2.7.13"
  }
 },
 "nbformat": 4,
 "nbformat_minor": 2
}
