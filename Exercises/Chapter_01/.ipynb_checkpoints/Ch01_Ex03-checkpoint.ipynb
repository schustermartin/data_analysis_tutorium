{
 "cells": [
  {
   "cell_type": "markdown",
   "metadata": {},
   "source": [
    "# Exercise 03\n",
    "\n",
    "_Your particle detector measures energies with a resolution of 10 %.  You\n",
    "measure an energy, call it E. What probabilities would you assign to possible\n",
    "true values of the energy ? What can your conclusion depend on?_"
   ]
  },
  {
   "cell_type": "markdown",
   "metadata": {},
   "source": [
    "For an actual conclusion, the information that we are given is not enough. Assumptions on likely probability distributions can be made, i.e.:\n",
    "* Gaussian\n",
    "* Breit-Wigner, i.e. Lorentz-/Cauchy-distributions\n",
    "\n",
    "But still, $P(E_{exp})$ remains unknown. In case of a Gaussian one could argue:\n",
    "10 % resolution means a FWHM of $0.1\\,E_{exp}$, which corresponds to a $\\sigma$ of $\\sigma = \\dfrac{FWHM}{2.35}$. Hence the true energy, $E_{true}$ should lie within a range of $\\pm 1\\,\\sigma, \\pm 2\\,\\sigma$, ... around $E_{exp}$ with a probability of 68%, 95%, ..."
   ]
  },
  {
   "cell_type": "code",
   "execution_count": 17,
   "metadata": {
    "collapsed": true
   },
   "outputs": [],
   "source": [
    "import numpy as np\n",
    "import matplotlib.pyplot as plt"
   ]
  },
  {
   "cell_type": "markdown",
   "metadata": {},
   "source": [
    "$gaus(x) = \\dfrac{1}{\\sigma\\sqrt{2\\pi}}exp{-\\dfrac{(x-\\mu)^2}{2\\sigma^2}}$"
   ]
  },
  {
   "cell_type": "code",
   "execution_count": 132,
   "metadata": {
    "collapsed": true
   },
   "outputs": [],
   "source": [
    "def gaus(x, p0):\n",
    "    mean = p0[0]\n",
    "    sigma = p0[1]\n",
    "    y = 1/(sigma * np.sqrt(2*np.pi)) * np.exp( -(x - mean)**2 / (2*sigma**2) )\n",
    "    return y "
   ]
  },
  {
   "cell_type": "code",
   "execution_count": 133,
   "metadata": {
    "collapsed": true
   },
   "outputs": [],
   "source": [
    "x = np.linspace(-2,2,1000)\n",
    "mean = 0.\n",
    "sigma = 0.1\n",
    "p0 = [mean, sigma]"
   ]
  },
  {
   "cell_type": "code",
   "execution_count": 134,
   "metadata": {},
   "outputs": [
    {
     "data": {
      "image/png": "[encoded data removed]",
      "text/plain": [
       "<matplotlib.figure.Figure at 0x7f3c16199650>"
      ]
     },
     "metadata": {},
     "output_type": "display_data"
    }
   ],
   "source": [
    "plt.plot([mean-1*sigma, mean-1*sigma], [0., gaus(mean-1*sigma, p0)], color='green', label=r\"$\\pm 1\\sigma$ - 68%\")\n",
    "plt.plot([mean+1*sigma, mean+1*sigma], [0., gaus(mean+1*sigma, p0)], color='green')\n",
    "plt.plot([mean-2*sigma, mean-2*sigma], [0., gaus(mean-2*sigma, p0)], color='magenta', label=r\"$\\pm 2\\sigma$ - 95%\")\n",
    "plt.plot([mean+2*sigma, mean+2*sigma], [0., gaus(mean+2*sigma, p0)], color='magenta')\n",
    "plt.plot([mean, mean], [0, gaus(mean, p0)], color='blue', label=\"mean\")\n",
    "plt.plot(x, gaus(x, p0), color='red', lw=2, label=\"Gauss\")\n",
    "plt.xlim(-0.4, 0.4)\n",
    "plt.legend()\n",
    "plt.show()"
   ]
  },
  {
   "cell_type": "code",
   "execution_count": null,
   "metadata": {
    "collapsed": true
   },
   "outputs": [],
   "source": []
  }
 ],
 "metadata": {
  "kernelspec": {
   "display_name": "Python 2",
   "language": "python",
   "name": "python2"
  },
  "language_info": {
   "codemirror_mode": {
    "name": "ipython",
    "version": 2
   },
   "file_extension": ".py",
   "mimetype": "text/x-python",
   "name": "python",
   "nbconvert_exporter": "python",
   "pygments_lexer": "ipython2",
   "version": "2.7.13"
  }
 },
 "nbformat": 4,
 "nbformat_minor": 2
}
