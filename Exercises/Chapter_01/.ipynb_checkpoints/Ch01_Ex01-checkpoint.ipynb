{
 "cells": [
  {
   "cell_type": "markdown",
   "metadata": {},
   "source": [
    "# Exercise 01\n",
    "\n",
    "_You meet Jane on the street.  She tells you she has two children, and has\n",
    "pictures of them in her pocket.  She pulls out one picture, and shows it to\n",
    "you. It is a girl. What is the probability that the second child is also a girl?_\n",
    "\n",
    "_Variation:  Jane takes out both pictures,  looks at them,  and is required to\n",
    "show you a picture of a girl if she has one. What is now the probability that\n",
    "the second child is also a girl?_"
   ]
  },
  {
   "cell_type": "markdown",
   "metadata": {},
   "source": [
    "Reasonable Assumption: Birthrates of Boys and Girls are both 50%.\n",
    "\n",
    "S = bb $\\cup$ gb $\\cup$ bg $\\cup$ gg\n",
    "\n",
    "Initially, all 4 possible combinations of boys/girls are equally probable (We have no reason to choose one over another. Laplaces Rule of insufficient reason):\n",
    "\n",
    "P(bb) = P(bg) = P(gb) = P(gg) = 1/4."
   ]
  },
  {
   "cell_type": "markdown",
   "metadata": {},
   "source": [
    "1) The first picture does not give you any information about the second child. Thus, the remaining possibilities are gg, and gb, with P(gg)=P(gb)=1/2."
   ]
  },
  {
   "cell_type": "markdown",
   "metadata": {},
   "source": [
    "2) E = She shows us a picture of girl. So she has at least one girl. Thus, bb is ruled out: P(bb|E) = 0. We want to know P(gg|E):\n",
    "\n",
    "\n",
    "Bayes' Theorem: \n",
    "\\begin{eqnarray}\n",
    "P(A|B) =& \\dfrac{P(B|A) P(A)}{\\sum^{N}_{i=1} P(B|A_{i}) P(A_{i})} \\\\\n",
    "\\\\\n",
    "P(gg|E) =& \\dfrac{P(E|gg) P(gg)}{P(E|gg)P(gg) + P(E|gb)P(gb)+ P(E|bg)P(bg)+ P(E|bb)P(bb)}\\\\\n",
    "\\\\\n",
    "=& \\dfrac{1\\cdot \\dfrac{1}{4}}{1\\cdot\\dfrac{1}{4} + 1\\cdot\\dfrac{1}{4}+ 1\\cdot\\dfrac{1}{4}+ 0\\cdot\\dfrac{1}{4}}  = \\dfrac{1}{3}\\\\\n",
    "\\end{eqnarray}"
   ]
  },
  {
   "cell_type": "code",
   "execution_count": null,
   "metadata": {
    "collapsed": true
   },
   "outputs": [],
   "source": []
  }
 ],
 "metadata": {
  "kernelspec": {
   "display_name": "Python 2",
   "language": "python",
   "name": "python2"
  },
  "language_info": {
   "codemirror_mode": {
    "name": "ipython",
    "version": 2
   },
   "file_extension": ".py",
   "mimetype": "text/x-python",
   "name": "python",
   "nbconvert_exporter": "python",
   "pygments_lexer": "ipython2",
   "version": "2.7.13"
  }
 },
 "nbformat": 4,
 "nbformat_minor": 2
}
