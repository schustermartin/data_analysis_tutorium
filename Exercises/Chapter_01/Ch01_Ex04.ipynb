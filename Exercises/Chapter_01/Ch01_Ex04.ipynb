{
 "cells": [
  {
   "cell_type": "markdown",
   "metadata": {},
   "source": [
    "# Exercise 04\n",
    "\n",
    "_Mongolian swamp fever is such a rare disease that a doctor only expects\n",
    "to meet it once every 10000 patients.  It always produces spots and acute\n",
    "lethargy in a patient; usually (I.e., 60 % of cases) they suffer from a raging\n",
    "thirst, and occasionally (20 % of cases) from violent sneezes. These symp-\n",
    "toms can arise from other causes:  specifically, of patients that do not have\n",
    "the disease:  3 % have spots, 10 % are lethargic, 2 % are thirsty and 5 %\n",
    "complain of sneezing.  These four probabilities are independent.  What is\n",
    "your probability of having Mogolian swamp fever if you go to the doctor\n",
    "with all or with any three out of four of these symptoms? (From R.Barlow)_"
   ]
  },
  {
   "cell_type": "markdown",
   "metadata": {},
   "source": [
    "Prior probabilities:\n",
    "\n",
    "\\begin{equation}\n",
    "P(\\textrm{any patient | fever}) = \\dfrac{1}{10000} = 10^{-4}\n",
    "\\end{equation}\n",
    "\n",
    "\\begin{array}{l c r} \\hline\n",
    "P(\\textrm{spots | fever}) &= 1.0 & \\hspace{1cm} & P(\\textrm{spots | }\\overline{\\textrm{fever}}) &= 0.03 \\\\ \n",
    "P(\\textrm{lethargy | fever}) &= 1.0 & \\hspace{1cm} & P(\\textrm{lethargy | }\\overline{\\textrm{fever}}) &= 0.10 \\\\\n",
    "P(\\textrm{thirst | fever}) &= 0.6 & \\hspace{1cm} & P(\\textrm{thirst | }\\overline{\\textrm{fever}})  &= 0.02 \\\\\n",
    "P(\\textrm{sneezes | fever}) &= 0.2 & \\hspace{1cm} & P(\\textrm{sneezes | }\\overline{\\textrm{fever}}) &= 0.05 \\\\\n",
    "\\hline\n",
    "\\end{array}\n"
   ]
  },
  {
   "cell_type": "markdown",
   "metadata": {},
   "source": [
    "$P(\\textrm{fever | sp, l, t, sn}) = \\dfrac{P(\\textrm{sp, l, t, sn | fever})\\cdot P(\\textrm{fever})}{P(\\textrm{sp, l, t, sn | fever})\\cdot P(\\textrm{fever})+P(\\textrm{sp, l, t, sn | }\\overline{\\textrm{fever}})\\cdot P(\\overline{\\textrm{fever}})}$"
   ]
  },
  {
   "cell_type": "markdown",
   "metadata": {},
   "source": [
    "Case 1: Going to the doctor with all four symptoms (4S)."
   ]
  },
  {
   "cell_type": "markdown",
   "metadata": {},
   "source": [
    "$P(\\textrm{sp, l, t, sn | fever}) = 1.0 \\cdot 1.0 \\cdot 0.6 \\cdot 0.2 = 0.12$\n",
    "\n",
    "$P(\\textrm{sp, l, t, sn | }\\overline{\\textrm{fever}}) = 0.03 \\cdot 0.10 \\cdot 0.02 \\cdot 0.05 = 0.000003 = 3\\cdot10^{-6}$"
   ]
  },
  {
   "cell_type": "markdown",
   "metadata": {},
   "source": [
    "$P(\\textrm{fever | sp, l, t, sn}) = \\dfrac{P(\\textrm{sp, l, t, sn | fever})\\cdot P(\\textrm{fever})}{P(\\textrm{sp, l, t, sn | fever})\\cdot P(\\textrm{fever})+P(\\textrm{sp, l, t, sn | }\\overline{\\textrm{fever}})\\cdot P(\\overline{\\textrm{fever}})}$"
   ]
  },
  {
   "cell_type": "markdown",
   "metadata": {},
   "source": [
    "$P(\\textrm{fever | sp, l, t, sn}) = \\dfrac{0.12\\cdot 10^{-4}}{0.12\\cdot 10^{-4}+3\\cdot10^{-6}\\cdot (1-10^{-4})} = 80$%"
   ]
  },
  {
   "cell_type": "markdown",
   "metadata": {},
   "source": [
    "Case 2: Going to the doctor with any three of four symptoms.\n",
    "\n",
    "spots, lethargy, thirst  or spots, lethargy, sneezing"
   ]
  },
  {
   "cell_type": "markdown",
   "metadata": {},
   "source": [
    "$P(\\textrm{sp, l, t, }\\overline{\\textrm{sn}}\\textrm{ | fever}) = 1.0 \\cdot 1.0 \\cdot 0.6 \\cdot (1-0.2)= 0.48$\n",
    "\n",
    "$P(\\textrm{sp, l, }\\overline{\\textrm{t}}\\textrm{, sn | fever}) = 1.0 \\cdot 1.0 \\cdot (1-0.6) \\cdot 0.2 = 0.08$\n",
    "\n",
    "$P(\\textrm{sp, l, t, }\\overline{\\textrm{sn}}\\textrm{ | } \\overline{\\textrm{fever}}) = 0.03 \\cdot 0.10 \\cdot 0.02 \\cdot (1-0.05)= 5.7\\cdot10^{-5}$\n",
    "\n",
    "$P(\\textrm{sp, l, }\\overline{\\textrm{t}}\\textrm{, sn | }\\overline{\\textrm{fever}}) = 0.03 \\cdot 0.10 \\cdot (1-0.02) \\cdot 0.05 = 1.47\\cdot10^{-4}$"
   ]
  },
  {
   "cell_type": "markdown",
   "metadata": {},
   "source": [
    "$P(\\textrm{fever | sp, l, t, }\\overline{\\textrm{sn}}) = \\dfrac{P(\\textrm{sp, l, t, }\\overline{\\textrm{sn}}\\textrm{ | fever}) \\cdot P(\\textrm{fever})}{P(\\textrm{sp, l, t, }\\overline{\\textrm{sn}}\\textrm{ | fever}) \\cdot P(\\textrm{fever}) + P(\\textrm{sp, l, t, }\\overline{\\textrm{sn}}\\textrm{ | } \\overline{\\textrm{fever}})\\cdot P(\\overline{\\textrm{fever}})}$"
   ]
  },
  {
   "cell_type": "markdown",
   "metadata": {},
   "source": [
    "$P(\\textrm{fever | sp, l, t, }\\overline{\\textrm{sn}})$ = 0.457... = 45.7%"
   ]
  },
  {
   "cell_type": "markdown",
   "metadata": {},
   "source": [
    "$P(\\textrm{fever | sp, l, }\\overline{\\textrm{t}}\\textrm{, sn})$ = 0.0516... = 5.16%"
   ]
  },
  {
   "cell_type": "code",
   "execution_count": null,
   "metadata": {
    "collapsed": true
   },
   "outputs": [],
   "source": []
  }
 ],
 "metadata": {
  "kernelspec": {
   "display_name": "Python 2",
   "language": "python",
   "name": "python2"
  },
  "language_info": {
   "codemirror_mode": {
    "name": "ipython",
    "version": 2
   },
   "file_extension": ".py",
   "mimetype": "text/x-python",
   "name": "python",
   "nbconvert_exporter": "python",
   "pygments_lexer": "ipython2",
   "version": "2.7.13"
  }
 },
 "nbformat": 4,
 "nbformat_minor": 2
}
