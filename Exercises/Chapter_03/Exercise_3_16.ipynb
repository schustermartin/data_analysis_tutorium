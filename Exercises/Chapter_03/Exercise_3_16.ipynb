{
 "cells": [
  {
   "cell_type": "markdown",
   "metadata": {
    "nbpresent": {
     "id": "a1b080ad-b560-4009-8b5d-8ec21dd06e1e"
    }
   },
   "source": [
    "# Exercise 2.16\n",
    "\n",
    "We consider a _thinned_ Poisson process. Here we have a random number of occurrences, N, distributed according to a Poisson distribution with mean ν. Each of the N occurrences, $X_{n}$, can take on values of 1, with probability p, or 0, with probability (1−p). We want to derive the probability distribution for\n",
    "\\begin{equation}\n",
    "     X = \\sum^{N}_{n=1}X_{n}~~~.\n",
    "\\end{equation}\n",
    "Show that the probability distribution is given by\n",
    "\\begin{equation}\n",
    "P(X)= \\frac{e^{-\\nu p}(\\nu p)^{X}}{X!}\n",
    "\\end{equation}"
   ]
  },
  {
   "cell_type": "markdown",
   "metadata": {
    "nbpresent": {
     "id": "e0ea8658-ac1d-4b0b-8a7c-72794f659fcf"
    }
   },
   "source": [
    "## Solution:\n",
    "\n",
    "For a given N,the expression for X can be rewritten. We call r the number of times $X_{n}$ takes the value 1:\n",
    "\\begin{equation}\n",
    "X = \\sum^{r}_{n=0} 1 + \\sum^{N}_{n=r+1} 0 = r\n",
    "\\end{equation}\n",
    "So we can write the probability distribution for X with given N as\n",
    "\\begin{equation}\n",
    "P(X|N,p)=P(r|N,p)\n",
    "\\end{equation}\n",
    "For a given N, $P(X|N,p)$ is the Binomial distribution."
   ]
  },
  {
   "cell_type": "markdown",
   "metadata": {
    "nbpresent": {
     "id": "5d90db26-fbe9-4413-993c-0f95ca969205"
    }
   },
   "source": [
    "I will drop the \"p\" in the notation, since it is always given.\n",
    "N is Poisson-distributed. \n",
    "For the distribution $P(X)$ we sum over all N from 0 to $\\infty$. Be N = X+L, L being the unsuccessfull trials.\n",
    "\\begin{eqnarray}\n",
    "P(X) =& \\sum_{N=0}^{\\infty} P(X|N)P(N|\\nu)\\\\\n",
    "P(X) =& 0 ,~~~~ \\textsf{for}~~ N < X\\\\\n",
    "P(X) =& \\sum_{N=X}^{\\infty} P(X|X+L)P(X+L|\\nu)\\\\\n",
    "\\rightarrow P(X) =& \\sum_{L=0}^{\\infty} P(X|X+L)P(X+L|\\nu)\\\\\n",
    "\\end{eqnarray}"
   ]
  },
  {
   "cell_type": "markdown",
   "metadata": {
    "nbpresent": {
     "id": "cd54d12c-4919-46ab-aa98-b0011de0e883"
    }
   },
   "source": [
    "Now we insert the distributions:\n",
    "\\begin{eqnarray}\n",
    "P(X) =& \\sum_{L=0}^{\\infty} \\frac{(X+L)!}{X!L!}p^{X}(1-p)^{L} \\cdot \\frac{e^{-\\nu}\\nu^{X+L}}{(X+L)!}\\\\\n",
    "P(X)=& \\sum_{L=0}^{\\infty} \\frac{  (\\nu p)^{X}(\\nu(1-p))^{L} e^{-\\nu}}{X!L!} \\\\\n",
    "P(X)=&  \\frac{(\\nu p)^{X}}{X!} \\sum_{L=0}^{\\infty} \\frac{e^{-\\nu}(\\nu(1-p))^{L} }{L!}\\\\\n",
    "P(X)=&  \\frac{(\\nu p)^{X}}{X!} e^{-\\nu +p \\nu -p \\nu} \\sum_{L=0}^{\\infty} \\frac{(\\nu(1-p))^{L} }{L!}\\\\\n",
    "P(X)=&  \\frac{(\\nu p)^{X}}{X!} e^{-\\nu(1 -p) -p \\nu} \\sum_{L=0}^{\\infty} \\frac{(\\nu(1-p))^{L} }{L!}\\\\\n",
    "P(X)=&  e^{ -p \\nu} \\frac{(\\nu p)^{X}}{X!} e^{-\\nu(1 -p)} e^{(\\nu(1-p)}\\\\\n",
    "P(X)=&   \\frac{e^{-\\nu p} (\\nu p)^{X}}{X!} ~~~q.e.d\n",
    "\\end{eqnarray}"
   ]
  }
 ],
 "metadata": {
  "kernelspec": {
   "display_name": "Python 2",
   "language": "python",
   "name": "python2"
  },
  "language_info": {
   "codemirror_mode": {
    "name": "ipython",
    "version": 2
   },
   "file_extension": ".py",
   "mimetype": "text/x-python",
   "name": "python",
   "nbconvert_exporter": "python",
   "pygments_lexer": "ipython2",
   "version": "2.7.13"
  },
  "nbpresent": {
   "slides": {
    "13a1229d-e4cb-446d-8077-f791cd1fefb6": {
     "id": "13a1229d-e4cb-446d-8077-f791cd1fefb6",
     "prev": "b83e90f8-5bb9-4b9c-8d0b-64fe9270ba7f",
     "regions": {
      "40c445ad-6241-44c3-9009-b0c93c66ba91": {
       "attrs": {
        "height": 0.8,
        "width": 0.8,
        "x": 0.1,
        "y": 0.1
       },
       "content": {
        "cell": "5d90db26-fbe9-4413-993c-0f95ca969205",
        "part": "whole"
       },
       "id": "40c445ad-6241-44c3-9009-b0c93c66ba91"
      }
     }
    },
    "9c4c8ea2-6b66-4098-9b37-44b6ab4e1885": {
     "id": "9c4c8ea2-6b66-4098-9b37-44b6ab4e1885",
     "prev": "13a1229d-e4cb-446d-8077-f791cd1fefb6",
     "regions": {
      "082c32e4-0205-4480-b70b-249e931aabc2": {
       "attrs": {
        "height": 0.8,
        "width": 0.8,
        "x": 0.1,
        "y": 0.1
       },
       "content": {
        "cell": "cd54d12c-4919-46ab-aa98-b0011de0e883",
        "part": "whole"
       },
       "id": "082c32e4-0205-4480-b70b-249e931aabc2"
      }
     }
    },
    "b83e90f8-5bb9-4b9c-8d0b-64fe9270ba7f": {
     "id": "b83e90f8-5bb9-4b9c-8d0b-64fe9270ba7f",
     "prev": "efa49635-6755-4ffc-be15-907d552c37ad",
     "regions": {
      "b31f4518-2f59-486e-a132-5cd65c9b1554": {
       "attrs": {
        "height": 0.8,
        "width": 0.8,
        "x": 0.1,
        "y": 0.1
       },
       "content": {
        "cell": "e0ea8658-ac1d-4b0b-8a7c-72794f659fcf",
        "part": "whole"
       },
       "id": "b31f4518-2f59-486e-a132-5cd65c9b1554"
      }
     }
    },
    "efa49635-6755-4ffc-be15-907d552c37ad": {
     "id": "efa49635-6755-4ffc-be15-907d552c37ad",
     "prev": null,
     "regions": {
      "4f6a7be5-debb-439e-9aac-443ee660967d": {
       "attrs": {
        "height": 0.7999999999999999,
        "width": 0.8,
        "x": 0.10784655623365295,
        "y": 0.09690012593238392
       },
       "content": {
        "cell": "a1b080ad-b560-4009-8b5d-8ec21dd06e1e",
        "part": "whole"
       },
       "id": "4f6a7be5-debb-439e-9aac-443ee660967d"
      }
     }
    }
   },
   "themes": {}
  }
 },
 "nbformat": 4,
 "nbformat_minor": 2
}
