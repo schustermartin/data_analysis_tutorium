{
 "cells": [
  {
   "cell_type": "code",
   "execution_count": 349,
   "metadata": {
    "collapsed": true
   },
   "outputs": [],
   "source": [
    "using Plots; pyplot()\n",
    "using StatsBase"
   ]
  },
  {
   "cell_type": "code",
   "execution_count": 350,
   "metadata": {
    "collapsed": true
   },
   "outputs": [],
   "source": [
    "points = Any[\n",
    "    \"Philipp Holl\" 67.5 true NaN\n",
    "    \"Korbinian Urban\" 57.5 true NaN\n",
    "     \"Thomas Baldauf\" 62.0 true NaN\n",
    "     \"Patrick Krause\" 61.5 false NaN\n",
    "     \"Oskar Moras\" 55.0 false NaN\n",
    "     \"Irina Ilicheva\" 55.0 false NaN\n",
    "     \"Josef Keilhofer\" 59.0 true NaN\n",
    "     \"Radu Bors\" 54.5 false NaN\n",
    "     \"Johannes Summer\" 55.0 true NaN\n",
    "     \"Magnus Lindström\" 65.0 false NaN\n",
    "     \"Jingzhun Liu\" 38.5 false NaN\n",
    "     \"Chen Yang\t\" 57.0 false NaN\n",
    "     \"Abdoulaye Sall\" 24.5 false NaN \n",
    "];\n",
    "points = sortrows(points, by=x->(x[2]), rev=true)\n",
    "max_points = 68.0\n",
    "grading_scale = [1.0, 1.3, 1.7, 2.0, 2.3, 2.7, 3.0, 3.3, 3.7, 4.0, 4.3, 4.7, 5.0];"
   ]
  },
  {
   "cell_type": "code",
   "execution_count": 351,
   "metadata": {},
   "outputs": [
    {
     "data": {
      "image/png": "[encoded data removed]"
     },
     "execution_count": 351,
     "metadata": {},
     "output_type": "execute_result"
    }
   ],
   "source": [
    "h = Histogram(0:1:80, :left)\n",
    "append!(h, points[:,2])\n",
    "plot(h, lw=1.5, size=(800,400), axis=font(16))\n",
    "vline!([68*0.95], label=\"95%\")\n",
    "vline!([68*0.50], label=\"50%\")"
   ]
  },
  {
   "cell_type": "code",
   "execution_count": 360,
   "metadata": {},
   "outputs": [
    {
     "data": {
      "text/plain": [
       "grade (generic function with 2 methods)"
      ]
     },
     "execution_count": 360,
     "metadata": {},
     "output_type": "execute_result"
    }
   ],
   "source": [
    "function grade(step::Float64, offset::Float64)\n",
    "    n = zeros(Int, length(grades));\n",
    "    pointminimum = offset - step * (length(grades)-1)\n",
    "    for idx in eachindex(points_arr)\n",
    "        percentage = points[:,2][idx] / max_points\n",
    "        # bonus? \n",
    "        if points[:,3][idx] == true percentage += step end\n",
    "        graded = false\n",
    "        for (j,interval) in enumerate(offset:-step:pointminimum)\n",
    "            if idx == 1 println(\"$(round(interval, 2))\\t<=>\\t$(grading_scale[j])\") end\n",
    "            if (percentage >= interval) && !graded\n",
    "                points[idx, 4] = grading_scale[j]\n",
    "                n[j] += 1\n",
    "                graded = true\n",
    "            end\n",
    "        end\n",
    "        if !graded\n",
    "            n[end] += 1\n",
    "        end\n",
    "    end\n",
    "    average = mean( n .* grading_scale )\n",
    "    println(\"average: $(round(average, 3))\")\n",
    "    return n\n",
    "end"
   ]
  },
  {
   "cell_type": "code",
   "execution_count": 361,
   "metadata": {},
   "outputs": [
    {
     "name": "stdout",
     "output_type": "stream",
     "text": [
      "0.95\t<=>\t1.0\n",
      "0.9\t<=>\t1.3\n",
      "0.85\t<=>\t1.7\n",
      "0.8\t<=>\t2.0\n",
      "0.75\t<=>\t2.3\n",
      "0.7\t<=>\t2.7\n",
      "0.65\t<=>\t3.0\n",
      "0.6\t<=>\t3.3\n",
      "0.55\t<=>\t3.7\n",
      "0.5\t<=>\t4.0\n",
      "0.45\t<=>\t4.3\n",
      "0.4\t<=>\t4.7\n",
      "0.35\t<=>\t5.0\n",
      "average: 1.977\n"
     ]
    }
   ],
   "source": [
    "g = grade(0.05, 0.95);"
   ]
  },
  {
   "cell_type": "code",
   "execution_count": 362,
   "metadata": {
    "scrolled": true
   },
   "outputs": [
    {
     "data": {
      "text/plain": [
       "13×4 Array{Any,2}:\n",
       " \"Philipp Holl\"      67.5   true  1.0\n",
       " \"Magnus Lindström\"  65.0  false  1.0\n",
       " \"Thomas Baldauf\"    62.0   true  1.0\n",
       " \"Patrick Krause\"    61.5  false  1.3\n",
       " \"Josef Keilhofer\"   59.0   true  1.3\n",
       " \"Korbinian Urban\"   57.5   true  1.7\n",
       " \"Chen Yang\\t\"       57.0  false  2.0\n",
       " \"Oskar Moras\"       55.0  false  2.0\n",
       " \"Irina Ilicheva\"    55.0  false  2.0\n",
       " \"Johannes Summer\"   55.0   true  1.7\n",
       " \"Radu Bors\"         54.5  false  2.0\n",
       " \"Jingzhun Liu\"      38.5  false  3.7\n",
       " \"Abdoulaye Sall\"    24.5  false  5.0"
      ]
     },
     "metadata": {},
     "output_type": "display_data"
    },
    {
     "data": {
      "image/png": "[encoded data removed]"
     },
     "execution_count": 362,
     "metadata": {},
     "output_type": "execute_result"
    }
   ],
   "source": [
    "display(points)\n",
    "plot(grades, g, st=:bar, size=(800,400), axis=font(16), xticks=grades)\n",
    "average = mean( g .* grading_scale )\n",
    "vline!([average], label=\"average\", lw=3., color=\"red\")"
   ]
  },
  {
   "cell_type": "code",
   "execution_count": null,
   "metadata": {
    "collapsed": true
   },
   "outputs": [],
   "source": []
  },
  {
   "cell_type": "code",
   "execution_count": 356,
   "metadata": {},
   "outputs": [
    {
     "data": {
      "text/plain": [
       "13×4 Array{Any,2}:\n",
       " \"Philipp Holl\"      67.5   true  1.0\n",
       " \"Magnus Lindström\"  65.0  false  1.0\n",
       " \"Thomas Baldauf\"    62.0   true  1.0\n",
       " \"Patrick Krause\"    61.5  false  1.3\n",
       " \"Josef Keilhofer\"   59.0   true  1.3\n",
       " \"Korbinian Urban\"   57.5   true  1.7\n",
       " \"Johannes Summer\"   55.0   true  1.7\n",
       " \"Chen Yang\\t\"       57.0  false  2.0\n",
       " \"Oskar Moras\"       55.0  false  2.0\n",
       " \"Irina Ilicheva\"    55.0  false  2.0\n",
       " \"Radu Bors\"         54.5  false  2.0\n",
       " \"Jingzhun Liu\"      38.5  false  3.7\n",
       " \"Abdoulaye Sall\"    24.5  false  5.0"
      ]
     },
     "execution_count": 356,
     "metadata": {},
     "output_type": "execute_result"
    }
   ],
   "source": [
    "sortrows(points, by=x->(x[4]))"
   ]
  },
  {
   "cell_type": "code",
   "execution_count": null,
   "metadata": {
    "collapsed": true
   },
   "outputs": [],
   "source": []
  }
 ],
 "metadata": {
  "kernelspec": {
   "display_name": "Julia 0.6.0",
   "language": "julia",
   "name": "julia-0.6"
  },
  "language_info": {
   "file_extension": ".jl",
   "mimetype": "application/julia",
   "name": "julia",
   "version": "0.6.0"
  }
 },
 "nbformat": 4,
 "nbformat_minor": 2
}
