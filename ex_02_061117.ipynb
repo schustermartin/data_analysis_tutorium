{
 "cells": [
  {
   "cell_type": "markdown",
   "metadata": {},
   "source": [
    "## Excercise 2 (2.10)"
   ]
  },
  {
   "cell_type": "code",
   "execution_count": 1,
   "metadata": {
    "collapsed": true
   },
   "outputs": [],
   "source": [
    "from math import factorial\n",
    "\n",
    "import numpy as np\n",
    "import matplotlib.pyplot as plt\n",
    "\n",
    "from scipy.stats import binom\n",
    "from scipy.special import binom as binom_coef"
   ]
  },
  {
   "cell_type": "markdown",
   "metadata": {},
   "source": [
    "#### Just some imports:\n",
    "* math includes some mathematical functions. We need the factorial for computing the posterior.\n",
    "* numpy for the convinient numpy arrays\n",
    "* matplotlib for plotting\n",
    "* Just for testing: binomial distribution and binomial coefficients"
   ]
  },
  {
   "cell_type": "code",
   "execution_count": 2,
   "metadata": {
    "collapsed": true
   },
   "outputs": [],
   "source": [
    "# The posterior probability is defined in the lecture as:\n",
    "# P(p|r,N) = (N+1)!/(r!*(N-r)!) p^r * (1-p)^(N-r)\n",
    "def posterior(p, r, N):\n",
    "    factor = factorial(N+1) / (factorial(r) * factorial(N-r))\n",
    "    likelihood = pow(p,r) * pow((1.-p), N-r)\n",
    "    return (factor * likelihood)"
   ]
  },
  {
   "cell_type": "code",
   "execution_count": 3,
   "metadata": {
    "collapsed": false
   },
   "outputs": [
    {
     "name": "stdout",
     "output_type": "stream",
     "text": [
      "1.0\n"
     ]
    }
   ],
   "source": [
    "# The posterior is normalized\n",
    "s = 0.\n",
    "for k in range(1,1000):\n",
    "    p = k/1000.\n",
    "    s+= posterior(p,5,10) / 1000.\n",
    "print(s)"
   ]
  },
  {
   "cell_type": "code",
   "execution_count": 4,
   "metadata": {
    "collapsed": true
   },
   "outputs": [],
   "source": [
    "# Defining list of the given data\n",
    "# using numpy arrays here\n",
    "Energies = np.array([0.5, 1., 1.5, 2., 2.5, 3., 3.5, 4.])\n",
    "Trials = np.array([100, 100, 100, 100, 100, 1000, 1000, 1000])\n",
    "Successes = np.array([0,4,20,58,92,987,995,998])"
   ]
  },
  {
   "cell_type": "code",
   "execution_count": 5,
   "metadata": {
    "collapsed": false
   },
   "outputs": [
    {
     "data": {
      "text/plain": [
       "array([0, 0, 0, 0, 0, 0, 0, 0])"
      ]
     },
     "execution_count": 5,
     "metadata": {},
     "output_type": "execute_result"
    }
   ],
   "source": [
    "# The mode of the posterior with a flat prior was in the lecture given as p* 0 r/N\n",
    "Efficiencies_estimate = Successes / Trials\n",
    "Efficiencies_estimate"
   ]
  },
  {
   "cell_type": "code",
   "execution_count": 6,
   "metadata": {
    "collapsed": true
   },
   "outputs": [],
   "source": [
    "# producing list of the posterior probability values for plotting\n",
    "stepsize = 1./10000.\n",
    "posterior_values = []\n",
    "for i in range(0,len(Energies)):\n",
    "    posterior_values.append([])\n",
    "    for x in np.arange(0,1, stepsize):\n",
    "        posterior_values[i].append(posterior(x,Successes[i],Trials[i]))\n",
    "\n",
    "# producing list of x values\n",
    "x_values = list(np.arange(0,1, stepsize))"
   ]
  },
  {
   "cell_type": "code",
   "execution_count": null,
   "metadata": {
    "collapsed": false
   },
   "outputs": [],
   "source": [
    "plt.ylim(0,120)\n",
    "plt.xlabel('p')\n",
    "plt.ylabel('posterior')\n",
    "for i in range(0,len(Energies)):\n",
    "    plt.plot(x_values, posterior_values[i])\n",
    "\n",
    "plt.show()"
   ]
  },
  {
   "cell_type": "markdown",
   "metadata": {},
   "source": [
    "#### Defining smallest interval\n",
    "Here I am sorting the list of posterior values. This gives us the rank of the posterior value for a given p. Then I am adding values according to their rank as long as the sum of them is less than 1-alpha. The last added values for\n",
    "p are the xmax and xmin, depending on which side of the mode they are."
   ]
  },
  {
   "cell_type": "code",
   "execution_count": null,
   "metadata": {
    "collapsed": true
   },
   "outputs": [],
   "source": [
    "def smallest_interval(k, alpha, stepsize):\n",
    "    l = list(sorted(zip(posterior_values[k], x_values), reverse=True))\n",
    "    count = 0.\n",
    "    i = 0\n",
    "    x_min = x_max = 0\n",
    "    p = Successes[k] / Trials[k] # mode\n",
    "    while count < (1-alpha):\n",
    "        count+= l[i][0]*stepsize\n",
    "        if(l[i][1] >= p):\n",
    "            x_max = l[i][1]\n",
    "        else:\n",
    "            x_min = l[i][1]\n",
    "        i=i+1\n",
    "    return x_min, x_max, count"
   ]
  },
  {
   "cell_type": "code",
   "execution_count": null,
   "metadata": {
    "collapsed": false
   },
   "outputs": [],
   "source": [
    "plt.ylim(0,80) # setting appropiate limits\n",
    "plt.xlim(0,0.15)\n",
    "plt.xlabel('p')\n",
    "plt.ylabel('posterior')\n",
    "for k in range(0,2):\n",
    "    #calculating the smallest interval\n",
    "    xmin, xmax, p_contained = smallest_interval(k,0.32,stepsize)\n",
    "    plt.plot(x_values, posterior_values[k])\n",
    "    # producing the shaded region of the smallest interval\n",
    "    SI = np.arange(xmin,xmax,0.001)\n",
    "    plt.fill_between(SI, posterior(SI,Successes[k], Trials[k]), facecolor='blue', alpha=0.1)\n",
    "plt.show()"
   ]
  },
  {
   "cell_type": "code",
   "execution_count": null,
   "metadata": {
    "collapsed": false
   },
   "outputs": [],
   "source": [
    "plt.ylim(0,20) # setting appropiate limits\n",
    "plt.xlim(0,1)\n",
    "plt.xlabel('p')\n",
    "plt.ylabel('posterior')\n",
    "for k in range(2,5):\n",
    "    xmin, xmax, p_contained = smallest_interval(k,0.32,stepsize)\n",
    "    plt.plot(x_values, posterior_values[k])\n",
    "    SI = np.arange(xmin,xmax,0.001)\n",
    "    plt.fill_between(SI, posterior(SI,Successes[k], Trials[k]), facecolor='blue', alpha=0.1)\n",
    "plt.show()"
   ]
  },
  {
   "cell_type": "code",
   "execution_count": null,
   "metadata": {
    "collapsed": false
   },
   "outputs": [],
   "source": [
    "plt.ylim(0,300) # setting appropiate limits\n",
    "plt.xlim(0.97,1)\n",
    "plt.xlabel('p')\n",
    "plt.ylabel('posterior')\n",
    "for k in range(4,8):\n",
    "    xmin, xmax, p_contained = smallest_interval(k,0.32,stepsize)\n",
    "    plt.plot(x_values, posterior_values[k])\n",
    "    SI = np.arange(xmin,xmax,0.0001)\n",
    "    plt.fill_between(SI, posterior(SI,Successes[k], Trials[k]), facecolor='blue', alpha=0.1)\n",
    "plt.show()"
   ]
  },
  {
   "cell_type": "code",
   "execution_count": null,
   "metadata": {
    "collapsed": false
   },
   "outputs": [],
   "source": [
    "for k in range(0,8):\n",
    "    print(smallest_interval(k, 0.32, stepsize))"
   ]
  },
  {
   "cell_type": "markdown",
   "metadata": {
    "collapsed": true,
    "nbpresent": {
     "id": "6ea9f0d2-a8dc-4ec7-9e05-5bfcd2ed80dd"
    },
    "slideshow": {
     "slide_type": "slide"
    }
   },
   "source": [
    "## Exercise 3 (2.11)"
   ]
  },
  {
   "cell_type": "code",
   "execution_count": null,
   "metadata": {
    "collapsed": true,
    "nbpresent": {
     "id": "fc229890-094a-4aa9-9d47-1ea3fce654ef"
    },
    "slideshow": {
     "slide_type": "slide"
    }
   },
   "outputs": [],
   "source": [
    "# calculating the boundaries of the central interval\n",
    "def central_interval(p, N, alpha):\n",
    "    r_min = 0\n",
    "    s = binom.pmf(0, N, p)\n",
    "    while s <= alpha/2:\n",
    "        r_min += 1\n",
    "        #s += binom.pmf(r_min, N, p)\n",
    "        s += dyn_binom(r_min, N, p)\n",
    "\n",
    "        \n",
    "    r_max = N\n",
    "    s = binom.pmf(N, N, p)\n",
    "    while s <= alpha/2:\n",
    "        r_max -= 1\n",
    "        #s += binom.pmf(r_max, N, p)\n",
    "        s += dyn_binom(r_max, N, p)\n",
    "  \n",
    "    return r_min, r_max"
   ]
  },
  {
   "cell_type": "code",
   "execution_count": null,
   "metadata": {
    "collapsed": true,
    "nbpresent": {
     "id": "e85811a9-a1d0-4769-9a92-701d7afe279f"
    },
    "slideshow": {
     "slide_type": "slide"
    }
   },
   "outputs": [],
   "source": [
    "def smallest_interval(p, N, alpha):\n",
    "    Rs = []\n",
    "    P_binoms = []\n",
    "    for r in range(0,N+1):\n",
    "        Rs.append(r)\n",
    "        #P_binoms.append(binom.pmf(r, N, p))\n",
    "        P_binoms.append(dyn_binom(r, N, p))\n",
    "    l = list(sorted(zip(P_binoms, Rs), reverse=True))\n",
    "    s = 0\n",
    "    i = 0\n",
    "    r_min = 0\n",
    "    r_max = N\n",
    "    est = p*N\n",
    "    \n",
    "    if p == 0:\n",
    "        r_min=r_max=0\n",
    "        s=1\n",
    "    elif p == 1:\n",
    "        r_min=r_max=N\n",
    "        s=1\n",
    "    else:\n",
    "        while(s < 1-alpha):\n",
    "            s += l[i][0]\n",
    "            if(l[i][1] >= est):\n",
    "                r_max = l[i][1]\n",
    "            else:\n",
    "                r_min = l[i][1]\n",
    "            i=i+1\n",
    "    return r_min, r_max"
   ]
  },
  {
   "cell_type": "code",
   "execution_count": null,
   "metadata": {
    "collapsed": true,
    "nbpresent": {
     "id": "198dff84-c621-4ced-a234-d966fc0f9102"
    },
    "slideshow": {
     "slide_type": "slide"
    }
   },
   "outputs": [],
   "source": [
    "lookup = np.zeros([1001,1001])\n",
    "for N in range(0,1001):\n",
    "    for r in range(0,N+1):\n",
    "        lookup[N][r] = binom_coef(N,r)\n",
    "  "
   ]
  },
  {
   "cell_type": "code",
   "execution_count": null,
   "metadata": {
    "collapsed": true,
    "slideshow": {
     "slide_type": "fragment"
    }
   },
   "outputs": [],
   "source": [
    "def dyn_binom(r, N, p):\n",
    "    return lookup[N][r]*pow(p,r)*pow(1-p,N-r)"
   ]
  },
  {
   "cell_type": "code",
   "execution_count": null,
   "metadata": {
    "collapsed": false,
    "nbpresent": {
     "id": "1240be9d-89ab-41ee-88d8-56f20aed2476"
    },
    "slideshow": {
     "slide_type": "slide"
    }
   },
   "outputs": [],
   "source": [
    "# Defining list of the given data\n",
    "# using numpy arrays here\n",
    "Energies = np.array([0.5, 1., 1.5, 2., 2.5, 3., 3.5, 4.])\n",
    "Trials = np.array([100, 100, 100, 100, 100, 1000, 1000, 1000])\n",
    "Successes = np.array([0,4,20,58,92,987,995,998])\n",
    "\n",
    "# The mode of the posterior with a flat prior was in the lecture given as p* 0 r/N\n",
    "Efficiencies_estimate = Successes / Trials\n",
    "Efficiencies_estimate"
   ]
  },
  {
   "cell_type": "code",
   "execution_count": null,
   "metadata": {
    "collapsed": true,
    "nbpresent": {
     "id": "ec38478d-91cd-40ff-ab83-2e9c5e90afae"
    },
    "slideshow": {
     "slide_type": "slide"
    }
   },
   "outputs": [],
   "source": [
    "# Produce Neyman Confidence Levels\n",
    "def neyman_CL(N, interval='CI', alpha=0.1):\n",
    "    stepsize = 1./1000\n",
    "    p_values = np.arange(0,1,stepsize)\n",
    "    r_min = []\n",
    "    r_max = []\n",
    "\n",
    "    for p in p_values:\n",
    "        if interval == 'CI':\n",
    "            r1, r2 = central_interval(p, N, alpha)\n",
    "        elif interval == 'SI':\n",
    "            r1, r2 = smallest_interval(p, N, alpha)\n",
    "        r_min.append(r1)\n",
    "        r_max.append(r2)\n",
    "    return np.array(r_min), np.array(r_max), p_values\n",
    "    \n",
    "    "
   ]
  },
  {
   "cell_type": "code",
   "execution_count": null,
   "metadata": {
    "collapsed": false,
    "nbpresent": {
     "id": "cd04d973-72da-4f06-b3ee-fe3515bd2107"
    },
    "slideshow": {
     "slide_type": "slide"
    }
   },
   "outputs": [],
   "source": [
    "r_min_100, r_max_100, p_values = neyman_CL(100, 'CI', 1.-0.90)\n",
    "plt.plot(r_min_100, p_values)\n",
    "plt.plot(r_max_100, p_values)\n",
    "plt.xlabel('r')\n",
    "plt.ylabel('P')\n",
    "plt.title('Neyman Confidence Level, N = 100, Central Interval, 90%')\n",
    "plt.grid(True)\n",
    "plt.show()"
   ]
  },
  {
   "cell_type": "code",
   "execution_count": null,
   "metadata": {
    "collapsed": false,
    "nbpresent": {
     "id": "b794fbf0-da59-483a-bcbe-841156f3ea8e"
    },
    "slideshow": {
     "slide_type": "slide"
    }
   },
   "outputs": [],
   "source": [
    "r_min_1k, r_max_1k, p_values = neyman_CL(1000, 'CI', 1.-0.90)\n",
    "plt.plot(r_min_1k, p_values)\n",
    "plt.plot(r_max_1k, p_values)\n",
    "plt.xlabel('r')\n",
    "plt.ylabel('P')\n",
    "plt.title('Neyman Confidence Level, N = 1000, Central Interval, 90%')\n",
    "plt.grid(True)\n",
    "plt.show()"
   ]
  },
  {
   "cell_type": "code",
   "execution_count": null,
   "metadata": {
    "collapsed": false,
    "nbpresent": {
     "id": "f5628bc0-4a53-481a-9067-b3d3d3fe322e"
    },
    "slideshow": {
     "slide_type": "slide"
    }
   },
   "outputs": [],
   "source": [
    "print(\"Central Interval\")\n",
    "print(\"E(GeV)\\t N\\t r\\t p_est\\t p_min\\t p_max\" )\n",
    "\n",
    "p_min = []\n",
    "p_max = []\n",
    "\n",
    "for i in range(0,len(Energies)):\n",
    "    E = Energies[i]\n",
    "    R = Successes[i]\n",
    "    N = Trials[i]\n",
    "    p_est = Efficiencies_estimate[i]\n",
    "    if(N == 1000):\n",
    "        r_min = r_min_1k\n",
    "        r_max = r_max_1k\n",
    "    else:\n",
    "        r_min = r_min_100\n",
    "        r_max = r_max_100\n",
    "        \n",
    "    p_min.append(r_max.searchsorted(R, side='left')/1000)\n",
    "    p_max.append(r_min.searchsorted(R, side='right')/1000)\n",
    "    print(E, \"\\t\", N, \"\\t\", R, \"\\t\", p_est, \"\\t\", p_min[i], \"\\t\" ,p_max[i])"
   ]
  },
  {
   "cell_type": "code",
   "execution_count": null,
   "metadata": {
    "collapsed": false,
    "nbpresent": {
     "id": "f5a99457-42b4-47e1-acd6-0dc31faf94c1"
    },
    "slideshow": {
     "slide_type": "slide"
    }
   },
   "outputs": [],
   "source": [
    "plt.plot(Energies, Efficiencies_estimate, marker='x', linestyle='')\n",
    "plt.plot(Energies, p_min)\n",
    "plt.plot(Energies, p_max)\n",
    "plt.fill_between(x=Energies, y1=p_min, y2=p_max, color='blue', alpha=0.1)\n",
    "plt.xlabel('E[GeV]')\n",
    "plt.ylabel('p')\n",
    "plt.title('Estimated Efficiency with 90% Central Interval')\n",
    "plt.show()"
   ]
  },
  {
   "cell_type": "code",
   "execution_count": null,
   "metadata": {
    "collapsed": false,
    "nbpresent": {
     "id": "802b7d7e-0c5f-48c4-8974-a7c5f31b8f23"
    },
    "slideshow": {
     "slide_type": "skip"
    }
   },
   "outputs": [],
   "source": [
    "r_min_100_SI, r_max_100_SI, p_values = neyman_CL(100, 'SI', 1.-0.90)\n",
    "plt.plot(r_min_100_SI, p_values)\n",
    "plt.plot(r_max_100_SI, p_values)\n",
    "plt.xlabel('r')\n",
    "plt.ylabel('P')\n",
    "plt.title('Neyman Confidence Level, N = 100, Smallest Interval, 90%')\n",
    "plt.grid(True)\n",
    "plt.show()"
   ]
  },
  {
   "cell_type": "code",
   "execution_count": null,
   "metadata": {
    "collapsed": false,
    "nbpresent": {
     "id": "429616b1-f1eb-4930-893b-c8892fd3e76c"
    },
    "slideshow": {
     "slide_type": "skip"
    }
   },
   "outputs": [],
   "source": [
    "r_min_1k_SI, r_max_1k_SI, p_values = neyman_CL(1000, 'SI', 1.-0.90)\n",
    "plt.plot(r_min_1k_SI, p_values)\n",
    "plt.plot(r_max_1k_SI, p_values)\n",
    "plt.xlabel('r')\n",
    "plt.ylabel('P')\n",
    "plt.title('Neyman Confidence Level, N = 1000, Smallest Interval, 90%')\n",
    "plt.grid(True)\n",
    "plt.show()"
   ]
  },
  {
   "cell_type": "code",
   "execution_count": null,
   "metadata": {
    "collapsed": false,
    "nbpresent": {
     "id": "a9f16a63-f15f-4ca9-9422-a6f15143c914"
    },
    "slideshow": {
     "slide_type": "slide"
    }
   },
   "outputs": [],
   "source": [
    "print(\"Smallest Interval\")\n",
    "print(\"E(GeV)\\t N\\t r\\t p_est\\t p_min\\t p_max\" )\n",
    "\n",
    "p_min_SI = []\n",
    "p_max_SI = []\n",
    "\n",
    "for i in range(0,len(Energies)):\n",
    "    E = Energies[i]\n",
    "    R = Successes[i]\n",
    "    N = Trials[i]\n",
    "    p_est = Efficiencies_estimate[i]\n",
    "    if(N == 1000):\n",
    "        r_min = r_min_1k_SI\n",
    "        r_max = r_max_1k_SI\n",
    "    else:\n",
    "        r_min = r_min_100_SI\n",
    "        r_max = r_max_100_SI\n",
    "        \n",
    "    p_min_SI.append(r_max.searchsorted(R, side='left')/1000)\n",
    "    p_max_SI.append(r_min.searchsorted(R, side='right')/1000)\n",
    "    print(E, \"\\t\", N, \"\\t\", R, \"\\t\", p_est, \"\\t\", p_min_SI[i], \"\\t\" ,p_max_SI[i])"
   ]
  },
  {
   "cell_type": "code",
   "execution_count": null,
   "metadata": {
    "collapsed": false,
    "nbpresent": {
     "id": "cb6a25bd-0ed9-483c-911f-c53d2f4f85ab"
    },
    "slideshow": {
     "slide_type": "skip"
    }
   },
   "outputs": [],
   "source": [
    "plt.plot(Energies, Efficiencies_estimate, marker='x', linestyle='')\n",
    "plt.plot(Energies, p_min)\n",
    "plt.plot(Energies, p_max)\n",
    "plt.fill_between(x=Energies, y1=p_min_SI, y2=p_max_SI, color='blue', alpha=0.1)\n",
    "plt.xlabel('E[GeV]')\n",
    "plt.ylabel('p')\n",
    "plt.title('Estimated Efficiency with 90% Smallest Interval')\n",
    "plt.show()"
   ]
  },
  {
   "cell_type": "code",
   "execution_count": null,
   "metadata": {
    "collapsed": false,
    "nbpresent": {
     "id": "625e4c04-b937-4d25-8a1d-b2b87e73d21d"
    },
    "scrolled": true,
    "slideshow": {
     "slide_type": "skip"
    }
   },
   "outputs": [],
   "source": [
    "r_max_100 - r_max_100_SI"
   ]
  },
  {
   "cell_type": "markdown",
   "metadata": {
    "collapsed": true
   },
   "source": [
    "## Exercise 4 (2.13)"
   ]
  },
  {
   "cell_type": "markdown",
   "metadata": {
    "collapsed": true
   },
   "source": [
    "_Let us see what happens if we reuse the same data multiple times. We have\n",
    "N\n",
    "trials and measure\n",
    "r\n",
    "successes.  Show that if you reuse the data\n",
    "n\n",
    "times,\n",
    "starting at first with a flat prior and then using the posterior from one use of\n",
    "the data as the prior for the next use, you get\n",
    "\\begin{equation}\n",
    "P_{n}(p|r,N)= \\frac{(nN + 1)!}{(nr)!(nN - nr)!} p^{nr}(1-p)^{n(N-r)}\n",
    "\\end{equation}\n",
    "What are the expectation value and variance for $p$ in the limit $n \\rightarrow \\infty$?_"
   ]
  },
  {
   "cell_type": "code",
   "execution_count": null,
   "metadata": {
    "collapsed": true
   },
   "outputs": [],
   "source": []
  }
 ],
 "metadata": {
  "anaconda-cloud": {},
  "kernelspec": {
   "display_name": "Python [Root]",
   "language": "python",
   "name": "Python [Root]"
  },
  "language_info": {
   "codemirror_mode": {
    "name": "ipython",
    "version": 2
   },
   "file_extension": ".py",
   "mimetype": "text/x-python",
   "name": "python",
   "nbconvert_exporter": "python",
   "pygments_lexer": "ipython2",
   "version": "2.7.12"
  }
 },
 "nbformat": 4,
 "nbformat_minor": 2
}
