{
 "cells": [
  {
   "cell_type": "markdown",
   "metadata": {},
   "source": [
    "# Data Analysis: Exercise 1"
   ]
  },
  {
   "cell_type": "markdown",
   "metadata": {},
   "source": [
    "## Exercise 1"
   ]
  },
  {
   "cell_type": "markdown",
   "metadata": {},
   "source": [
    "1) _You meet Jane on the street.  She tells you she has two children, and has\n",
    "pictures of them in her pocket.  She pulls out one picture, and shows it to\n",
    "you. It is a girl. What is the probability that the second child is also a girl ?\n",
    "Variation:  Jane takes out both pictures,  looks at them,  and is required to\n",
    "show you a picture of a girl if she has one. What is now the probability that\n",
    "the second child is also a girl?_"
   ]
  },
  {
   "cell_type": "markdown",
   "metadata": {},
   "source": [
    "Similar to the example in the lecture: Reasonable Assumption: Birthrates of Boys and Girls are both 50%.\n",
    "Initially, all the possible combinations are equally probable (We have no reason to choose one over another. Laplaces Rule of insufficient reason).\n",
    "\n"
   ]
  },
  {
   "cell_type": "code",
   "execution_count": 11,
   "metadata": {},
   "outputs": [
    {
     "data": {
      "text/latex": [
       "Bayes Theorem: $P(A|B) = \\frac{P(B|A) P(A)}{\\sum^{N}_{i=1} P(B|A_{i}) P(A_{i})}$"
      ],
      "text/plain": [
       "<IPython.core.display.Latex object>"
      ]
     },
     "metadata": {},
     "output_type": "display_data"
    }
   ],
   "source": [
    "%%latex \n",
    "Bayes Theorem: $P(A|B) = \\frac{P(B|A) P(A)}{\\sum^{N}_{i=1} P(B|A_{i}) P(A_{i})}$"
   ]
  },
  {
   "cell_type": "markdown",
   "metadata": {
    "collapsed": true
   },
   "source": [
    "2) _Go back to section 1.2.3 and come up with more possible definitions for the\n",
    "probability of the data._"
   ]
  },
  {
   "cell_type": "markdown",
   "metadata": {},
   "source": [
    "3) _Your particle detector measures energies with a resolution of 10 %.  You\n",
    "measure an energy, call it E. What probabilities would you assign to possible\n",
    "true values of the energy ? What can your conclusion depend on?_"
   ]
  },
  {
   "cell_type": "markdown",
   "metadata": {
    "collapsed": true
   },
   "source": [
    "4) _Mongolian swamp fever is such a rare disease that a doctor only expects\n",
    "to meet it once every 10000 patients.  It always produces spots and acute\n",
    "lethargy in a patient; usually (I.e., 60 % of cases) they suffer from a raging\n",
    "thirst, and occasionally (20 % of cases) from violent sneezes. These symp-\n",
    "toms can arise from other causes:  specifically, of patients that do not have\n",
    "the disease:  3 % have spots, 10 % are lethargic, 2 % are thirsty and 5 %\n",
    "complain of sneezing.  These four probabilities are independent.  What is\n",
    "your probability of having Mogolian swamp fever if you go to the doctor\n",
    "with all or with any three out of four of these symptoms? (From R.Barlow)_"
   ]
  },
  {
   "cell_type": "code",
   "execution_count": null,
   "metadata": {
    "collapsed": true
   },
   "outputs": [],
   "source": []
  }
 ],
 "metadata": {
  "kernelspec": {
   "display_name": "Python 2",
   "language": "python",
   "name": "python2"
  },
  "language_info": {
   "codemirror_mode": {
    "name": "ipython",
    "version": 2
   },
   "file_extension": ".py",
   "mimetype": "text/x-python",
   "name": "python",
   "nbconvert_exporter": "python",
   "pygments_lexer": "ipython2",
   "version": "2.7.13"
  }
 },
 "nbformat": 4,
 "nbformat_minor": 2
}
