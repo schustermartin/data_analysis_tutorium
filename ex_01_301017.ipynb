{
 "cells": [
  {
   "cell_type": "markdown",
   "metadata": {},
   "source": [
    "# Data Analysis: Tutorium 1"
   ]
  },
  {
   "cell_type": "markdown",
   "metadata": {},
   "source": [
    "## Exercise 1"
   ]
  },
  {
   "cell_type": "markdown",
   "metadata": {},
   "source": [
    "_You meet Jane on the street.  She tells you she has two children, and has\n",
    "pictures of them in her pocket.  She pulls out one picture, and shows it to\n",
    "you. It is a girl. What is the probability that the second child is also a girl ?\n",
    "Variation:  Jane takes out both pictures,  looks at them,  and is required to\n",
    "show you a picture of a girl if she has one. What is now the probability that\n",
    "the second child is also a girl?_"
   ]
  },
  {
   "cell_type": "markdown",
   "metadata": {},
   "source": [
    "Similar to the example in the lecture: Reasonable Assumption: Birthrates of Boys and Girls are both 50%.\n",
    "Initially, all the 4 possible combinations of boys/girls are equally probable (We have no reason to choose one over another. Laplaces Rule of insufficient reason).\n",
    "\n",
    "P(boy,boy) = P(boy,girl) = P(girl,boy) = P(girl,girl) = 1/4.\n",
    "\n",
    "After Jane shows us the first picture of the gril, we can rule out the \"boy,boy\" and \"boy,girl\" configurations, and are left with the remaining two again equally probalbe configurations. We expect P(2nd_child_girl|1st_child_girl) = P(G2|G1) = 1/2."
   ]
  },
  {
   "cell_type": "code",
   "execution_count": 32,
   "metadata": {},
   "outputs": [
    {
     "data": {
      "text/latex": [
       "Bayes' Theorem: \n",
       "\\begin{eqnarray}\n",
       "P(A|B) =& \\dfrac{P(B|A) P(A)}{\\sum^{N}_{i=1} P(B|A_{i}) P(A_{i})} \\\\\n",
       "\\rightarrow P(G2|G1) =& \\dfrac{P(G1|G2) P(G2)}{P(G1|B2)P(B2) + P(G1|G2)P(G2)}\\\\\n",
       "=& \\dfrac{\\dfrac{1}{2}\\cdot \\dfrac{1}{2}}{\\dfrac{1}{2}\\cdot \\dfrac{1}{2} + \\dfrac{1}{2}\\cdot \\dfrac{1}{2}} = \\dfrac{1}{2}\n",
       "\\end{eqnarray}"
      ],
      "text/plain": [
       "<IPython.core.display.Latex object>"
      ]
     },
     "metadata": {},
     "output_type": "display_data"
    }
   ],
   "source": [
    "%%latex \n",
    "Bayes' Theorem: \n",
    "\\begin{eqnarray}\n",
    "P(A|B) =& \\dfrac{P(B|A) P(A)}{\\sum^{N}_{i=1} P(B|A_{i}) P(A_{i})} \\\\\n",
    "\\rightarrow P(G2|G1) =& \\dfrac{P(G1|G2) P(G2)}{P(G1|B2)P(B2) + P(G1|G2)P(G2)}\\\\\n",
    "=& \\dfrac{\\dfrac{1}{2}\\cdot \\dfrac{1}{2}}{\\dfrac{1}{2}\\cdot \\dfrac{1}{2} + \\dfrac{1}{2}\\cdot \\dfrac{1}{2}} = \\dfrac{1}{2}\n",
    "\\end{eqnarray}"
   ]
  },
  {
   "cell_type": "markdown",
   "metadata": {},
   "source": [
    "### Variation:\n",
    "We call the Event that Jane shows us the picture of a Girl \"E\". In this case only the \"boy,boy\" configuration is ruled out (The \"boy,girl\" one is allowed). Again, using Bayes' Theorem:"
   ]
  },
  {
   "cell_type": "code",
   "execution_count": 39,
   "metadata": {},
   "outputs": [
    {
     "data": {
      "text/latex": [
       "\\begin{eqnarray}\n",
       "P(G2|E) =& \\dfrac{P(E|G2) P(G2)}{P(E|G2) P(G2) + P(E|B2) P(B2) + P(E|B1) P(B1)}\\\\\n",
       "=& \\dfrac{\\dfrac{1}{2} \\cdot \\dfrac{1}{2}}{\\dfrac{1}{2} \\cdot \\dfrac{1}{2} + \\dfrac{1}{2} \\cdot \\dfrac{1}{2} + \\dfrac{1}{2} \\cdot \\dfrac{1}{2}} = \\dfrac{1}{3}\n",
       "\\end{eqnarray}"
      ],
      "text/plain": [
       "<IPython.core.display.Latex object>"
      ]
     },
     "metadata": {},
     "output_type": "display_data"
    }
   ],
   "source": [
    "%%latex\n",
    "\\begin{eqnarray}\n",
    "P(G2|E) =& \\dfrac{P(E|G2) P(G2)}{P(E|G2) P(G2) + P(E|B2) P(B2) + P(E|B1) P(B1)}\\\\\n",
    "=& \\dfrac{\\dfrac{1}{2} \\cdot \\dfrac{1}{2}}{\\dfrac{1}{2} \\cdot \\dfrac{1}{2} + \\dfrac{1}{2} \\cdot \\dfrac{1}{2} + \\dfrac{1}{2} \\cdot \\dfrac{1}{2}} = \\dfrac{1}{3}\n",
    "\\end{eqnarray}"
   ]
  },
  {
   "cell_type": "markdown",
   "metadata": {},
   "source": [
    "\n",
    "\n",
    "## Exercise 2\n",
    "_Go back to section 1.2.3 and come up with more possible definitions for the\n",
    "probability of the data._"
   ]
  },
  {
   "cell_type": "markdown",
   "metadata": {},
   "source": [
    "One could ask: Whats is the Probability to get\n",
    "* a certain number of Switches (TH,HT) \n",
    "* a certain number of seqences of length 2 (TT,HH), 3(TTT,HHH)\n",
    "* an even/odd number of T/H\n",
    "* etc... "
   ]
  },
  {
   "cell_type": "markdown",
   "metadata": {},
   "source": [
    "## Exercise 3\n",
    "_Your particle detector measures energies with a resolution of 10 %.  You\n",
    "measure an energy, call it E. What probabilities would you assign to possible\n",
    "true values of the energy ? What can your conclusion depend on?_"
   ]
  },
  {
   "cell_type": "code",
   "execution_count": 44,
   "metadata": {},
   "outputs": [
    {
     "data": {
      "text/latex": [
       "If we write down Bayes' theroem in this case, $E=E_{exp}$:\n",
       "\\begin{eqnarray}\n",
       "P(E_{true}|E_{exp}) = \\dfrac{P(E_{exp}|E_{true}) P(E_{true})}{P(E_{exp})}\n",
       "\\end{eqnarray}"
      ],
      "text/plain": [
       "<IPython.core.display.Latex object>"
      ]
     },
     "metadata": {},
     "output_type": "display_data"
    }
   ],
   "source": [
    "%%latex\n",
    "If we write down Bayes' theroem in this case, $E=E_{exp}$:\n",
    "\\begin{eqnarray}\n",
    "P(E_{true}|E_{exp}) = \\dfrac{P(E_{exp}|E_{true}) P(E_{true})}{P(E_{exp})}\n",
    "\\end{eqnarray}"
   ]
  },
  {
   "cell_type": "markdown",
   "metadata": {
    "collapsed": true
   },
   "source": [
    "## Exercise 4\n",
    "_Mongolian swamp fever is such a rare disease that a doctor only expects\n",
    "to meet it once every 10000 patients.  It always produces spots and acute\n",
    "lethargy in a patient; usually (I.e., 60 % of cases) they suffer from a raging\n",
    "thirst, and occasionally (20 % of cases) from violent sneezes. These symp-\n",
    "toms can arise from other causes:  specifically, of patients that do not have\n",
    "the disease:  3 % have spots, 10 % are lethargic, 2 % are thirsty and 5 %\n",
    "complain of sneezing.  These four probabilities are independent.  What is\n",
    "your probability of having Mogolian swamp fever if you go to the doctor\n",
    "with all or with any three out of four of these symptoms? (From R.Barlow)_"
   ]
  },
  {
   "cell_type": "code",
   "execution_count": null,
   "metadata": {
    "collapsed": true
   },
   "outputs": [],
   "source": []
  }
 ],
 "metadata": {
  "kernelspec": {
   "display_name": "Python 2",
   "language": "python",
   "name": "python2"
  },
  "language_info": {
   "codemirror_mode": {
    "name": "ipython",
    "version": 2
   },
   "file_extension": ".py",
   "mimetype": "text/x-python",
   "name": "python",
   "nbconvert_exporter": "python",
   "pygments_lexer": "ipython2",
   "version": "2.7.13"
  }
 },
 "nbformat": 4,
 "nbformat_minor": 2
}
